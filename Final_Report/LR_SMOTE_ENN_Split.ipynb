{
 "cells": [
  {
   "cell_type": "markdown",
   "metadata": {},
   "source": [
    "**Predicting Recidivism Using Logistic Regression [Combined SMOTE and ENN]**"
   ]
  },
  {
   "cell_type": "markdown",
   "metadata": {},
   "source": [
    "The notebook uses random forest classifier to train and predict recidivism using data from the state of Iowa. The cleaned dataset consists of 21,611 rows and 17 columns. One of the columns, whether an individual returned to prison within 3 years of release, is used as the label [target feature]. Five of the attributes ['Recidivism Type','Days to Recidivism','New Conviction Offense Classification','New Conviction Offense Type','New Conviction Offense Sub Type'] represent information collected for recidivist prisoners and hence are not considered with the predictor features. \n",
    "\n",
    "The data shows 7,027 individuals returned to prison; therefore the positive to negative class ratio is ~1 : 2. Although not as extreme as in problems in areas such as fraud detection and infant mortality, there is imbalance in the data that requires balancing the data before applying machine learning algorithms. In this notebook,I use SMOTEENN from sklearn to oversample and clean the data.\n",
    "\n",
    "SMOTEENN over-samples the minority class by generating new synthetic samples using interpolation (SMOTE) and cleans noisy samples using ENN. "
   ]
  },
  {
   "cell_type": "markdown",
   "metadata": {},
   "source": [
    "**Import Libraries**"
   ]
  },
  {
   "cell_type": "code",
   "execution_count": 22,
   "metadata": {
    "collapsed": true
   },
   "outputs": [],
   "source": [
    "import matplotlib\n",
    "import numpy as np\n",
    "import pandas as pd\n",
    "import os.path\n",
    "import matplotlib.pyplot as plt\n",
    "import matplotlib.patches as patches\n",
    "%matplotlib inline"
   ]
  },
  {
   "cell_type": "markdown",
   "metadata": {},
   "source": [
    "**Load cleaned data**"
   ]
  },
  {
   "cell_type": "code",
   "execution_count": 23,
   "metadata": {
    "collapsed": true
   },
   "outputs": [],
   "source": [
    "recidivism_data = pd.read_pickle('RecidivismData_forAnalysis')"
   ]
  },
  {
   "cell_type": "markdown",
   "metadata": {},
   "source": [
    "**Look at the dimension of the dataset**"
   ]
  },
  {
   "cell_type": "code",
   "execution_count": 24,
   "metadata": {},
   "outputs": [
    {
     "data": {
      "text/plain": [
       "(21611, 17)"
      ]
     },
     "execution_count": 24,
     "metadata": {},
     "output_type": "execute_result"
    }
   ],
   "source": [
    "recidivism_data.shape"
   ]
  },
  {
   "cell_type": "markdown",
   "metadata": {},
   "source": [
    "**Look at the list of the attributes**"
   ]
  },
  {
   "cell_type": "code",
   "execution_count": 25,
   "metadata": {},
   "outputs": [
    {
     "data": {
      "text/plain": [
       "['Fiscal Year Released',\n",
       " 'Recidivism Reporting Year',\n",
       " 'Race - Ethnicity',\n",
       " 'Sex',\n",
       " 'Age At Release ',\n",
       " 'Convicting Offense Classification',\n",
       " 'Convicting Offense Type',\n",
       " 'Convicting Offense Subtype',\n",
       " 'Release Type',\n",
       " 'Main Supervising District',\n",
       " 'Recidivism - Return to Prison',\n",
       " 'Recidivism Type',\n",
       " 'Days to Recidivism',\n",
       " 'New Conviction Offense Classification',\n",
       " 'New Conviction Offense Type',\n",
       " 'New Conviction Offense Sub Type',\n",
       " 'Part of Target Population']"
      ]
     },
     "execution_count": 25,
     "metadata": {},
     "output_type": "execute_result"
    }
   ],
   "source": [
    "list(recidivism_data.columns)"
   ]
  },
  {
   "cell_type": "markdown",
   "metadata": {},
   "source": [
    "**Drop columns of information collected after recidivism**"
   ]
  },
  {
   "cell_type": "code",
   "execution_count": 26,
   "metadata": {
    "collapsed": true
   },
   "outputs": [],
   "source": [
    "recidivism_data.drop(['Recidivism Type','Days to Recidivism','New Conviction Offense Classification','New Conviction Offense Type','New Conviction Offense Sub Type'], axis = 1, inplace = True)"
   ]
  },
  {
   "cell_type": "code",
   "execution_count": 27,
   "metadata": {
    "collapsed": true
   },
   "outputs": [],
   "source": [
    "#remove any spaces around the attribute name\n",
    "recidivism_data.rename(columns=lambda x: x.strip(),inplace = True)"
   ]
  },
  {
   "cell_type": "code",
   "execution_count": 28,
   "metadata": {
    "collapsed": true
   },
   "outputs": [],
   "source": [
    "#convert \"Yes\"/\"No\" to \"1\"/\"0\" for manipulation by LogisticRegression\n",
    "recidivism_data = recidivism_data.replace({\"Recidivism - Return to Prison\":[\"Yes\",\"No\"]},{\"Recidivism - Return to Prison\":[\"1\",\"0\"]})"
   ]
  },
  {
   "cell_type": "code",
   "execution_count": 29,
   "metadata": {
    "collapsed": true
   },
   "outputs": [],
   "source": [
    "categorical_attribute = ['Race - Ethnicity','Sex','Age At Release','Convicting Offense Classification',\n",
    "                         'Convicting Offense Type','Convicting Offense Subtype','Release Type',\n",
    "                         'Main Supervising District','Part of Target Population']"
   ]
  },
  {
   "cell_type": "code",
   "execution_count": 30,
   "metadata": {
    "collapsed": true
   },
   "outputs": [],
   "source": [
    "numerical_attribute = ['Fiscal Year Released','Recidivism Reporting Year']"
   ]
  },
  {
   "cell_type": "code",
   "execution_count": 31,
   "metadata": {
    "collapsed": true
   },
   "outputs": [],
   "source": [
    "binary_attribute = ['Recidivism - Return to Prison']"
   ]
  },
  {
   "cell_type": "code",
   "execution_count": 32,
   "metadata": {},
   "outputs": [
    {
     "data": {
      "text/plain": [
       "(9, 2, 1)"
      ]
     },
     "execution_count": 32,
     "metadata": {},
     "output_type": "execute_result"
    }
   ],
   "source": [
    "len(categorical_attribute), len(numerical_attribute), len(binary_attribute)"
   ]
  },
  {
   "cell_type": "markdown",
   "metadata": {},
   "source": [
    "**Convert string type to int for numerical and binary attribute**"
   ]
  },
  {
   "cell_type": "code",
   "execution_count": 33,
   "metadata": {
    "collapsed": true
   },
   "outputs": [],
   "source": [
    "for i in numerical_attribute:\n",
    "    recidivism_data['%s' % i] = recidivism_data['%s' % i].astype(int)"
   ]
  },
  {
   "cell_type": "code",
   "execution_count": 34,
   "metadata": {
    "collapsed": true
   },
   "outputs": [],
   "source": [
    "for i in binary_attribute:\n",
    "    recidivism_data['%s' % i] = recidivism_data['%s' % i].astype(int)"
   ]
  },
  {
   "cell_type": "markdown",
   "metadata": {},
   "source": [
    "**Encode categorical attributes**"
   ]
  },
  {
   "cell_type": "code",
   "execution_count": 35,
   "metadata": {},
   "outputs": [
    {
     "data": {
      "text/plain": [
       "(21611, 91)"
      ]
     },
     "execution_count": 35,
     "metadata": {},
     "output_type": "execute_result"
    }
   ],
   "source": [
    "df = pd.get_dummies(recidivism_data, prefix=categorical_attribute, columns=categorical_attribute)\n",
    "df.shape"
   ]
  },
  {
   "cell_type": "code",
   "execution_count": 36,
   "metadata": {},
   "outputs": [
    {
     "data": {
      "text/plain": [
       "0    14584\n",
       "1     7027\n",
       "Name: Recidivism - Return to Prison, dtype: int64"
      ]
     },
     "execution_count": 36,
     "metadata": {},
     "output_type": "execute_result"
    }
   ],
   "source": [
    "df['Recidivism - Return to Prison'].value_counts()"
   ]
  },
  {
   "cell_type": "code",
   "execution_count": 37,
   "metadata": {
    "collapsed": true
   },
   "outputs": [],
   "source": [
    "df_features = list(df.columns)\n",
    "df_features.remove('Recidivism - Return to Prison')\n",
    "df_features.remove('Fiscal Year Released')\n",
    "df_features.remove('Recidivism Reporting Year')"
   ]
  },
  {
   "cell_type": "code",
   "execution_count": 38,
   "metadata": {
    "collapsed": true
   },
   "outputs": [],
   "source": [
    "import sklearn\n",
    "from sklearn.model_selection import train_test_split\n",
    "from sklearn.linear_model import LogisticRegression\n",
    "from sklearn.metrics import accuracy_score\n",
    "from sklearn.model_selection import KFold\n",
    "from sklearn.model_selection import GridSearchCV\n",
    "from sklearn.metrics import average_precision_score\n",
    "from sklearn.metrics import confusion_matrix\n",
    "from imblearn.under_sampling import RandomUnderSampler\n",
    "from collections import Counter\n",
    "from sklearn.metrics import classification_report\n",
    "from imblearn.under_sampling import TomekLinks\n",
    "from imblearn.over_sampling import SMOTE, ADASYN\n",
    "from imblearn.combine import SMOTEENN"
   ]
  },
  {
   "cell_type": "code",
   "execution_count": 39,
   "metadata": {
    "collapsed": true
   },
   "outputs": [],
   "source": [
    "def cv_optimize(clf, parameters, Xtrain, ytrain, n_folds=5):\n",
    "    gs = sklearn.model_selection.GridSearchCV(clf, param_grid=parameters, cv=n_folds)\n",
    "    gs.fit(Xtrain, ytrain)\n",
    "    print(\"BEST PARAMS\", gs.best_params_)\n",
    "    best = gs.best_estimator_\n",
    "    return best"
   ]
  },
  {
   "cell_type": "code",
   "execution_count": 40,
   "metadata": {
    "collapsed": true
   },
   "outputs": [],
   "source": [
    "def do_classify(clf, parameters, indf, featurenames, targetname, target1val, standardize=False, train_size=0.8,\n",
    "               test_size=0.2):\n",
    "    subdf=indf[featurenames]\n",
    "    if standardize:\n",
    "        subdfstd=(subdf - subdf.mean())/subdf.std()\n",
    "    else:\n",
    "        subdfstd=subdf\n",
    "    X=subdfstd.values\n",
    "    y=(indf[targetname].values==target1val)*1\n",
    "    X_resampled, y_resampled = SMOTEENN().fit_sample(X, y)\n",
    "    Xtrain, Xtest, ytrain, ytest = train_test_split(X_resampled, y_resampled, train_size=train_size)\n",
    "    clf = cv_optimize(clf, parameters, Xtrain, ytrain)\n",
    "    clf=clf.fit(Xtrain, ytrain)\n",
    "    training_accuracy = clf.score(Xtrain, ytrain)\n",
    "    test_accuracy = clf.score(Xtest, ytest)\n",
    "    y_score = clf.decision_function(Xtest)\n",
    "    ytrain_score = clf.decision_function(Xtrain)\n",
    "    test_average_precision = average_precision_score(ytest, y_score)\n",
    "    train_average_precision = average_precision_score(ytrain, ytrain_score)\n",
    "    print(\"Accuracy on training data: {:0.2f}\".format(training_accuracy))\n",
    "    print(\"Accuracy on test data:     {:0.2f}\".format(test_accuracy))\n",
    "    print('Average test precision score: {0:0.2f}'.format(test_average_precision))\n",
    "    print('Average train precision score: {0:0.2f}'.format(train_average_precision))\n",
    "    return clf, Xtrain, ytrain, Xtest, ytest,y_score,ytrain_score"
   ]
  },
  {
   "cell_type": "code",
   "execution_count": 41,
   "metadata": {},
   "outputs": [
    {
     "name": "stderr",
     "output_type": "stream",
     "text": [
      "/anaconda3/lib/python3.6/site-packages/sklearn/model_selection/_split.py:2026: FutureWarning: From version 0.21, test_size will always complement train_size unless both are specified.\n",
      "  FutureWarning)\n"
     ]
    },
    {
     "name": "stdout",
     "output_type": "stream",
     "text": [
      "BEST PARAMS {'C': 1}\n",
      "Accuracy on training data: 0.87\n",
      "Accuracy on test data:     0.87\n",
      "Average test precision score: 0.96\n",
      "Average train precision score: 0.95\n"
     ]
    }
   ],
   "source": [
    "clf_l, Xtrain_l, ytrain_l, Xtest_l, ytest_l,yscore_1,ytrain_score_l  = do_classify(LogisticRegression(), \n",
    "                                                           {\"C\": [0.001, 0.01, 0.1, 1, 10, 100]}, \n",
    "                                                           df, df_features, 'Recidivism - Return to Prison',1)"
   ]
  },
  {
   "cell_type": "code",
   "execution_count": 42,
   "metadata": {},
   "outputs": [
    {
     "data": {
      "image/png": "[encoded data removed]",
      "text/plain": [
       "<matplotlib.figure.Figure at 0x10cd99710>"
      ]
     },
     "metadata": {},
     "output_type": "display_data"
    }
   ],
   "source": [
    "from matplotlib import rcParams\n",
    "confmat_test = confusion_matrix(ytest_l, clf_l.predict(Xtest_l))\n",
    "rcParams['axes.titlepad'] = 20 \n",
    "fig, ax = plt.subplots(figsize=(6, 6))\n",
    "ax.matshow(confmat_test, cmap=plt.cm.cool, alpha=0.3)\n",
    "for i in range(confmat_test.shape[0]):\n",
    "    for j in range(confmat_test.shape[1]):\n",
    "        ax.text(x=j, y=i, s=confmat_test[i, j], va='center', ha='center',fontsize=18,bbox=dict(facecolor='white', alpha=0.5))\n",
    "matplotlib.rc('xtick', labelsize=14) \n",
    "matplotlib.rc('ytick', labelsize=14) \n",
    "plt.xlabel('Predicted Label',size=16)\n",
    "plt.ylabel('True Label',size=16)\n",
    "plt.title('Confusion Matrix for the Test Set',size=18)\n",
    "plt.tight_layout()\n",
    "plt.savefig('LR_SMOTE_ENN_Split_confusion_matrix_test.eps',format = 'eps',dpi = 1300)\n",
    "plt.show()"
   ]
  },
  {
   "cell_type": "code",
   "execution_count": 43,
   "metadata": {
    "collapsed": true
   },
   "outputs": [],
   "source": [
    "SS_train = Xtrain_l.shape[0] \n",
    "SS_test = Xtest_l.shape[0]\n",
    "PP_train = round(np.sum(ytrain_l)/SS_train,3)\n",
    "NP_train = round(np.sum(ytrain_l == 0)/SS_train,3)\n",
    "PP_test = round(np.sum(ytest_l)/SS_test,3)\n",
    "NP_test = round(np.sum(ytest_l == 0)/SS_test,3)"
   ]
  },
  {
   "cell_type": "code",
   "execution_count": 44,
   "metadata": {
    "collapsed": true
   },
   "outputs": [],
   "source": [
    "TN_test, FP_test, FN_test, TP_test = confusion_matrix(ytest_l,clf_l.predict(Xtest_l)).ravel()"
   ]
  },
  {
   "cell_type": "code",
   "execution_count": 45,
   "metadata": {},
   "outputs": [
    {
     "name": "stdout",
     "output_type": "stream",
     "text": [
      "1373 1053 102 256\n"
     ]
    }
   ],
   "source": [
    "print(TN_test,TP_test,FP_test,FN_test)"
   ]
  },
  {
   "cell_type": "code",
   "execution_count": 46,
   "metadata": {
    "collapsed": true
   },
   "outputs": [],
   "source": [
    "TPR_test = round(TP_test/(TP_test+FN_test),3) #true positive rate (Recall)\n",
    "\n",
    "TNR_test = round(TN_test/(TN_test+FP_test),3) #true negative rate (Specifity)\n",
    "\n",
    "PPV_test = round(TP_test/(TP_test+FP_test),3) #positive predictive value (Precision)\n",
    "\n",
    "NPV_test = round(TN_test/(TN_test+FN_test),3) # Negative predictive value\n",
    "\n",
    "FPR_test = round(FP_test/(FP_test+TN_test),3) # Fall out or false positive rate\n",
    "\n",
    "FNR_test = round(FN_test/(TP_test+FN_test),3) # False negative rate\n",
    "\n",
    "FDR_test = round(FP_test/(TP_test+FP_test),3) # False discovery rate\n",
    "\n",
    "ACC_test = round((TP_test+TN_test)/(TP_test+FP_test+FN_test+TN_test),3) # Overall accuracy"
   ]
  },
  {
   "cell_type": "code",
   "execution_count": 47,
   "metadata": {},
   "outputs": [
    {
     "name": "stdout",
     "output_type": "stream",
     "text": [
      "             precision    recall  f1-score   support\n",
      "\n",
      "          0       0.84      0.93      0.88      1475\n",
      "          1       0.91      0.80      0.85      1309\n",
      "\n",
      "avg / total       0.88      0.87      0.87      2784\n",
      "\n"
     ]
    }
   ],
   "source": [
    "print(classification_report(ytest_l, clf_l.predict(Xtest_l)))"
   ]
  },
  {
   "cell_type": "markdown",
   "metadata": {},
   "source": [
    "**Precision-Recall Curve**"
   ]
  },
  {
   "cell_type": "code",
   "execution_count": 48,
   "metadata": {},
   "outputs": [
    {
     "data": {
      "image/png": "[encoded data removed]",
      "text/plain": [
       "<matplotlib.figure.Figure at 0x110469dd8>"
      ]
     },
     "metadata": {},
     "output_type": "display_data"
    }
   ],
   "source": [
    "from sklearn.metrics import precision_recall_curve\n",
    "precision_test, recall_test, _ = precision_recall_curve(ytest_l, yscore_1)\n",
    "rcParams['axes.titlepad'] = 12 \n",
    "plt.step(recall_test, precision_test, color='r', alpha=0.2,where='post')\n",
    "plt.fill_between(recall_test, precision_test, step='post', alpha=0.2,color='r')\n",
    "matplotlib.rc('xtick', labelsize=14) \n",
    "matplotlib.rc('ytick', labelsize=14) \n",
    "plt.xlabel('Recall',size=16)\n",
    "plt.ylabel('Precision',size=16)\n",
    "plt.ylim([0.0, 1.0])\n",
    "plt.xlim([0.0, 1.0])\n",
    "plt.title('Precision-Recall Curve',size=20)\n",
    "plt.tight_layout()\n",
    "plt.savefig('LR_SMOTE_ENN_Split_precision_recall_test.png',format = 'png')"
   ]
  },
  {
   "cell_type": "code",
   "execution_count": 49,
   "metadata": {},
   "outputs": [
    {
     "data": {
      "text/plain": [
       "((11135, 88), (11135,), (2784, 88), (2784,))"
      ]
     },
     "execution_count": 49,
     "metadata": {},
     "output_type": "execute_result"
    }
   ],
   "source": [
    "Xtrain_l.shape, ytrain_l.shape, Xtest_l.shape, ytest_l.shape"
   ]
  },
  {
   "cell_type": "markdown",
   "metadata": {},
   "source": [
    "***Receiver Operating Characteristic***"
   ]
  },
  {
   "cell_type": "code",
   "execution_count": 69,
   "metadata": {},
   "outputs": [
    {
     "data": {
      "image/png": "[encoded data removed]",
      "text/plain": [
       "<matplotlib.figure.Figure at 0x110aa1208>"
      ]
     },
     "metadata": {},
     "output_type": "display_data"
    }
   ],
   "source": [
    "from sklearn.metrics import roc_curve, auc\n",
    "fpr1_test, tpr1_test, _ = roc_curve(ytest_l, yscore_1)\n",
    "roc_auc_test = auc(fpr1_test, tpr1_test)\n",
    "plt.title('Receiver Operating Characteristic',size=18)\n",
    "plt.plot(fpr1_test, tpr1_test, 'b',label='AUC = %0.2f'% roc_auc_test)\n",
    "matplotlib.rc('xtick', labelsize=14) \n",
    "matplotlib.rc('ytick', labelsize=14) \n",
    "rcParams['axes.titlepad'] = 20 \n",
    "plt.legend(loc='lower right')\n",
    "plt.plot([0,1],[0,1],'r--')\n",
    "plt.xlim([-0.005,1.0])\n",
    "plt.ylim([-0.005,1.0])\n",
    "plt.ylabel('True Positive Rate',size=16)\n",
    "plt.xlabel('False Positive Rate',size=16)\n",
    "plt.tight_layout()\n",
    "plt.savefig('LR_SMOTE_ENN_Split_ROC_test.eps',format = 'eps',dpi = 1300)\n",
    "plt.show()"
   ]
  },
  {
   "cell_type": "code",
   "execution_count": 51,
   "metadata": {},
   "outputs": [
    {
     "name": "stdout",
     "output_type": "stream",
     "text": [
      "[[1373  102]\n",
      " [ 256 1053]]\n"
     ]
    }
   ],
   "source": [
    "from sklearn.metrics import confusion_matrix\n",
    "cm_test = confusion_matrix(ytest_l,clf_l.predict(Xtest_l))\n",
    "print(cm_test)\n",
    "cmt_test = pd.DataFrame(cm_test)"
   ]
  },
  {
   "cell_type": "markdown",
   "metadata": {},
   "source": [
    "### Confusion matrix for training data"
   ]
  },
  {
   "cell_type": "code",
   "execution_count": 52,
   "metadata": {},
   "outputs": [
    {
     "data": {
      "image/png": "[encoded data removed]",
      "text/plain": [
       "<matplotlib.figure.Figure at 0x110e951d0>"
      ]
     },
     "metadata": {},
     "output_type": "display_data"
    }
   ],
   "source": [
    "confmat_train = confusion_matrix(ytrain_l, clf_l.predict(Xtrain_l))\n",
    "fig, ax = plt.subplots(figsize=(6, 6))\n",
    "ax.matshow(confmat_train, cmap=plt.cm.cool, alpha=0.3)\n",
    "for i in range(confmat_train.shape[0]):\n",
    "    for j in range(confmat_train.shape[1]):\n",
    "        ax.text(x=j, y=i, s=confmat_train[i, j], va='center', ha='center',fontsize=18,bbox=dict(facecolor='white', alpha=0.5))\n",
    "matplotlib.rc('xtick', labelsize=14) \n",
    "matplotlib.rc('ytick', labelsize=14) \n",
    "plt.xlabel('Predicted Label',size=16)\n",
    "plt.ylabel('True Label',size=16)\n",
    "plt.title('Confusion Matrix for the Train Set',size=18)\n",
    "plt.tight_layout()\n",
    "plt.savefig('LR_SMOTE_ENN_Split_Confusion_matrix_train.eps',format = 'eps',dpi = 1300)\n",
    "plt.show()"
   ]
  },
  {
   "cell_type": "code",
   "execution_count": 53,
   "metadata": {
    "collapsed": true
   },
   "outputs": [],
   "source": [
    "TN_train,FP_train,FN_train,TP_train = confusion_matrix(ytrain_l,clf_l.predict(Xtrain_l)).ravel()"
   ]
  },
  {
   "cell_type": "code",
   "execution_count": 54,
   "metadata": {},
   "outputs": [
    {
     "name": "stdout",
     "output_type": "stream",
     "text": [
      "5487 4188 399 1061\n"
     ]
    }
   ],
   "source": [
    "print(TN_train,TP_train,FP_train,FN_train)"
   ]
  },
  {
   "cell_type": "code",
   "execution_count": 55,
   "metadata": {
    "collapsed": true
   },
   "outputs": [],
   "source": [
    "TPR_train = round(TP_train/(TP_train+FN_train),3) #true positive rate (Recall)\n",
    "\n",
    "TNR_train = round(TN_train/(TN_train+FP_train),3) #true negative rate (Specifity)\n",
    "\n",
    "PPV_train = round(TP_train/(TP_train+FP_train),3) #positive predictive value (Precision)\n",
    "\n",
    "NPV_train = round(TN_train/(TN_train+FN_train),3) # Negative predictive value\n",
    "\n",
    "FPR_train = round(FP_train/(FP_train+TN_train),3) # Fall out or false positive rate\n",
    "\n",
    "FNR_train = round(FN_train/(TP_train+FN_train),3) # False negative rate\n",
    "\n",
    "FDR_train = round(FP_train/(TP_train+FP_train),3) # False discovery rate\n",
    "\n",
    "ACC_train = round((TP_train+TN_train)/(TP_train+FP_train+FN_train+TN_train),3) # Overall accuracy"
   ]
  },
  {
   "cell_type": "code",
   "execution_count": 56,
   "metadata": {},
   "outputs": [
    {
     "name": "stdout",
     "output_type": "stream",
     "text": [
      "             precision    recall  f1-score   support\n",
      "\n",
      "          0       0.84      0.93      0.88      5886\n",
      "          1       0.91      0.80      0.85      5249\n",
      "\n",
      "avg / total       0.87      0.87      0.87     11135\n",
      "\n"
     ]
    }
   ],
   "source": [
    "print(classification_report(ytrain_l, clf_l.predict(Xtrain_l)))"
   ]
  },
  {
   "cell_type": "markdown",
   "metadata": {},
   "source": [
    "**Precision-Recall Curve**"
   ]
  },
  {
   "cell_type": "code",
   "execution_count": 57,
   "metadata": {},
   "outputs": [
    {
     "data": {
      "image/png": "[encoded data removed]",
      "text/plain": [
       "<matplotlib.figure.Figure at 0x110e867b8>"
      ]
     },
     "metadata": {},
     "output_type": "display_data"
    }
   ],
   "source": [
    "from sklearn.metrics import precision_recall_curve\n",
    "precision_train, recall_train, _ = precision_recall_curve(ytrain_l, ytrain_score_l)\n",
    "rcParams['axes.titlepad'] = 12 \n",
    "plt.step(recall_train, precision_train, color='r', alpha=0.2,where='post')\n",
    "plt.fill_between(recall_train, precision_train, step='post', alpha=0.2,color='r')\n",
    "matplotlib.rc('xtick', labelsize=14) \n",
    "matplotlib.rc('ytick', labelsize=14) \n",
    "plt.xlabel('Recall',size=16)\n",
    "plt.ylabel('Precision',size=16)\n",
    "plt.ylim([0.0, 1.0])\n",
    "plt.xlim([0.0, 1.0])\n",
    "plt.title('Precision-Recall Curve',size=20)\n",
    "plt.tight_layout()\n",
    "plt.savefig('LR_SMOTE_ENN_Split_Precision_Recall_train.png',format = 'png')"
   ]
  },
  {
   "cell_type": "markdown",
   "metadata": {},
   "source": [
    "***Receiver Operating Characteristic***"
   ]
  },
  {
   "cell_type": "code",
   "execution_count": 70,
   "metadata": {},
   "outputs": [
    {
     "data": {
      "image/png": "[encoded data removed]",
      "text/plain": [
       "<matplotlib.figure.Figure at 0x10f264080>"
      ]
     },
     "metadata": {},
     "output_type": "display_data"
    }
   ],
   "source": [
    "fpr1_train, tpr1_train, _ = roc_curve(ytrain_l, ytrain_score_l)\n",
    "roc_auc_train = auc(fpr1_train, tpr1_train)\n",
    "plt.title('Receiver Operating Characteristic',size=18)\n",
    "plt.plot(fpr1_train, tpr1_train, 'b',label='AUC = %0.2f'% roc_auc_train)\n",
    "matplotlib.rc('xtick', labelsize=14) \n",
    "matplotlib.rc('ytick', labelsize=14) \n",
    "rcParams['axes.titlepad'] = 20 \n",
    "plt.legend(loc='lower right')\n",
    "plt.plot([0,1],[0,1],'r--')\n",
    "plt.xlim([-0.005,1.0])\n",
    "plt.ylim([-0.005,1.0])\n",
    "plt.ylabel('True Positive Rate',size=16)\n",
    "plt.xlabel('False Positive Rate',size=16)\n",
    "plt.tight_layout()\n",
    "plt.savefig('LR_SMOTE_ENN_Split_ROC_train.eps',format = 'eps',dpi = 1300)\n",
    "plt.show()"
   ]
  },
  {
   "cell_type": "code",
   "execution_count": 59,
   "metadata": {
    "collapsed": true
   },
   "outputs": [],
   "source": [
    "performance_data = np.array([['','PP','NP','SS','ACCURACY','PRECISION','RECALL','TNR'],\n",
    "                             ['Training Set',PP_train,NP_train,SS_train,ACC_train,PPV_train,TPR_train,TNR_train],\n",
    "                             ['Test Set',PP_test,NP_test,SS_test,ACC_test,PPV_test,TPR_test,TNR_test]])"
   ]
  },
  {
   "cell_type": "code",
   "execution_count": 60,
   "metadata": {
    "collapsed": true
   },
   "outputs": [],
   "source": [
    "performance_table = pd.DataFrame(data=performance_data[1:,1:],\n",
    "                      index=performance_data[1:,0],\n",
    "                      columns=performance_data[0,1:])"
   ]
  },
  {
   "cell_type": "code",
   "execution_count": 61,
   "metadata": {},
   "outputs": [
    {
     "data": {
      "text/html": [
       "<div>\n",
       "<style>\n",
       "    .dataframe thead tr:only-child th {\n",
       "        text-align: right;\n",
       "    }\n",
       "\n",
       "    .dataframe thead th {\n",
       "        text-align: left;\n",
       "    }\n",
       "\n",
       "    .dataframe tbody tr th {\n",
       "        vertical-align: top;\n",
       "    }\n",
       "</style>\n",
       "<table border=\"1\" class=\"dataframe\">\n",
       "  <thead>\n",
       "    <tr style=\"text-align: right;\">\n",
       "      <th></th>\n",
       "      <th>PP</th>\n",
       "      <th>NP</th>\n",
       "      <th>SS</th>\n",
       "      <th>ACCURACY</th>\n",
       "      <th>PRECISION</th>\n",
       "      <th>RECALL</th>\n",
       "      <th>TNR</th>\n",
       "    </tr>\n",
       "  </thead>\n",
       "  <tbody>\n",
       "    <tr>\n",
       "      <th>Training Set</th>\n",
       "      <td>0.471</td>\n",
       "      <td>0.529</td>\n",
       "      <td>11135</td>\n",
       "      <td>0.869</td>\n",
       "      <td>0.913</td>\n",
       "      <td>0.798</td>\n",
       "      <td>0.932</td>\n",
       "    </tr>\n",
       "    <tr>\n",
       "      <th>Test Set</th>\n",
       "      <td>0.47</td>\n",
       "      <td>0.53</td>\n",
       "      <td>2784</td>\n",
       "      <td>0.871</td>\n",
       "      <td>0.912</td>\n",
       "      <td>0.804</td>\n",
       "      <td>0.931</td>\n",
       "    </tr>\n",
       "  </tbody>\n",
       "</table>\n",
       "</div>"
      ],
      "text/plain": [
       "                 PP     NP     SS ACCURACY PRECISION RECALL    TNR\n",
       "Training Set  0.471  0.529  11135    0.869     0.913  0.798  0.932\n",
       "Test Set       0.47   0.53   2784    0.871     0.912  0.804  0.931"
      ]
     },
     "execution_count": 61,
     "metadata": {},
     "output_type": "execute_result"
    }
   ],
   "source": [
    "\n",
    "performance_table"
   ]
  },
  {
   "cell_type": "code",
   "execution_count": 62,
   "metadata": {},
   "outputs": [
    {
     "data": {
      "text/plain": [
       "(1, 88)"
      ]
     },
     "execution_count": 62,
     "metadata": {},
     "output_type": "execute_result"
    }
   ],
   "source": [
    "clf_l.coef_.shape"
   ]
  },
  {
   "cell_type": "code",
   "execution_count": 63,
   "metadata": {
    "collapsed": true
   },
   "outputs": [],
   "source": [
    "coefficients = pd.concat([pd.DataFrame(df_features),pd.DataFrame(np.transpose(clf_l.coef_))], axis = 1)"
   ]
  },
  {
   "cell_type": "code",
   "execution_count": 64,
   "metadata": {
    "collapsed": true
   },
   "outputs": [],
   "source": [
    "coefficients.columns = ['attributes','coefficient']\n",
    "coefficients['abs_coefficient'] = coefficients['coefficient'].abs()"
   ]
  },
  {
   "cell_type": "code",
   "execution_count": 65,
   "metadata": {},
   "outputs": [
    {
     "data": {
      "text/html": [
       "<div>\n",
       "<style>\n",
       "    .dataframe thead tr:only-child th {\n",
       "        text-align: right;\n",
       "    }\n",
       "\n",
       "    .dataframe thead th {\n",
       "        text-align: left;\n",
       "    }\n",
       "\n",
       "    .dataframe tbody tr th {\n",
       "        vertical-align: top;\n",
       "    }\n",
       "</style>\n",
       "<table border=\"1\" class=\"dataframe\">\n",
       "  <thead>\n",
       "    <tr style=\"text-align: right;\">\n",
       "      <th></th>\n",
       "      <th>attributes</th>\n",
       "      <th>coefficient</th>\n",
       "      <th>abs_coefficient</th>\n",
       "    </tr>\n",
       "  </thead>\n",
       "  <tbody>\n",
       "    <tr>\n",
       "      <th>46</th>\n",
       "      <td>Convicting Offense Subtype_Murder/Manslaughter</td>\n",
       "      <td>-3.558538</td>\n",
       "      <td>3.558538</td>\n",
       "    </tr>\n",
       "    <tr>\n",
       "      <th>84</th>\n",
       "      <td>Main Supervising District_Interstate Compact</td>\n",
       "      <td>-3.484058</td>\n",
       "      <td>3.484058</td>\n",
       "    </tr>\n",
       "    <tr>\n",
       "      <th>85</th>\n",
       "      <td>Main Supervising District_Unknown</td>\n",
       "      <td>-3.411642</td>\n",
       "      <td>3.411642</td>\n",
       "    </tr>\n",
       "    <tr>\n",
       "      <th>83</th>\n",
       "      <td>Main Supervising District_ISC</td>\n",
       "      <td>-2.749562</td>\n",
       "      <td>2.749562</td>\n",
       "    </tr>\n",
       "    <tr>\n",
       "      <th>53</th>\n",
       "      <td>Convicting Offense Subtype_Robbery</td>\n",
       "      <td>-2.728070</td>\n",
       "      <td>2.728070</td>\n",
       "    </tr>\n",
       "    <tr>\n",
       "      <th>15</th>\n",
       "      <td>Age At Release_55 and Older</td>\n",
       "      <td>-2.373257</td>\n",
       "      <td>2.373257</td>\n",
       "    </tr>\n",
       "    <tr>\n",
       "      <th>71</th>\n",
       "      <td>Release Type_Paroled w/Immediate Discharge</td>\n",
       "      <td>-1.966736</td>\n",
       "      <td>1.966736</td>\n",
       "    </tr>\n",
       "    <tr>\n",
       "      <th>51</th>\n",
       "      <td>Convicting Offense Subtype_Other Violent</td>\n",
       "      <td>-1.882648</td>\n",
       "      <td>1.882648</td>\n",
       "    </tr>\n",
       "    <tr>\n",
       "      <th>39</th>\n",
       "      <td>Convicting Offense Subtype_Arson</td>\n",
       "      <td>-1.802547</td>\n",
       "      <td>1.802547</td>\n",
       "    </tr>\n",
       "    <tr>\n",
       "      <th>55</th>\n",
       "      <td>Convicting Offense Subtype_Sex Offender Regist...</td>\n",
       "      <td>-1.745340</td>\n",
       "      <td>1.745340</td>\n",
       "    </tr>\n",
       "    <tr>\n",
       "      <th>45</th>\n",
       "      <td>Convicting Offense Subtype_Kidnap</td>\n",
       "      <td>-1.691689</td>\n",
       "      <td>1.691689</td>\n",
       "    </tr>\n",
       "    <tr>\n",
       "      <th>70</th>\n",
       "      <td>Release Type_Paroled to Detainer - U.S. Marshall</td>\n",
       "      <td>-1.618671</td>\n",
       "      <td>1.618671</td>\n",
       "    </tr>\n",
       "    <tr>\n",
       "      <th>21</th>\n",
       "      <td>Convicting Offense Classification_D Felony</td>\n",
       "      <td>-1.565634</td>\n",
       "      <td>1.565634</td>\n",
       "    </tr>\n",
       "    <tr>\n",
       "      <th>19</th>\n",
       "      <td>Convicting Offense Classification_B Felony</td>\n",
       "      <td>-1.561958</td>\n",
       "      <td>1.561958</td>\n",
       "    </tr>\n",
       "    <tr>\n",
       "      <th>61</th>\n",
       "      <td>Convicting Offense Subtype_Vandalism</td>\n",
       "      <td>-1.541723</td>\n",
       "      <td>1.541723</td>\n",
       "    </tr>\n",
       "    <tr>\n",
       "      <th>81</th>\n",
       "      <td>Main Supervising District_7JD</td>\n",
       "      <td>-1.539526</td>\n",
       "      <td>1.539526</td>\n",
       "    </tr>\n",
       "    <tr>\n",
       "      <th>8</th>\n",
       "      <td>Race - Ethnicity_White - Hispanic</td>\n",
       "      <td>-1.524517</td>\n",
       "      <td>1.524517</td>\n",
       "    </tr>\n",
       "    <tr>\n",
       "      <th>54</th>\n",
       "      <td>Convicting Offense Subtype_Sex</td>\n",
       "      <td>-1.517935</td>\n",
       "      <td>1.517935</td>\n",
       "    </tr>\n",
       "    <tr>\n",
       "      <th>65</th>\n",
       "      <td>Release Type_Parole</td>\n",
       "      <td>-1.492233</td>\n",
       "      <td>1.492233</td>\n",
       "    </tr>\n",
       "    <tr>\n",
       "      <th>47</th>\n",
       "      <td>Convicting Offense Subtype_OWI</td>\n",
       "      <td>-1.490305</td>\n",
       "      <td>1.490305</td>\n",
       "    </tr>\n",
       "  </tbody>\n",
       "</table>\n",
       "</div>"
      ],
      "text/plain": [
       "                                           attributes  coefficient  \\\n",
       "46     Convicting Offense Subtype_Murder/Manslaughter    -3.558538   \n",
       "84       Main Supervising District_Interstate Compact    -3.484058   \n",
       "85                  Main Supervising District_Unknown    -3.411642   \n",
       "83                      Main Supervising District_ISC    -2.749562   \n",
       "53                 Convicting Offense Subtype_Robbery    -2.728070   \n",
       "15                        Age At Release_55 and Older    -2.373257   \n",
       "71         Release Type_Paroled w/Immediate Discharge    -1.966736   \n",
       "51           Convicting Offense Subtype_Other Violent    -1.882648   \n",
       "39                   Convicting Offense Subtype_Arson    -1.802547   \n",
       "55  Convicting Offense Subtype_Sex Offender Regist...    -1.745340   \n",
       "45                  Convicting Offense Subtype_Kidnap    -1.691689   \n",
       "70   Release Type_Paroled to Detainer - U.S. Marshall    -1.618671   \n",
       "21         Convicting Offense Classification_D Felony    -1.565634   \n",
       "19         Convicting Offense Classification_B Felony    -1.561958   \n",
       "61               Convicting Offense Subtype_Vandalism    -1.541723   \n",
       "81                      Main Supervising District_7JD    -1.539526   \n",
       "8                   Race - Ethnicity_White - Hispanic    -1.524517   \n",
       "54                     Convicting Offense Subtype_Sex    -1.517935   \n",
       "65                                Release Type_Parole    -1.492233   \n",
       "47                     Convicting Offense Subtype_OWI    -1.490305   \n",
       "\n",
       "    abs_coefficient  \n",
       "46         3.558538  \n",
       "84         3.484058  \n",
       "85         3.411642  \n",
       "83         2.749562  \n",
       "53         2.728070  \n",
       "15         2.373257  \n",
       "71         1.966736  \n",
       "51         1.882648  \n",
       "39         1.802547  \n",
       "55         1.745340  \n",
       "45         1.691689  \n",
       "70         1.618671  \n",
       "21         1.565634  \n",
       "19         1.561958  \n",
       "61         1.541723  \n",
       "81         1.539526  \n",
       "8          1.524517  \n",
       "54         1.517935  \n",
       "65         1.492233  \n",
       "47         1.490305  "
      ]
     },
     "execution_count": 65,
     "metadata": {},
     "output_type": "execute_result"
    }
   ],
   "source": [
    "coefficients.sort_values(by='abs_coefficient', ascending=False).head(20)"
   ]
  }
 ],
 "metadata": {
  "kernelspec": {
   "display_name": "Python 3",
   "language": "python",
   "name": "python3"
  },
  "language_info": {
   "codemirror_mode": {
    "name": "ipython",
    "version": 3
   },
   "file_extension": ".py",
   "mimetype": "text/x-python",
   "name": "python",
   "nbconvert_exporter": "python",
   "pygments_lexer": "ipython3",
   "version": "3.6.2"
  }
 },
 "nbformat": 4,
 "nbformat_minor": 2
}
