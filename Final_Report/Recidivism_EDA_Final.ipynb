{
 "cells": [
  {
   "cell_type": "markdown",
   "metadata": {},
   "source": [
    "# 3-Year Recidivism for Prisoners from the State of Iowa"
   ]
  },
  {
   "cell_type": "markdown",
   "metadata": {},
   "source": [
    "## **Data Exploration**"
   ]
  },
  {
   "cell_type": "markdown",
   "metadata": {},
   "source": [
    "The dataset reports whether an offender is re-admitted to prison within three years of release or not. Studies have shown that if recidivism is to occur, it is most likely to happen within three years."
   ]
  },
  {
   "cell_type": "code",
   "execution_count": 1,
   "metadata": {
    "collapsed": true
   },
   "outputs": [],
   "source": [
    "import matplotlib \n",
    "import matplotlib.pyplot as plt\n",
    "import pandas as pd\n",
    "import numpy as np\n",
    "%matplotlib inline"
   ]
  },
  {
   "cell_type": "code",
   "execution_count": 2,
   "metadata": {
    "collapsed": true
   },
   "outputs": [],
   "source": [
    "#load data\n",
    "recidivism_data = pd.read_pickle('RecidivismData_forAnalysis')"
   ]
  },
  {
   "cell_type": "code",
   "execution_count": 3,
   "metadata": {},
   "outputs": [
    {
     "data": {
      "text/plain": [
       "(21611, 17)"
      ]
     },
     "execution_count": 3,
     "metadata": {},
     "output_type": "execute_result"
    }
   ],
   "source": [
    "recidivism_data.shape"
   ]
  },
  {
   "cell_type": "markdown",
   "metadata": {},
   "source": [
    "The original dataset has 21,646 records and 17 features."
   ]
  },
  {
   "cell_type": "code",
   "execution_count": 4,
   "metadata": {},
   "outputs": [
    {
     "data": {
      "text/html": [
       "<div>\n",
       "<style>\n",
       "    .dataframe thead tr:only-child th {\n",
       "        text-align: right;\n",
       "    }\n",
       "\n",
       "    .dataframe thead th {\n",
       "        text-align: left;\n",
       "    }\n",
       "\n",
       "    .dataframe tbody tr th {\n",
       "        vertical-align: top;\n",
       "    }\n",
       "</style>\n",
       "<table border=\"1\" class=\"dataframe\">\n",
       "  <thead>\n",
       "    <tr style=\"text-align: right;\">\n",
       "      <th></th>\n",
       "      <th>Fiscal Year Released</th>\n",
       "      <th>Recidivism Reporting Year</th>\n",
       "      <th>Race - Ethnicity</th>\n",
       "      <th>Sex</th>\n",
       "      <th>Age At Release</th>\n",
       "      <th>Convicting Offense Classification</th>\n",
       "      <th>Convicting Offense Type</th>\n",
       "      <th>Convicting Offense Subtype</th>\n",
       "      <th>Release Type</th>\n",
       "      <th>Main Supervising District</th>\n",
       "      <th>Recidivism - Return to Prison</th>\n",
       "      <th>Recidivism Type</th>\n",
       "      <th>Days to Recidivism</th>\n",
       "      <th>New Conviction Offense Classification</th>\n",
       "      <th>New Conviction Offense Type</th>\n",
       "      <th>New Conviction Offense Sub Type</th>\n",
       "      <th>Part of Target Population</th>\n",
       "    </tr>\n",
       "  </thead>\n",
       "  <tbody>\n",
       "    <tr>\n",
       "      <th>0</th>\n",
       "      <td>2010.0</td>\n",
       "      <td>2013.0</td>\n",
       "      <td>White - Non-Hispanic</td>\n",
       "      <td>M</td>\n",
       "      <td>Under 25</td>\n",
       "      <td>D Felony</td>\n",
       "      <td>Violent</td>\n",
       "      <td>Assault</td>\n",
       "      <td>Parole</td>\n",
       "      <td>4JD</td>\n",
       "      <td>Yes</td>\n",
       "      <td>Tech</td>\n",
       "      <td>16</td>\n",
       "      <td>Unknown</td>\n",
       "      <td>Unknown</td>\n",
       "      <td>Unknown</td>\n",
       "      <td>Yes</td>\n",
       "    </tr>\n",
       "    <tr>\n",
       "      <th>1</th>\n",
       "      <td>2010.0</td>\n",
       "      <td>2013.0</td>\n",
       "      <td>White - Non-Hispanic</td>\n",
       "      <td>M</td>\n",
       "      <td>55 and Older</td>\n",
       "      <td>D Felony</td>\n",
       "      <td>Public Order</td>\n",
       "      <td>OWI</td>\n",
       "      <td>Parole</td>\n",
       "      <td>7JD</td>\n",
       "      <td>Yes</td>\n",
       "      <td>Tech</td>\n",
       "      <td>19</td>\n",
       "      <td>Unknown</td>\n",
       "      <td>Unknown</td>\n",
       "      <td>Unknown</td>\n",
       "      <td>Yes</td>\n",
       "    </tr>\n",
       "    <tr>\n",
       "      <th>2</th>\n",
       "      <td>2010.0</td>\n",
       "      <td>2013.0</td>\n",
       "      <td>White - Non-Hispanic</td>\n",
       "      <td>M</td>\n",
       "      <td>25-34</td>\n",
       "      <td>D Felony</td>\n",
       "      <td>Property</td>\n",
       "      <td>Burglary</td>\n",
       "      <td>Parole</td>\n",
       "      <td>5JD</td>\n",
       "      <td>Yes</td>\n",
       "      <td>Tech</td>\n",
       "      <td>22</td>\n",
       "      <td>Unknown</td>\n",
       "      <td>Unknown</td>\n",
       "      <td>Unknown</td>\n",
       "      <td>Yes</td>\n",
       "    </tr>\n",
       "    <tr>\n",
       "      <th>3</th>\n",
       "      <td>2010.0</td>\n",
       "      <td>2013.0</td>\n",
       "      <td>White - Non-Hispanic</td>\n",
       "      <td>M</td>\n",
       "      <td>55 and Older</td>\n",
       "      <td>C Felony</td>\n",
       "      <td>Drug</td>\n",
       "      <td>Trafficking</td>\n",
       "      <td>Parole</td>\n",
       "      <td>8JD</td>\n",
       "      <td>Yes</td>\n",
       "      <td>Tech</td>\n",
       "      <td>25</td>\n",
       "      <td>Unknown</td>\n",
       "      <td>Unknown</td>\n",
       "      <td>Unknown</td>\n",
       "      <td>Yes</td>\n",
       "    </tr>\n",
       "    <tr>\n",
       "      <th>4</th>\n",
       "      <td>2010.0</td>\n",
       "      <td>2013.0</td>\n",
       "      <td>Black - Non-Hispanic</td>\n",
       "      <td>M</td>\n",
       "      <td>25-34</td>\n",
       "      <td>D Felony</td>\n",
       "      <td>Drug</td>\n",
       "      <td>Trafficking</td>\n",
       "      <td>Parole</td>\n",
       "      <td>3JD</td>\n",
       "      <td>Yes</td>\n",
       "      <td>Tech</td>\n",
       "      <td>26</td>\n",
       "      <td>Unknown</td>\n",
       "      <td>Unknown</td>\n",
       "      <td>Unknown</td>\n",
       "      <td>Yes</td>\n",
       "    </tr>\n",
       "  </tbody>\n",
       "</table>\n",
       "</div>"
      ],
      "text/plain": [
       "   Fiscal Year Released  Recidivism Reporting Year      Race - Ethnicity Sex  \\\n",
       "0                2010.0                     2013.0  White - Non-Hispanic   M   \n",
       "1                2010.0                     2013.0  White - Non-Hispanic   M   \n",
       "2                2010.0                     2013.0  White - Non-Hispanic   M   \n",
       "3                2010.0                     2013.0  White - Non-Hispanic   M   \n",
       "4                2010.0                     2013.0  Black - Non-Hispanic   M   \n",
       "\n",
       "  Age At Release  Convicting Offense Classification Convicting Offense Type  \\\n",
       "0        Under 25                          D Felony                 Violent   \n",
       "1    55 and Older                          D Felony            Public Order   \n",
       "2           25-34                          D Felony                Property   \n",
       "3    55 and Older                          C Felony                    Drug   \n",
       "4           25-34                          D Felony                    Drug   \n",
       "\n",
       "  Convicting Offense Subtype Release Type Main Supervising District  \\\n",
       "0                    Assault       Parole                       4JD   \n",
       "1                        OWI       Parole                       7JD   \n",
       "2                   Burglary       Parole                       5JD   \n",
       "3                Trafficking       Parole                       8JD   \n",
       "4                Trafficking       Parole                       3JD   \n",
       "\n",
       "  Recidivism - Return to Prison Recidivism Type Days to Recidivism  \\\n",
       "0                           Yes            Tech                 16   \n",
       "1                           Yes            Tech                 19   \n",
       "2                           Yes            Tech                 22   \n",
       "3                           Yes            Tech                 25   \n",
       "4                           Yes            Tech                 26   \n",
       "\n",
       "  New Conviction Offense Classification New Conviction Offense Type  \\\n",
       "0                               Unknown                     Unknown   \n",
       "1                               Unknown                     Unknown   \n",
       "2                               Unknown                     Unknown   \n",
       "3                               Unknown                     Unknown   \n",
       "4                               Unknown                     Unknown   \n",
       "\n",
       "  New Conviction Offense Sub Type Part of Target Population  \n",
       "0                         Unknown                       Yes  \n",
       "1                         Unknown                       Yes  \n",
       "2                         Unknown                       Yes  \n",
       "3                         Unknown                       Yes  \n",
       "4                         Unknown                       Yes  "
      ]
     },
     "execution_count": 4,
     "metadata": {},
     "output_type": "execute_result"
    }
   ],
   "source": [
    "recidivism_data.head()"
   ]
  },
  {
   "cell_type": "code",
   "execution_count": 5,
   "metadata": {
    "collapsed": true
   },
   "outputs": [],
   "source": [
    "recidivism_data['Fiscal Year Released'] = recidivism_data['Fiscal Year Released'].astype(int)\n",
    "recidivism_data['Recidivism Reporting Year'] = recidivism_data['Recidivism Reporting Year'].astype(int)"
   ]
  },
  {
   "cell_type": "markdown",
   "metadata": {},
   "source": [
    "**List of Attributes**"
   ]
  },
  {
   "cell_type": "code",
   "execution_count": 6,
   "metadata": {},
   "outputs": [
    {
     "data": {
      "text/plain": [
       "['Fiscal Year Released',\n",
       " 'Recidivism Reporting Year',\n",
       " 'Race - Ethnicity',\n",
       " 'Sex',\n",
       " 'Age At Release ',\n",
       " 'Convicting Offense Classification',\n",
       " 'Convicting Offense Type',\n",
       " 'Convicting Offense Subtype',\n",
       " 'Release Type',\n",
       " 'Main Supervising District',\n",
       " 'Recidivism - Return to Prison',\n",
       " 'Recidivism Type',\n",
       " 'Days to Recidivism',\n",
       " 'New Conviction Offense Classification',\n",
       " 'New Conviction Offense Type',\n",
       " 'New Conviction Offense Sub Type',\n",
       " 'Part of Target Population']"
      ]
     },
     "execution_count": 6,
     "metadata": {},
     "output_type": "execute_result"
    }
   ],
   "source": [
    "list(recidivism_data.columns)"
   ]
  },
  {
   "cell_type": "markdown",
   "metadata": {},
   "source": [
    "Let's see at the values for each attribute:"
   ]
  },
  {
   "cell_type": "markdown",
   "metadata": {},
   "source": [
    "**Fiscal Year Released**"
   ]
  },
  {
   "cell_type": "code",
   "execution_count": 7,
   "metadata": {},
   "outputs": [
    {
     "data": {
      "text/plain": [
       "2012    4707\n",
       "2013    4687\n",
       "2014    4585\n",
       "2011    3916\n",
       "2010    3716\n",
       "Name: Fiscal Year Released, dtype: int64"
      ]
     },
     "execution_count": 7,
     "metadata": {},
     "output_type": "execute_result"
    }
   ],
   "source": [
    "recidivism_data['Fiscal Year Released'].value_counts(dropna=False)"
   ]
  },
  {
   "cell_type": "code",
   "execution_count": 8,
   "metadata": {},
   "outputs": [
    {
     "data": {
      "text/plain": [
       "<matplotlib.axes._subplots.AxesSubplot at 0x11511e710>"
      ]
     },
     "execution_count": 8,
     "metadata": {},
     "output_type": "execute_result"
    },
    {
     "data": {
      "image/png": "[encoded data removed]",
      "text/plain": [
       "<matplotlib.figure.Figure at 0x1150808d0>"
      ]
     },
     "metadata": {},
     "output_type": "display_data"
    }
   ],
   "source": [
    "recidivism_data['Fiscal Year Released'].value_counts(dropna=False, sort=False).plot(kind='bar', title='Prisoners Released')"
   ]
  },
  {
   "cell_type": "code",
   "execution_count": 9,
   "metadata": {},
   "outputs": [
    {
     "data": {
      "text/html": [
       "<div>\n",
       "<style>\n",
       "    .dataframe thead tr:only-child th {\n",
       "        text-align: right;\n",
       "    }\n",
       "\n",
       "    .dataframe thead th {\n",
       "        text-align: left;\n",
       "    }\n",
       "\n",
       "    .dataframe tbody tr th {\n",
       "        vertical-align: top;\n",
       "    }\n",
       "</style>\n",
       "<table border=\"1\" class=\"dataframe\">\n",
       "  <thead>\n",
       "    <tr style=\"text-align: right;\">\n",
       "      <th>Recidivism - Return to Prison</th>\n",
       "      <th>No</th>\n",
       "      <th>Yes</th>\n",
       "    </tr>\n",
       "    <tr>\n",
       "      <th>Fiscal Year Released</th>\n",
       "      <th></th>\n",
       "      <th></th>\n",
       "    </tr>\n",
       "  </thead>\n",
       "  <tbody>\n",
       "    <tr>\n",
       "      <th>2010</th>\n",
       "      <td>2589</td>\n",
       "      <td>1127</td>\n",
       "    </tr>\n",
       "    <tr>\n",
       "      <th>2011</th>\n",
       "      <td>2754</td>\n",
       "      <td>1162</td>\n",
       "    </tr>\n",
       "    <tr>\n",
       "      <th>2012</th>\n",
       "      <td>3197</td>\n",
       "      <td>1510</td>\n",
       "    </tr>\n",
       "    <tr>\n",
       "      <th>2013</th>\n",
       "      <td>3082</td>\n",
       "      <td>1605</td>\n",
       "    </tr>\n",
       "    <tr>\n",
       "      <th>2014</th>\n",
       "      <td>2962</td>\n",
       "      <td>1623</td>\n",
       "    </tr>\n",
       "  </tbody>\n",
       "</table>\n",
       "</div>"
      ],
      "text/plain": [
       "Recidivism - Return to Prison    No   Yes\n",
       "Fiscal Year Released                     \n",
       "2010                           2589  1127\n",
       "2011                           2754  1162\n",
       "2012                           3197  1510\n",
       "2013                           3082  1605\n",
       "2014                           2962  1623"
      ]
     },
     "execution_count": 9,
     "metadata": {},
     "output_type": "execute_result"
    }
   ],
   "source": [
    "recidivism_byYr = recidivism_data.groupby(['Fiscal Year Released','Recidivism - Return to Prison']).size().unstack()\n",
    "recidivism_byYr"
   ]
  },
  {
   "cell_type": "code",
   "execution_count": 10,
   "metadata": {},
   "outputs": [
    {
     "name": "stdout",
     "output_type": "stream",
     "text": [
      "0.303283100108\n",
      "0.296731358529\n",
      "0.320798810283\n",
      "0.342436526563\n",
      "0.353980370774\n"
     ]
    }
   ],
   "source": [
    "for i in recidivism_byYr.index:\n",
    "    print(recidivism_byYr.loc[i,'Yes']/(recidivism_byYr.loc[i,'Yes'] + recidivism_byYr.loc[i,'No']))"
   ]
  },
  {
   "cell_type": "markdown",
   "metadata": {},
   "source": [
    "The recidivism rate by year ranged from 29.7 (for prisoners released in 2011) to 35.4% (for prisoners released in 2014). The average recidivism for the five-year period is 32.5%. "
   ]
  },
  {
   "cell_type": "code",
   "execution_count": 11,
   "metadata": {},
   "outputs": [
    {
     "data": {
      "image/png": "[encoded data removed]",
      "text/plain": [
       "<matplotlib.figure.Figure at 0x115313d30>"
      ]
     },
     "metadata": {},
     "output_type": "display_data"
    }
   ],
   "source": [
    "fig, ax = plt.subplots()\n",
    "recidivism_data.groupby(['Fiscal Year Released','Recidivism - Return to Prison']).size().unstack().\\\n",
    "plot(kind='bar',ax=ax,figsize=(10,6),fontsize=14, rot=45)\n",
    "ax.set_title('Recidivism by Year', fontsize=22)\n",
    "ax.set_xlabel('Year Released', fontsize=20)\n",
    "ax.set_ylabel('Number of Prisoners', fontsize=20)\n",
    "ax.legend(title='Recidivism')\n",
    "plt.tight_layout()\n",
    "plt.savefig('recidivism_ByYear.eps',format = 'eps',dpi = 1300)\n",
    "plt.show()"
   ]
  },
  {
   "cell_type": "markdown",
   "metadata": {},
   "source": [
    "**Recidivism Reporting Year**"
   ]
  },
  {
   "cell_type": "code",
   "execution_count": 12,
   "metadata": {},
   "outputs": [
    {
     "data": {
      "text/plain": [
       "2015    4707\n",
       "2016    4687\n",
       "2017    4585\n",
       "2014    3916\n",
       "2013    3716\n",
       "Name: Recidivism Reporting Year, dtype: int64"
      ]
     },
     "execution_count": 12,
     "metadata": {},
     "output_type": "execute_result"
    }
   ],
   "source": [
    "recidivism_data['Recidivism Reporting Year'].value_counts(dropna=False)"
   ]
  },
  {
   "cell_type": "markdown",
   "metadata": {},
   "source": [
    "**Race - Ethnicity**"
   ]
  },
  {
   "cell_type": "code",
   "execution_count": 13,
   "metadata": {},
   "outputs": [
    {
     "data": {
      "text/plain": [
       "Race - Ethnicity                                 Recidivism - Return to Prison\n",
       "American Indian or Alaska Native - Hispanic      No                                 11\n",
       "                                                 Yes                                 5\n",
       "American Indian or Alaska Native - Non-Hispanic  No                                245\n",
       "                                                 Yes                               159\n",
       "Asian or Pacific Islander - Hispanic             No                                  1\n",
       "                                                 Yes                                 2\n",
       "Asian or Pacific Islander - Non-Hispanic         No                                130\n",
       "                                                 Yes                                39\n",
       "Black -                                          No                                  2\n",
       "Black - Hispanic                                 No                                 22\n",
       "                                                 Yes                                 8\n",
       "Black - Non-Hispanic                             No                               3431\n",
       "                                                 Yes                              1675\n",
       "White -                                          No                                 10\n",
       "                                                 Yes                                 1\n",
       "White - Hispanic                                 No                               1016\n",
       "                                                 Yes                               268\n",
       "White - Non-Hispanic                             No                               9716\n",
       "                                                 Yes                              4870\n",
       "dtype: int64"
      ]
     },
     "execution_count": 13,
     "metadata": {},
     "output_type": "execute_result"
    }
   ],
   "source": [
    "recidivism_byRace = recidivism_data.groupby(['Race - Ethnicity','Recidivism - Return to Prison']).size()\n",
    "recidivism_byRace"
   ]
  },
  {
   "cell_type": "code",
   "execution_count": 14,
   "metadata": {},
   "outputs": [
    {
     "data": {
      "image/png": "[encoded data removed]",
      "text/plain": [
       "<matplotlib.figure.Figure at 0x115357b00>"
      ]
     },
     "metadata": {},
     "output_type": "display_data"
    }
   ],
   "source": [
    "grouped = recidivism_data.groupby(['Race - Ethnicity','Recidivism - Return to Prison']).size().unstack()\n",
    "fig, ax = plt.subplots()\n",
    "grouped[(grouped['No'] > 100) &(grouped['Yes'] > 100)].sort_values(by='No').plot(kind='barh',ax=ax,figsize=(12,8),fontsize=16, rot=45)\n",
    "ax.set_yticklabels(['American Indian/\\n Alaska Native','White\\n Hispanic ', 'Black \\nNon-Hispanic', 'White\\n Non-Hispanic'])\n",
    "ax.set_title('Recidivism by Race', fontsize=24)\n",
    "ax.set_xlabel('Number of Prisoners', fontsize=22)\n",
    "ax.set_ylabel('Race/Ethnicity', fontsize=22)\n",
    "ax.legend(title='Recidivism')\n",
    "plt.tight_layout()\n",
    "plt.savefig('recidivism_ByRace.eps',format = 'eps',dpi = 1300)\n",
    "plt.show()"
   ]
  },
  {
   "cell_type": "code",
   "execution_count": 15,
   "metadata": {},
   "outputs": [
    {
     "data": {
      "image/png": "[encoded data removed]",
      "text/plain": [
       "<matplotlib.figure.Figure at 0x11d87ad30>"
      ]
     },
     "metadata": {},
     "output_type": "display_data"
    }
   ],
   "source": [
    "fig, ax = plt.subplots()\n",
    "recidivism_data.groupby(['Race - Ethnicity','Recidivism - Return to Prison']).size().sort_values().unstack().\\\n",
    "plot(kind='barh',ax=ax,figsize=(10,10),fontsize=14, rot=45)\n",
    "ax.set_title('Recidivism by Year', fontsize=22)\n",
    "ax.set_xlabel('Year Released', fontsize=20)\n",
    "ax.set_ylabel('Number of Prisoners', fontsize=20)\n",
    "ax.legend(title='Recidivism')\n",
    "plt.tight_layout()\n",
    "plt.savefig('recidivism_ByRace2.eps',format = 'eps',dpi = 1300)\n",
    "plt.show()"
   ]
  },
  {
   "cell_type": "code",
   "execution_count": 16,
   "metadata": {},
   "outputs": [
    {
     "data": {
      "text/plain": [
       "White - Non-Hispanic                               14586\n",
       "Black - Non-Hispanic                                5106\n",
       "White - Hispanic                                    1284\n",
       "American Indian or Alaska Native - Non-Hispanic      404\n",
       "Asian or Pacific Islander - Non-Hispanic             169\n",
       "Black - Hispanic                                      30\n",
       "American Indian or Alaska Native - Hispanic           16\n",
       "White -                                               11\n",
       "Asian or Pacific Islander - Hispanic                   3\n",
       "Black -                                                2\n",
       "Name: Race - Ethnicity, dtype: int64"
      ]
     },
     "execution_count": 16,
     "metadata": {},
     "output_type": "execute_result"
    }
   ],
   "source": [
    "recidivism_data['Race - Ethnicity'].value_counts(dropna=False)"
   ]
  },
  {
   "cell_type": "markdown",
   "metadata": {},
   "source": [
    "The \"Race - Ethnicity\" attribute has two names for missing values: 'NaN' (30 records) and 'N/A - ' (5 records). Convert 'N/A - ' to NaN to easily manipulate data in pandas. "
   ]
  },
  {
   "cell_type": "code",
   "execution_count": 17,
   "metadata": {},
   "outputs": [
    {
     "data": {
      "text/plain": [
       "White - Non-Hispanic                               14586\n",
       "Black - Non-Hispanic                                5106\n",
       "White - Hispanic                                    1284\n",
       "American Indian or Alaska Native - Non-Hispanic      404\n",
       "Asian or Pacific Islander - Non-Hispanic             169\n",
       "Black - Hispanic                                      30\n",
       "American Indian or Alaska Native - Hispanic           16\n",
       "White -                                               11\n",
       "Asian or Pacific Islander - Hispanic                   3\n",
       "Black -                                                2\n",
       "Name: Race - Ethnicity, dtype: int64"
      ]
     },
     "execution_count": 17,
     "metadata": {},
     "output_type": "execute_result"
    }
   ],
   "source": [
    "recidivism_data['Race - Ethnicity'].value_counts(dropna=False)"
   ]
  },
  {
   "cell_type": "markdown",
   "metadata": {},
   "source": [
    "The \"The \"Race - Ethnicity\" attribute now shows one name for missing values: 'NAN' (35 records)"
   ]
  },
  {
   "cell_type": "markdown",
   "metadata": {},
   "source": [
    "**Sex**"
   ]
  },
  {
   "cell_type": "code",
   "execution_count": 18,
   "metadata": {},
   "outputs": [
    {
     "data": {
      "image/png": "[encoded data removed]",
      "text/plain": [
       "<matplotlib.figure.Figure at 0x11e7a04e0>"
      ]
     },
     "metadata": {},
     "output_type": "display_data"
    }
   ],
   "source": [
    "matplotlib.rcParams['axes.titlepad'] = 14 \n",
    "matplotlib.rcParams['font.size'] = 18\n",
    "#labels = 'New', 'Technical','No'\n",
    "fig, (ax1, ax2, ax3) = plt.subplots(1,3,figsize=(15, 6))\n",
    "labels_sex = 'Male','Female'\n",
    "sizes_sex = [18896, 2715]\n",
    "labels_male = 'Recidivism', 'No Recidivism'\n",
    "sizes_male = [6275, 12621]\n",
    "labels_female = 'Recidivism', 'No Recidivism'\n",
    "sizes_female = [752, 1963]\n",
    "\n",
    "colors_sex = ['yellow','brown']\n",
    "colors = ['red','green']\n",
    "\n",
    "patches1, texts1, autotexts1=ax1.pie(sizes_sex, labels=labels_sex, labeldistance = 1.2, colors=colors_sex,\n",
    "        autopct='%1.1f%%', shadow=True, startangle=90)\n",
    "autotexts1[1].set_color('w')\n",
    "ax1.set_title('Prisoner Sex') \n",
    "ax1.axis('equal')\n",
    "\n",
    "patches2, texts2, autotexts2=ax2.pie(sizes_male, labels=labels_male, labeldistance = 1.2, colors=colors,\n",
    "        autopct='%1.1f%%', shadow=True, startangle=36)\n",
    "\n",
    "autotexts2[0].set_color('w')\n",
    "autotexts2[1].set_color('w')\n",
    "ax2.set_title('Male Recidivism')\n",
    "ax2.axis('equal')\n",
    "\n",
    "patches3, texts3, autotexts3=ax3.pie(sizes_female, labels=labels_female, labeldistance = 1.2, colors=colors,\n",
    "        autopct='%1.1f%%', shadow=True, startangle=40) \n",
    "autotexts3[0].set_color('w')\n",
    "autotexts3[1].set_color('w')\n",
    "ax3.set_title('Female Recidivism')\n",
    "ax3.axis('equal')\n",
    "plt.savefig('recidivism_BySex.eps',format = 'eps',dpi = 1300)\n",
    "plt.show()"
   ]
  },
  {
   "cell_type": "code",
   "execution_count": 19,
   "metadata": {},
   "outputs": [
    {
     "data": {
      "text/plain": [
       "M    18896\n",
       "F     2715\n",
       "Name: Sex, dtype: int64"
      ]
     },
     "execution_count": 19,
     "metadata": {},
     "output_type": "execute_result"
    }
   ],
   "source": [
    "recidivism_data['Sex'].value_counts(dropna=False)"
   ]
  },
  {
   "cell_type": "code",
   "execution_count": 20,
   "metadata": {},
   "outputs": [
    {
     "data": {
      "text/plain": [
       "Sex  Recidivism - Return to Prison\n",
       "F    No                                1963\n",
       "     Yes                                752\n",
       "M    No                               12621\n",
       "     Yes                               6275\n",
       "dtype: int64"
      ]
     },
     "execution_count": 20,
     "metadata": {},
     "output_type": "execute_result"
    }
   ],
   "source": [
    "recidivism_data.groupby(['Sex','Recidivism - Return to Prison']).size()"
   ]
  },
  {
   "cell_type": "markdown",
   "metadata": {},
   "source": [
    "**Age at release**"
   ]
  },
  {
   "cell_type": "code",
   "execution_count": 21,
   "metadata": {},
   "outputs": [
    {
     "data": {
      "text/plain": [
       "25-34           7907\n",
       "35-44           5167\n",
       "Under 25        3840\n",
       "45-54           3632\n",
       "55 and Older    1065\n",
       "Name: Age At Release , dtype: int64"
      ]
     },
     "execution_count": 21,
     "metadata": {},
     "output_type": "execute_result"
    }
   ],
   "source": [
    "recidivism_data['Age At Release '].value_counts(dropna=False)"
   ]
  },
  {
   "cell_type": "code",
   "execution_count": 22,
   "metadata": {},
   "outputs": [
    {
     "data": {
      "image/png": "[encoded data removed]",
      "text/plain": [
       "<matplotlib.figure.Figure at 0x1118bd518>"
      ]
     },
     "metadata": {},
     "output_type": "display_data"
    }
   ],
   "source": [
    "Age_Sex_grouped = recidivism_data.groupby(['Age At Release ','Recidivism - Return to Prison']).size().unstack()\n",
    "fig, ax = plt.subplots()\n",
    "Age_Sex_grouped.plot(kind='bar',ax=ax,figsize=(12,8),fontsize=16, rot=45)\n",
    "ax.set_title('Recidivism by Age', fontsize=24)\n",
    "ax.set_xlabel('Age', fontsize=22)\n",
    "ax.set_ylabel('Number of Prisoners', fontsize=22)\n",
    "ax.legend(title='Recidivism')\n",
    "plt.tight_layout()\n",
    "plt.savefig('recidivism_ByAge.eps',format = 'eps',dpi = 1300)\n",
    "plt.show()"
   ]
  },
  {
   "cell_type": "code",
   "execution_count": 23,
   "metadata": {},
   "outputs": [
    {
     "data": {
      "text/html": [
       "<div>\n",
       "<style>\n",
       "    .dataframe thead tr:only-child th {\n",
       "        text-align: right;\n",
       "    }\n",
       "\n",
       "    .dataframe thead th {\n",
       "        text-align: left;\n",
       "    }\n",
       "\n",
       "    .dataframe tbody tr th {\n",
       "        vertical-align: top;\n",
       "    }\n",
       "</style>\n",
       "<table border=\"1\" class=\"dataframe\">\n",
       "  <thead>\n",
       "    <tr style=\"text-align: right;\">\n",
       "      <th>Recidivism - Return to Prison</th>\n",
       "      <th>No</th>\n",
       "      <th>Yes</th>\n",
       "    </tr>\n",
       "    <tr>\n",
       "      <th>Age At Release</th>\n",
       "      <th></th>\n",
       "      <th></th>\n",
       "    </tr>\n",
       "  </thead>\n",
       "  <tbody>\n",
       "    <tr>\n",
       "      <th>25-34</th>\n",
       "      <td>5169</td>\n",
       "      <td>2738</td>\n",
       "    </tr>\n",
       "    <tr>\n",
       "      <th>35-44</th>\n",
       "      <td>3522</td>\n",
       "      <td>1645</td>\n",
       "    </tr>\n",
       "    <tr>\n",
       "      <th>45-54</th>\n",
       "      <td>2617</td>\n",
       "      <td>1015</td>\n",
       "    </tr>\n",
       "    <tr>\n",
       "      <th>55 and Older</th>\n",
       "      <td>862</td>\n",
       "      <td>203</td>\n",
       "    </tr>\n",
       "    <tr>\n",
       "      <th>Under 25</th>\n",
       "      <td>2414</td>\n",
       "      <td>1426</td>\n",
       "    </tr>\n",
       "  </tbody>\n",
       "</table>\n",
       "</div>"
      ],
      "text/plain": [
       "Recidivism - Return to Prison    No   Yes\n",
       "Age At Release                           \n",
       "25-34                          5169  2738\n",
       "35-44                          3522  1645\n",
       "45-54                          2617  1015\n",
       "55 and Older                    862   203\n",
       "Under 25                       2414  1426"
      ]
     },
     "execution_count": 23,
     "metadata": {},
     "output_type": "execute_result"
    }
   ],
   "source": [
    "recidivism_byAge = recidivism_data.groupby(['Age At Release ','Recidivism - Return to Prison']).size().unstack()\n",
    "recidivism_byAge"
   ]
  },
  {
   "cell_type": "code",
   "execution_count": 24,
   "metadata": {},
   "outputs": [
    {
     "name": "stdout",
     "output_type": "stream",
     "text": [
      "0.346275452131\n",
      "0.318366556996\n",
      "0.279460352423\n",
      "0.190610328638\n",
      "0.371354166667\n"
     ]
    }
   ],
   "source": [
    "for i in recidivism_byAge.index:\n",
    "    print(recidivism_byAge.loc[i,'Yes']/(recidivism_byAge.loc[i,'Yes'] + recidivism_byAge.loc[i,'No']))"
   ]
  },
  {
   "cell_type": "markdown",
   "metadata": {},
   "source": [
    "The distribution of prisoners by age shows that the 36.6% of the total released prisoners belong to that age group of 25-34. The representation of the other age groups in the released prisoners is 35-44 (23.9%), under 25 (17.8%), 45-54 (16.8%), and over 55 (4.9%). The recidivism rate for the age groups under 25, 25-34, 35-44, 45-54, and over 55 is 37.1, 34.6, 31.8, 28.0, and 19.1% respectively. This suggests recidivism is highest for the age group under 25 and the lowest for age group over 55 years. "
   ]
  },
  {
   "cell_type": "markdown",
   "metadata": {},
   "source": [
    "**Convicting Offense Classification**"
   ]
  },
  {
   "cell_type": "code",
   "execution_count": 25,
   "metadata": {},
   "outputs": [
    {
     "data": {
      "text/plain": [
       "D Felony                                    0.405442\n",
       "C Felony                                    0.261765\n",
       "Aggravated Misdemeanor                      0.187960\n",
       "B Felony                                    0.069039\n",
       "Felony - Enhancement to Original Penalty    0.055481\n",
       "Felony - Enhanced                           0.010180\n",
       "Serious Misdemeanor                         0.005923\n",
       "Special Sentence 2005                       0.003193\n",
       "Felony - Mandatory Minimum                  0.000416\n",
       "A Felony                                    0.000139\n",
       "Other Felony                                0.000139\n",
       "Simple Misdemeanor                          0.000093\n",
       "Other Felony (Old Code)                     0.000093\n",
       "Sexual Predator Community Supervision       0.000093\n",
       "Other Misdemeanor                           0.000046\n",
       "Name: Convicting Offense Classification, dtype: float64"
      ]
     },
     "execution_count": 25,
     "metadata": {},
     "output_type": "execute_result"
    }
   ],
   "source": [
    "recidivism_data['Convicting Offense Classification'].value_counts(dropna=False)/recidivism_data['Convicting Offense Classification'].count()"
   ]
  },
  {
   "cell_type": "code",
   "execution_count": 26,
   "metadata": {},
   "outputs": [
    {
     "data": {
      "image/png": "[encoded data removed]",
      "text/plain": [
       "<matplotlib.figure.Figure at 0x11535da20>"
      ]
     },
     "metadata": {},
     "output_type": "display_data"
    }
   ],
   "source": [
    "grouped_offenseclass = recidivism_data.groupby(['Convicting Offense Classification','Recidivism - Return to Prison']).size().unstack()\n",
    "fig, ax = plt.subplots()\n",
    "grouped_offenseclass[(grouped_offenseclass['No'] > 50) &(grouped_offenseclass['Yes'] > 50)].sort_values(by='No').plot(kind='barh',ax=ax,figsize=(12,8),fontsize=16, rot=45)\n",
    "ax.set_yticklabels(['Felony-Enhanced','Felony - \\nEnhancement \\nto original penality ', \n",
    "                    'B Felony', 'Aggravated \\nMisdemeanor', 'C Felony', 'D Felony'])\n",
    "ax.set_title('Recidivism by Offense Classification', fontsize=24)\n",
    "ax.set_xlabel('Number of Prisoners', fontsize=22)\n",
    "ax.set_ylabel('Offense Class', fontsize=22)\n",
    "ax.legend(title='Recidivism')\n",
    "plt.tight_layout()\n",
    "plt.savefig('recidivism_ByOffenseclass.eps',format = 'eps',dpi = 1300)\n",
    "plt.show()"
   ]
  },
  {
   "cell_type": "code",
   "execution_count": 27,
   "metadata": {},
   "outputs": [
    {
     "data": {
      "text/plain": [
       "Convicting Offense Classification         Recidivism - Return to Prison\n",
       "A Felony                                  No                                  3\n",
       "Aggravated Misdemeanor                    No                               2718\n",
       "                                          Yes                              1344\n",
       "B Felony                                  No                               1014\n",
       "                                          Yes                               478\n",
       "C Felony                                  No                               3736\n",
       "                                          Yes                              1921\n",
       "D Felony                                  No                               6114\n",
       "                                          Yes                              2648\n",
       "Felony - Enhanced                         No                                143\n",
       "                                          Yes                                77\n",
       "Felony - Enhancement to Original Penalty  No                                715\n",
       "                                          Yes                               484\n",
       "Felony - Mandatory Minimum                No                                  7\n",
       "                                          Yes                                 2\n",
       "Other Felony                              No                                  2\n",
       "                                          Yes                                 1\n",
       "Other Felony (Old Code)                   No                                  2\n",
       "Other Misdemeanor                         No                                  1\n",
       "Serious Misdemeanor                       No                                 92\n",
       "                                          Yes                                36\n",
       "Sexual Predator Community Supervision     No                                  2\n",
       "Simple Misdemeanor                        No                                  2\n",
       "Special Sentence 2005                     No                                 33\n",
       "                                          Yes                                36\n",
       "dtype: int64"
      ]
     },
     "execution_count": 27,
     "metadata": {},
     "output_type": "execute_result"
    }
   ],
   "source": [
    "recidivism_byClass=recidivism_data.groupby(['Convicting Offense Classification','Recidivism - Return to Prison']).size()\n",
    "recidivism_byClass"
   ]
  },
  {
   "cell_type": "markdown",
   "metadata": {},
   "source": [
    "**Convicting Offense Type**"
   ]
  },
  {
   "cell_type": "code",
   "execution_count": 28,
   "metadata": {},
   "outputs": [
    {
     "data": {
      "text/plain": [
       "Drug            6595\n",
       "Property        6084\n",
       "Violent         4843\n",
       "Public Order    3090\n",
       "Other            999\n",
       "Name: Convicting Offense Type, dtype: int64"
      ]
     },
     "execution_count": 28,
     "metadata": {},
     "output_type": "execute_result"
    }
   ],
   "source": [
    "recidivism_data['Convicting Offense Type'].value_counts(dropna=False)"
   ]
  },
  {
   "cell_type": "markdown",
   "metadata": {},
   "source": [
    "**Convicting Offense Subtype**"
   ]
  },
  {
   "cell_type": "code",
   "execution_count": 29,
   "metadata": {},
   "outputs": [
    {
     "data": {
      "text/plain": [
       "Trafficking                        5419\n",
       "Assault                            2640\n",
       "Burglary                           2447\n",
       "Theft                              2197\n",
       "OWI                                1568\n",
       "Sex                                1062\n",
       "Forgery/Fraud                      1001\n",
       "Drug Possession                     933\n",
       "Other Criminal                      890\n",
       "Other Violent                       491\n",
       "Traffic                             451\n",
       "Murder/Manslaughter                 348\n",
       "Weapons                             300\n",
       "Alcohol                             298\n",
       "Vandalism                           295\n",
       "Robbery                             290\n",
       "Other Drug                          243\n",
       "Other Public Order                  241\n",
       "Arson                               136\n",
       "Sex Offender Registry/Residency     129\n",
       "Flight/Escape                        69\n",
       "Special Sentence Revocation          63\n",
       "Kidnap                               53\n",
       "Prostitution/Pimping                 34\n",
       "Stolen Property                       8\n",
       "Animals                               5\n",
       "Name: Convicting Offense Subtype, dtype: int64"
      ]
     },
     "execution_count": 29,
     "metadata": {},
     "output_type": "execute_result"
    }
   ],
   "source": [
    "recidivism_data['Convicting Offense Subtype'].value_counts(dropna=False)"
   ]
  },
  {
   "cell_type": "code",
   "execution_count": 96,
   "metadata": {},
   "outputs": [
    {
     "data": {
      "text/plain": [
       "Trafficking                        1909\n",
       "Burglary                            925\n",
       "Theft                               762\n",
       "Assault                             708\n",
       "Other Criminal                      384\n",
       "OWI                                 380\n",
       "Forgery/Fraud                       352\n",
       "Drug Possession                     336\n",
       "Sex                                 306\n",
       "Traffic                             140\n",
       "Other Violent                       131\n",
       "Alcohol                             115\n",
       "Weapons                              84\n",
       "Vandalism                            81\n",
       "Other Public Order                   79\n",
       "Other Drug                           72\n",
       "Robbery                              67\n",
       "Murder/Manslaughter                  43\n",
       "Sex Offender Registry/Residency      39\n",
       "Arson                                34\n",
       "Flight/Escape                        31\n",
       "Special Sentence Revocation          29\n",
       "Prostitution/Pimping                 10\n",
       "Kidnap                                6\n",
       "Stolen Property                       3\n",
       "Animals                               1\n",
       "Name: Convicting Offense Subtype, dtype: int64"
      ]
     },
     "execution_count": 96,
     "metadata": {},
     "output_type": "execute_result"
    }
   ],
   "source": [
    "recidivism_data[recidivism_data['Recidivism - Return to Prison'] == \"Yes\"]['Convicting Offense Subtype'].value_counts(dropna=False)"
   ]
  },
  {
   "cell_type": "code",
   "execution_count": 97,
   "metadata": {},
   "outputs": [
    {
     "data": {
      "text/plain": [
       "Trafficking                        0.250752\n",
       "Assault                            0.122160\n",
       "Burglary                           0.113229\n",
       "Theft                              0.101661\n",
       "OWI                                0.072556\n",
       "Sex                                0.049142\n",
       "Forgery/Fraud                      0.046319\n",
       "Drug Possession                    0.043172\n",
       "Other Criminal                     0.041183\n",
       "Other Violent                      0.022720\n",
       "Traffic                            0.020869\n",
       "Murder/Manslaughter                0.016103\n",
       "Weapons                            0.013882\n",
       "Alcohol                            0.013789\n",
       "Vandalism                          0.013650\n",
       "Robbery                            0.013419\n",
       "Other Drug                         0.011244\n",
       "Other Public Order                 0.011152\n",
       "Arson                              0.006293\n",
       "Sex Offender Registry/Residency    0.005969\n",
       "Flight/Escape                      0.003193\n",
       "Special Sentence Revocation        0.002915\n",
       "Kidnap                             0.002452\n",
       "Prostitution/Pimping               0.001573\n",
       "Stolen Property                    0.000370\n",
       "Animals                            0.000231\n",
       "Name: Convicting Offense Subtype, dtype: float64"
      ]
     },
     "execution_count": 97,
     "metadata": {},
     "output_type": "execute_result"
    }
   ],
   "source": [
    "recidivism_data['Convicting Offense Subtype'].value_counts(dropna=False)/recidivism_data['Convicting Offense Subtype'].count()"
   ]
  },
  {
   "cell_type": "code",
   "execution_count": 111,
   "metadata": {},
   "outputs": [
    {
     "name": "stdout",
     "output_type": "stream",
     "text": [
      "Recidivism - Return to Prison\n",
      "No     183\n",
      "Yes    115\n",
      "Name: Alcohol, dtype: int64 0.385906040268\n",
      "Recidivism - Return to Prison\n",
      "No     4\n",
      "Yes    1\n",
      "Name: Animals, dtype: int64 0.2\n",
      "Recidivism - Return to Prison\n",
      "No     102\n",
      "Yes     34\n",
      "Name: Arson, dtype: int64 0.25\n",
      "Recidivism - Return to Prison\n",
      "No     1932\n",
      "Yes     708\n",
      "Name: Assault, dtype: int64 0.268181818182\n",
      "Recidivism - Return to Prison\n",
      "No     1522\n",
      "Yes     925\n",
      "Name: Burglary, dtype: int64 0.378013894565\n",
      "Recidivism - Return to Prison\n",
      "No     597\n",
      "Yes    336\n",
      "Name: Drug Possession, dtype: int64 0.360128617363\n",
      "Recidivism - Return to Prison\n",
      "No     38\n",
      "Yes    31\n",
      "Name: Flight/Escape, dtype: int64 0.449275362319\n",
      "Recidivism - Return to Prison\n",
      "No     649\n",
      "Yes    352\n",
      "Name: Forgery/Fraud, dtype: int64 0.351648351648\n",
      "Recidivism - Return to Prison\n",
      "No     47\n",
      "Yes     6\n",
      "Name: Kidnap, dtype: int64 0.11320754717\n",
      "Recidivism - Return to Prison\n",
      "No     305\n",
      "Yes     43\n",
      "Name: Murder/Manslaughter, dtype: int64 0.123563218391\n",
      "Recidivism - Return to Prison\n",
      "No     1188\n",
      "Yes     380\n",
      "Name: OWI, dtype: int64 0.242346938776\n",
      "Recidivism - Return to Prison\n",
      "No     506\n",
      "Yes    384\n",
      "Name: Other Criminal, dtype: int64 0.431460674157\n",
      "Recidivism - Return to Prison\n",
      "No     171\n",
      "Yes     72\n",
      "Name: Other Drug, dtype: int64 0.296296296296\n",
      "Recidivism - Return to Prison\n",
      "No     162\n",
      "Yes     79\n",
      "Name: Other Public Order, dtype: int64 0.327800829876\n",
      "Recidivism - Return to Prison\n",
      "No     360\n",
      "Yes    131\n",
      "Name: Other Violent, dtype: int64 0.266802443992\n",
      "Recidivism - Return to Prison\n",
      "No     24\n",
      "Yes    10\n",
      "Name: Prostitution/Pimping, dtype: int64 0.294117647059\n",
      "Recidivism - Return to Prison\n",
      "No     223\n",
      "Yes     67\n",
      "Name: Robbery, dtype: int64 0.231034482759\n",
      "Recidivism - Return to Prison\n",
      "No     756\n",
      "Yes    306\n",
      "Name: Sex, dtype: int64 0.28813559322\n",
      "Recidivism - Return to Prison\n",
      "No     90\n",
      "Yes    39\n",
      "Name: Sex Offender Registry/Residency, dtype: int64 0.302325581395\n",
      "Recidivism - Return to Prison\n",
      "No     34\n",
      "Yes    29\n",
      "Name: Special Sentence Revocation, dtype: int64 0.460317460317\n",
      "Recidivism - Return to Prison\n",
      "No     5\n",
      "Yes    3\n",
      "Name: Stolen Property, dtype: int64 0.375\n",
      "Recidivism - Return to Prison\n",
      "No     1435\n",
      "Yes     762\n",
      "Name: Theft, dtype: int64 0.346836595357\n",
      "Recidivism - Return to Prison\n",
      "No     311\n",
      "Yes    140\n",
      "Name: Traffic, dtype: int64 0.310421286031\n",
      "Recidivism - Return to Prison\n",
      "No     3510\n",
      "Yes    1909\n",
      "Name: Trafficking, dtype: int64 0.352279018269\n",
      "Recidivism - Return to Prison\n",
      "No     214\n",
      "Yes     81\n",
      "Name: Vandalism, dtype: int64 0.274576271186\n",
      "Recidivism - Return to Prison\n",
      "No     216\n",
      "Yes     84\n",
      "Name: Weapons, dtype: int64 0.28\n"
     ]
    }
   ],
   "source": [
    "recidivism_byoffensesubtype = recidivism_data.groupby(['Convicting Offense Subtype','Recidivism - Return to Prison']).size().unstack()\n",
    "for i in recidivism_byoffensesubtype.index:\n",
    "    print(recidivism_byoffensesubtype.loc[i],recidivism_byoffensesubtype.loc[i,'Yes']/(recidivism_byoffensesubtype.loc[i,'Yes'] + recidivism_byoffensesubtype.loc[i,'No']))"
   ]
  },
  {
   "cell_type": "code",
   "execution_count": 30,
   "metadata": {
    "collapsed": true
   },
   "outputs": [],
   "source": [
    "rec1 = recidivism_data[recidivism_data['Recidivism - Return to Prison'] == \"Yes\"][['Recidivism Reporting Year','Convicting Offense Subtype']]"
   ]
  },
  {
   "cell_type": "code",
   "execution_count": 31,
   "metadata": {
    "collapsed": true
   },
   "outputs": [],
   "source": [
    "rec2 = recidivism_data[recidivism_data['Recidivism - Return to Prison'] == \"No\"][['Recidivism Reporting Year','Convicting Offense Subtype']]"
   ]
  },
  {
   "cell_type": "code",
   "execution_count": 32,
   "metadata": {
    "collapsed": true
   },
   "outputs": [],
   "source": [
    "rec1_c = pd.DataFrame({'count' : rec1.groupby(['Recidivism Reporting Year','Convicting Offense Subtype' ]).size()}).reset_index()"
   ]
  },
  {
   "cell_type": "code",
   "execution_count": 33,
   "metadata": {
    "collapsed": true
   },
   "outputs": [],
   "source": [
    "offense_list_2013 = list(rec1_c[rec1_c['Recidivism Reporting Year'] == 2013]['Convicting Offense Subtype'])\n",
    "offense_list_2014 = list(rec1_c[rec1_c['Recidivism Reporting Year'] == 2014]['Convicting Offense Subtype'])\n",
    "offense_list_2015 = list(rec1_c[rec1_c['Recidivism Reporting Year'] == 2015]['Convicting Offense Subtype'])\n",
    "offense_list_2016 = list(rec1_c[rec1_c['Recidivism Reporting Year'] == 2016]['Convicting Offense Subtype'])\n",
    "offense_list_2017 = list(rec1_c[rec1_c['Recidivism Reporting Year'] == 2017]['Convicting Offense Subtype'])\n"
   ]
  },
  {
   "cell_type": "code",
   "execution_count": 34,
   "metadata": {
    "collapsed": true
   },
   "outputs": [],
   "source": [
    "count_list_2013 = list(rec1_c[rec1_c['Recidivism Reporting Year'] == 2013]['count'])\n",
    "count_list_2014 = list(rec1_c[rec1_c['Recidivism Reporting Year'] == 2014]['count'])\n",
    "count_list_2015 = list(rec1_c[rec1_c['Recidivism Reporting Year'] == 2015]['count'])\n",
    "count_list_2016 = list(rec1_c[rec1_c['Recidivism Reporting Year'] == 2016]['count'])\n",
    "count_list_2017 = list(rec1_c[rec1_c['Recidivism Reporting Year'] == 2017]['count'])"
   ]
  },
  {
   "cell_type": "code",
   "execution_count": 35,
   "metadata": {
    "collapsed": true
   },
   "outputs": [],
   "source": [
    "rec2_c = pd.DataFrame({'count' : rec2.groupby(['Recidivism Reporting Year','Convicting Offense Subtype' ]).size()}).reset_index()"
   ]
  },
  {
   "cell_type": "code",
   "execution_count": 36,
   "metadata": {
    "collapsed": true
   },
   "outputs": [],
   "source": [
    "rec2_offense_list_2013 = list(rec2_c[rec2_c['Recidivism Reporting Year'] == 2013]['Convicting Offense Subtype'])\n",
    "rec2_offense_list_2014 = list(rec2_c[rec2_c['Recidivism Reporting Year'] == 2014]['Convicting Offense Subtype'])\n",
    "rec2_offense_list_2015 = list(rec2_c[rec2_c['Recidivism Reporting Year'] == 2015]['Convicting Offense Subtype'])\n",
    "rec2_offense_list_2016 = list(rec2_c[rec2_c['Recidivism Reporting Year'] == 2016]['Convicting Offense Subtype'])\n",
    "rec2_offense_list_2017 = list(rec2_c[rec2_c['Recidivism Reporting Year'] == 2017]['Convicting Offense Subtype'])\n",
    "rec2_count_list_2013 = list(rec2_c[rec2_c['Recidivism Reporting Year'] == 2013]['count'])\n",
    "rec2_count_list_2014 = list(rec2_c[rec2_c['Recidivism Reporting Year'] == 2014]['count'])\n",
    "rec2_count_list_2015 = list(rec2_c[rec2_c['Recidivism Reporting Year'] == 2015]['count'])\n",
    "rec2_count_list_2016 = list(rec2_c[rec2_c['Recidivism Reporting Year'] == 2016]['count'])\n",
    "rec2_count_list_2017 = list(rec2_c[rec2_c['Recidivism Reporting Year'] == 2017]['count'])"
   ]
  },
  {
   "cell_type": "code",
   "execution_count": 37,
   "metadata": {},
   "outputs": [
    {
     "data": {
      "text/plain": [
       "26"
      ]
     },
     "execution_count": 37,
     "metadata": {},
     "output_type": "execute_result"
    }
   ],
   "source": [
    "len(rec2_offense_list_2013)\n",
    "    "
   ]
  },
  {
   "cell_type": "code",
   "execution_count": 113,
   "metadata": {},
   "outputs": [
    {
     "data": {
      "text/html": [
       "\n",
       "    <div class=\"bk-root\">\n",
       "        <a href=\"https://bokeh.pydata.org\" target=\"_blank\" class=\"bk-logo bk-logo-small bk-logo-notebook\"></a>\n",
       "        <span id=\"1f2c31bc-2630-4dc5-bbb0-c923ea7e0741\">Loading BokehJS ...</span>\n",
       "    </div>"
      ]
     },
     "metadata": {},
     "output_type": "display_data"
    },
    {
     "data": {
      "application/javascript": [
       "\n",
       "(function(root) {\n",
       "  function now() {\n",
       "    return new Date();\n",
       "  }\n",
       "\n",
       "  var force = true;\n",
       "\n",
       "  if (typeof (root._bokeh_onload_callbacks) === \"undefined\" || force === true) {\n",
       "    root._bokeh_onload_callbacks = [];\n",
       "    root._bokeh_is_loading = undefined;\n",
       "  }\n",
       "\n",
       "\n",
       "  \n",
       "  if (typeof (root._bokeh_timeout) === \"undefined\" || force === true) {\n",
       "    root._bokeh_timeout = Date.now() + 5000;\n",
       "    root._bokeh_failed_load = false;\n",
       "  }\n",
       "\n",
       "  var NB_LOAD_WARNING = {'data': {'text/html':\n",
       "     \"<div style='background-color: #fdd'>\\n\"+\n",
       "     \"<p>\\n\"+\n",
       "     \"BokehJS does not appear to have successfully loaded. If loading BokehJS from CDN, this \\n\"+\n",
       "     \"may be due to a slow or bad network connection. Possible fixes:\\n\"+\n",
       "     \"</p>\\n\"+\n",
       "     \"<ul>\\n\"+\n",
       "     \"<li>re-rerun `output_notebook()` to attempt to load from CDN again, or</li>\\n\"+\n",
       "     \"<li>use INLINE resources instead, as so:</li>\\n\"+\n",
       "     \"</ul>\\n\"+\n",
       "     \"<code>\\n\"+\n",
       "     \"from bokeh.resources import INLINE\\n\"+\n",
       "     \"output_notebook(resources=INLINE)\\n\"+\n",
       "     \"</code>\\n\"+\n",
       "     \"</div>\"}};\n",
       "\n",
       "  function display_loaded() {\n",
       "    if (root.Bokeh !== undefined) {\n",
       "      var el = document.getElementById(\"1f2c31bc-2630-4dc5-bbb0-c923ea7e0741\");\n",
       "      if (el != null) {\n",
       "        el.textContent = \"BokehJS \" + Bokeh.version + \" successfully loaded.\";\n",
       "      }\n",
       "    } else if (Date.now() < root._bokeh_timeout) {\n",
       "      setTimeout(display_loaded, 100)\n",
       "    }\n",
       "  }\n",
       "\n",
       "\n",
       "  function run_callbacks() {\n",
       "    try {\n",
       "      root._bokeh_onload_callbacks.forEach(function(callback) { callback() });\n",
       "    }\n",
       "    finally {\n",
       "      delete root._bokeh_onload_callbacks\n",
       "    }\n",
       "    console.info(\"Bokeh: all callbacks have finished\");\n",
       "  }\n",
       "\n",
       "  function load_libs(js_urls, callback) {\n",
       "    root._bokeh_onload_callbacks.push(callback);\n",
       "    if (root._bokeh_is_loading > 0) {\n",
       "      console.log(\"Bokeh: BokehJS is being loaded, scheduling callback at\", now());\n",
       "      return null;\n",
       "    }\n",
       "    if (js_urls == null || js_urls.length === 0) {\n",
       "      run_callbacks();\n",
       "      return null;\n",
       "    }\n",
       "    console.log(\"Bokeh: BokehJS not loaded, scheduling load and callback at\", now());\n",
       "    root._bokeh_is_loading = js_urls.length;\n",
       "    for (var i = 0; i < js_urls.length; i++) {\n",
       "      var url = js_urls[i];\n",
       "      var s = document.createElement('script');\n",
       "      s.src = url;\n",
       "      s.async = false;\n",
       "      s.onreadystatechange = s.onload = function() {\n",
       "        root._bokeh_is_loading--;\n",
       "        if (root._bokeh_is_loading === 0) {\n",
       "          console.log(\"Bokeh: all BokehJS libraries loaded\");\n",
       "          run_callbacks()\n",
       "        }\n",
       "      };\n",
       "      s.onerror = function() {\n",
       "        console.warn(\"failed to load library \" + url);\n",
       "      };\n",
       "      console.log(\"Bokeh: injecting script tag for BokehJS library: \", url);\n",
       "      document.getElementsByTagName(\"head\")[0].appendChild(s);\n",
       "    }\n",
       "  };var element = document.getElementById(\"1f2c31bc-2630-4dc5-bbb0-c923ea7e0741\");\n",
       "  if (element == null) {\n",
       "    console.log(\"Bokeh: ERROR: autoload.js configured with elementid '1f2c31bc-2630-4dc5-bbb0-c923ea7e0741' but no matching script tag was found. \")\n",
       "    return false;\n",
       "  }\n",
       "\n",
       "  var js_urls = [\"https://cdn.pydata.org/bokeh/release/bokeh-0.12.7.min.js\", \"https://cdn.pydata.org/bokeh/release/bokeh-widgets-0.12.7.min.js\", \"https://cdn.pydata.org/bokeh/release/bokeh-tables-0.12.7.min.js\", \"https://cdn.pydata.org/bokeh/release/bokeh-gl-0.12.7.min.js\"];\n",
       "\n",
       "  var inline_js = [\n",
       "    function(Bokeh) {\n",
       "      Bokeh.set_log_level(\"info\");\n",
       "    },\n",
       "    \n",
       "    function(Bokeh) {\n",
       "      \n",
       "    },\n",
       "    \n",
       "    function(Bokeh) {\n",
       "      \n",
       "      document.getElementById(\"1f2c31bc-2630-4dc5-bbb0-c923ea7e0741\").textContent = \"BokehJS is loading...\";\n",
       "    },\n",
       "    function(Bokeh) {\n",
       "      console.log(\"Bokeh: injecting CSS: https://cdn.pydata.org/bokeh/release/bokeh-0.12.7.min.css\");\n",
       "      Bokeh.embed.inject_css(\"https://cdn.pydata.org/bokeh/release/bokeh-0.12.7.min.css\");\n",
       "      console.log(\"Bokeh: injecting CSS: https://cdn.pydata.org/bokeh/release/bokeh-widgets-0.12.7.min.css\");\n",
       "      Bokeh.embed.inject_css(\"https://cdn.pydata.org/bokeh/release/bokeh-widgets-0.12.7.min.css\");\n",
       "      console.log(\"Bokeh: injecting CSS: https://cdn.pydata.org/bokeh/release/bokeh-tables-0.12.7.min.css\");\n",
       "      Bokeh.embed.inject_css(\"https://cdn.pydata.org/bokeh/release/bokeh-tables-0.12.7.min.css\");\n",
       "    }\n",
       "  ];\n",
       "\n",
       "  function run_inline_js() {\n",
       "    \n",
       "    if ((root.Bokeh !== undefined) || (force === true)) {\n",
       "      for (var i = 0; i < inline_js.length; i++) {\n",
       "        inline_js[i].call(root, root.Bokeh);\n",
       "      }if (force === true) {\n",
       "        display_loaded();\n",
       "      }} else if (Date.now() < root._bokeh_timeout) {\n",
       "      setTimeout(run_inline_js, 100);\n",
       "    } else if (!root._bokeh_failed_load) {\n",
       "      console.log(\"Bokeh: BokehJS failed to load within specified timeout.\");\n",
       "      root._bokeh_failed_load = true;\n",
       "    } else if (force !== true) {\n",
       "      var cell = $(document.getElementById(\"1f2c31bc-2630-4dc5-bbb0-c923ea7e0741\")).parents('.cell').data().cell;\n",
       "      cell.output_area.append_execute_result(NB_LOAD_WARNING)\n",
       "    }\n",
       "\n",
       "  }\n",
       "\n",
       "  if (root._bokeh_is_loading === 0) {\n",
       "    console.log(\"Bokeh: BokehJS loaded, going straight to plotting\");\n",
       "    run_inline_js();\n",
       "  } else {\n",
       "    load_libs(js_urls, function() {\n",
       "      console.log(\"Bokeh: BokehJS plotting callback run at\", now());\n",
       "      run_inline_js();\n",
       "    });\n",
       "  }\n",
       "}(window));"
      ]
     },
     "metadata": {},
     "output_type": "display_data"
    },
    {
     "name": "stderr",
     "output_type": "stream",
     "text": [
      "/anaconda3/lib/python3.6/site-packages/selenium/webdriver/phantomjs/webdriver.py:49: UserWarning: Selenium support for PhantomJS has been deprecated, please use headless versions of Chrome or Firefox instead\n",
      "  warnings.warn('Selenium support for PhantomJS has been deprecated, please use headless '\n"
     ]
    },
    {
     "data": {
      "text/html": [
       "\n",
       "\n",
       "    <div class=\"bk-root\">\n",
       "        <div class=\"bk-plotdiv\" id=\"5cec60c9-cc65-4426-a245-bd8f6489dae0\"></div>\n",
       "    </div>\n",
       "<script type=\"text/javascript\">\n",
       "  \n",
       "  (function(root) {\n",
       "    function now() {\n",
       "      return new Date();\n",
       "    }\n",
       "  \n",
       "    var force = false;\n",
       "  \n",
       "    if (typeof (root._bokeh_onload_callbacks) === \"undefined\" || force === true) {\n",
       "      root._bokeh_onload_callbacks = [];\n",
       "      root._bokeh_is_loading = undefined;\n",
       "    }\n",
       "  \n",
       "  \n",
       "    \n",
       "    if (typeof (root._bokeh_timeout) === \"undefined\" || force === true) {\n",
       "      root._bokeh_timeout = Date.now() + 0;\n",
       "      root._bokeh_failed_load = false;\n",
       "    }\n",
       "  \n",
       "    var NB_LOAD_WARNING = {'data': {'text/html':\n",
       "       \"<div style='background-color: #fdd'>\\n\"+\n",
       "       \"<p>\\n\"+\n",
       "       \"BokehJS does not appear to have successfully loaded. If loading BokehJS from CDN, this \\n\"+\n",
       "       \"may be due to a slow or bad network connection. Possible fixes:\\n\"+\n",
       "       \"</p>\\n\"+\n",
       "       \"<ul>\\n\"+\n",
       "       \"<li>re-rerun `output_notebook()` to attempt to load from CDN again, or</li>\\n\"+\n",
       "       \"<li>use INLINE resources instead, as so:</li>\\n\"+\n",
       "       \"</ul>\\n\"+\n",
       "       \"<code>\\n\"+\n",
       "       \"from bokeh.resources import INLINE\\n\"+\n",
       "       \"output_notebook(resources=INLINE)\\n\"+\n",
       "       \"</code>\\n\"+\n",
       "       \"</div>\"}};\n",
       "  \n",
       "    function display_loaded() {\n",
       "      if (root.Bokeh !== undefined) {\n",
       "        var el = document.getElementById(\"5cec60c9-cc65-4426-a245-bd8f6489dae0\");\n",
       "        if (el != null) {\n",
       "          el.textContent = \"BokehJS \" + Bokeh.version + \" successfully loaded.\";\n",
       "        }\n",
       "      } else if (Date.now() < root._bokeh_timeout) {\n",
       "        setTimeout(display_loaded, 100)\n",
       "      }\n",
       "    }\n",
       "  \n",
       "  \n",
       "    function run_callbacks() {\n",
       "      try {\n",
       "        root._bokeh_onload_callbacks.forEach(function(callback) { callback() });\n",
       "      }\n",
       "      finally {\n",
       "        delete root._bokeh_onload_callbacks\n",
       "      }\n",
       "      console.info(\"Bokeh: all callbacks have finished\");\n",
       "    }\n",
       "  \n",
       "    function load_libs(js_urls, callback) {\n",
       "      root._bokeh_onload_callbacks.push(callback);\n",
       "      if (root._bokeh_is_loading > 0) {\n",
       "        console.log(\"Bokeh: BokehJS is being loaded, scheduling callback at\", now());\n",
       "        return null;\n",
       "      }\n",
       "      if (js_urls == null || js_urls.length === 0) {\n",
       "        run_callbacks();\n",
       "        return null;\n",
       "      }\n",
       "      console.log(\"Bokeh: BokehJS not loaded, scheduling load and callback at\", now());\n",
       "      root._bokeh_is_loading = js_urls.length;\n",
       "      for (var i = 0; i < js_urls.length; i++) {\n",
       "        var url = js_urls[i];\n",
       "        var s = document.createElement('script');\n",
       "        s.src = url;\n",
       "        s.async = false;\n",
       "        s.onreadystatechange = s.onload = function() {\n",
       "          root._bokeh_is_loading--;\n",
       "          if (root._bokeh_is_loading === 0) {\n",
       "            console.log(\"Bokeh: all BokehJS libraries loaded\");\n",
       "            run_callbacks()\n",
       "          }\n",
       "        };\n",
       "        s.onerror = function() {\n",
       "          console.warn(\"failed to load library \" + url);\n",
       "        };\n",
       "        console.log(\"Bokeh: injecting script tag for BokehJS library: \", url);\n",
       "        document.getElementsByTagName(\"head\")[0].appendChild(s);\n",
       "      }\n",
       "    };var element = document.getElementById(\"5cec60c9-cc65-4426-a245-bd8f6489dae0\");\n",
       "    if (element == null) {\n",
       "      console.log(\"Bokeh: ERROR: autoload.js configured with elementid '5cec60c9-cc65-4426-a245-bd8f6489dae0' but no matching script tag was found. \")\n",
       "      return false;\n",
       "    }\n",
       "  \n",
       "    var js_urls = [];\n",
       "  \n",
       "    var inline_js = [\n",
       "      function(Bokeh) {\n",
       "        (function() {\n",
       "          var fn = function() {\n",
       "            var docs_json = {\"60377a5d-2c98-42fe-89dc-9480c62a63a5\":{\"roots\":{\"references\":[{\"attributes\":{},\"id\":\"07adcb46-1de9-4996-8374-7b77c3c988e1\",\"type\":\"BasicTicker\"},{\"attributes\":{\"source\":{\"id\":\"819490ed-b957-48cd-be74-6a4b1b53954c\",\"type\":\"ColumnDataSource\"}},\"id\":\"2ecff754-be08-4efb-9192-f21c5fe294be\",\"type\":\"CDSView\"},{\"attributes\":{\"label\":{\"value\":\"2015 no recidivism\"},\"renderers\":[{\"id\":\"a6ebe61b-0347-4de7-a2e7-841bffd325b6\",\"type\":\"GlyphRenderer\"}]},\"id\":\"83cfa005-b0ff-4be1-93f4-6e043afd98f0\",\"type\":\"LegendItem\"},{\"attributes\":{\"fill_color\":{\"value\":\"#43a2ca\"},\"height\":{\"value\":0.9},\"left\":{\"expr\":{\"id\":\"fe81ffa8-bbb0-4957-9746-80e60a4ae530\",\"type\":\"Stack\"}},\"line_color\":{\"value\":\"#43a2ca\"},\"right\":{\"expr\":{\"id\":\"e6920930-d921-4dce-a517-2666f814e854\",\"type\":\"Stack\"}},\"y\":{\"field\":\"offense_list_2013\"}},\"id\":\"8964a64c-d4ef-428b-a261-4a9c6e359561\",\"type\":\"HBar\"},{\"attributes\":{\"callback\":null,\"end\":2200,\"start\":-3700},\"id\":\"2f00c260-9481-45ba-a953-778ab8265577\",\"type\":\"Range1d\"},{\"attributes\":{\"source\":{\"id\":\"7baf8a93-f0c7-4ea6-a324-fc2ab12d8902\",\"type\":\"ColumnDataSource\"}},\"id\":\"7ca17d8c-8401-4b04-a99e-075b6bbab131\",\"type\":\"CDSView\"},{\"attributes\":{\"source\":{\"id\":\"7baf8a93-f0c7-4ea6-a324-fc2ab12d8902\",\"type\":\"ColumnDataSource\"}},\"id\":\"4b66cfed-a658-4aea-9b73-6f99cea034ba\",\"type\":\"CDSView\"},{\"attributes\":{\"fill_color\":{\"value\":\"#e34a33\"},\"height\":{\"value\":0.9},\"left\":{\"expr\":{\"id\":\"e0ab874d-83c3-49b2-8700-1812c019eb3c\",\"type\":\"Stack\"}},\"line_color\":{\"value\":\"#e34a33\"},\"right\":{\"expr\":{\"id\":\"76bfbd1b-8551-435d-a138-759353ef1602\",\"type\":\"Stack\"}},\"y\":{\"field\":\"offense_list\"}},\"id\":\"cc5f5262-f5d7-4909-b735-40defe6b0a58\",\"type\":\"HBar\"},{\"attributes\":{},\"id\":\"309f2fae-4d02-4f19-bbe9-ba71e49cdf9f\",\"type\":\"CategoricalTicker\"},{\"attributes\":{\"formatter\":{\"id\":\"dca79245-cc39-4477-a7b9-5f1d25f23ce1\",\"type\":\"CategoricalTickFormatter\"},\"major_label_text_font_size\":{\"value\":\"14pt\"},\"plot\":{\"id\":\"160b5016-9dd0-44de-b8c3-6c4bf31e8e66\",\"subtype\":\"Figure\",\"type\":\"Plot\"},\"ticker\":{\"id\":\"309f2fae-4d02-4f19-bbe9-ba71e49cdf9f\",\"type\":\"CategoricalTicker\"}},\"id\":\"86389445-d522-462d-941e-b9bc5135c348\",\"type\":\"CategoricalAxis\"},{\"attributes\":{\"source\":{\"id\":\"7baf8a93-f0c7-4ea6-a324-fc2ab12d8902\",\"type\":\"ColumnDataSource\"}},\"id\":\"54e9d1be-875a-4736-a315-55b69b79c056\",\"type\":\"CDSView\"},{\"attributes\":{\"data_source\":{\"id\":\"819490ed-b957-48cd-be74-6a4b1b53954c\",\"type\":\"ColumnDataSource\"},\"glyph\":{\"id\":\"1fe1400b-04e1-44e1-983c-9d6e86d8cd61\",\"type\":\"HBar\"},\"hover_glyph\":null,\"muted_glyph\":null,\"nonselection_glyph\":{\"id\":\"bf44a858-c909-4692-ba0b-35f38d2faf30\",\"type\":\"HBar\"},\"selection_glyph\":null,\"view\":{\"id\":\"2ecff754-be08-4efb-9192-f21c5fe294be\",\"type\":\"CDSView\"}},\"id\":\"657443ec-b969-437b-8e09-cadd48e1e8a3\",\"type\":\"GlyphRenderer\"},{\"attributes\":{\"source\":{\"id\":\"819490ed-b957-48cd-be74-6a4b1b53954c\",\"type\":\"ColumnDataSource\"}},\"id\":\"5bfd8447-bc16-43eb-bdde-a063dc44c722\",\"type\":\"CDSView\"},{\"attributes\":{\"fields\":[\"2013\",\"2014\",\"2015\",\"2016\",\"2017\"]},\"id\":\"8e0e751a-9f75-4f86-ae6f-d1e71652762c\",\"type\":\"Stack\"},{\"attributes\":{\"source\":{\"id\":\"819490ed-b957-48cd-be74-6a4b1b53954c\",\"type\":\"ColumnDataSource\"}},\"id\":\"a4599b78-8939-4f3f-a8d1-9b2ebac6d603\",\"type\":\"CDSView\"},{\"attributes\":{\"data_source\":{\"id\":\"7baf8a93-f0c7-4ea6-a324-fc2ab12d8902\",\"type\":\"ColumnDataSource\"},\"glyph\":{\"id\":\"8964a64c-d4ef-428b-a261-4a9c6e359561\",\"type\":\"HBar\"},\"hover_glyph\":null,\"muted_glyph\":null,\"nonselection_glyph\":{\"id\":\"4c715066-c8ed-47bf-b9ae-68470faeea50\",\"type\":\"HBar\"},\"selection_glyph\":null,\"view\":{\"id\":\"54e9d1be-875a-4736-a315-55b69b79c056\",\"type\":\"CDSView\"}},\"id\":\"360870f7-78ec-4767-9882-e3449c958996\",\"type\":\"GlyphRenderer\"},{\"attributes\":{\"dimension\":1,\"grid_line_color\":{\"value\":null},\"plot\":{\"id\":\"160b5016-9dd0-44de-b8c3-6c4bf31e8e66\",\"subtype\":\"Figure\",\"type\":\"Plot\"},\"ticker\":{\"id\":\"309f2fae-4d02-4f19-bbe9-ba71e49cdf9f\",\"type\":\"CategoricalTicker\"}},\"id\":\"b11a3316-2114-4491-b13a-6b689edaf90d\",\"type\":\"Grid\"},{\"attributes\":{\"data_source\":{\"id\":\"819490ed-b957-48cd-be74-6a4b1b53954c\",\"type\":\"ColumnDataSource\"},\"glyph\":{\"id\":\"13955efb-bb66-4dd2-8b2b-7a96fd0950f9\",\"type\":\"HBar\"},\"hover_glyph\":null,\"muted_glyph\":null,\"nonselection_glyph\":{\"id\":\"f66b4eb1-fa3c-4f0e-972a-94a79f11fde1\",\"type\":\"HBar\"},\"selection_glyph\":null,\"view\":{\"id\":\"5bfd8447-bc16-43eb-bdde-a063dc44c722\",\"type\":\"CDSView\"}},\"id\":\"df07c9fb-cb98-4931-92bf-50a20c987754\",\"type\":\"GlyphRenderer\"},{\"attributes\":{},\"id\":\"48e36b5f-a77b-4cbc-a3a3-be28fce06d55\",\"type\":\"PanTool\"},{\"attributes\":{\"fill_color\":{\"value\":\"#fc8d59\"},\"height\":{\"value\":0.9},\"left\":{\"expr\":{\"id\":\"79e01582-e70f-40c1-bafe-2279f4793387\",\"type\":\"Stack\"}},\"line_color\":{\"value\":\"#fc8d59\"},\"right\":{\"expr\":{\"id\":\"81151b03-f326-4208-9251-cfb7891a16a2\",\"type\":\"Stack\"}},\"y\":{\"field\":\"offense_list\"}},\"id\":\"13955efb-bb66-4dd2-8b2b-7a96fd0950f9\",\"type\":\"HBar\"},{\"attributes\":{},\"id\":\"07400249-d359-47f3-942f-b05ab7805983\",\"type\":\"LinearScale\"},{\"attributes\":{\"fill_alpha\":{\"value\":0.1},\"fill_color\":{\"value\":\"#1f77b4\"},\"height\":{\"value\":0.9},\"left\":{\"expr\":{\"id\":\"5348aa88-e91f-4b01-9e7a-d60968e321a7\",\"type\":\"Stack\"}},\"line_alpha\":{\"value\":0.1},\"line_color\":{\"value\":\"#1f77b4\"},\"right\":{\"expr\":{\"id\":\"8e0e751a-9f75-4f86-ae6f-d1e71652762c\",\"type\":\"Stack\"}},\"y\":{\"field\":\"offense_list\"}},\"id\":\"c2b556f7-db2b-4221-8b9d-3ab78054b6c6\",\"type\":\"HBar\"},{\"attributes\":{\"bottom_units\":\"screen\",\"fill_alpha\":{\"value\":0.5},\"fill_color\":{\"value\":\"lightgrey\"},\"left_units\":\"screen\",\"level\":\"overlay\",\"line_alpha\":{\"value\":1.0},\"line_color\":{\"value\":\"black\"},\"line_dash\":[4,4],\"line_width\":{\"value\":2},\"plot\":null,\"render_mode\":\"css\",\"right_units\":\"screen\",\"top_units\":\"screen\"},\"id\":\"1bf32e22-7a92-46cc-ad0a-1f19612cee8f\",\"type\":\"BoxAnnotation\"},{\"attributes\":{\"source\":{\"id\":\"7baf8a93-f0c7-4ea6-a324-fc2ab12d8902\",\"type\":\"ColumnDataSource\"}},\"id\":\"c58e70af-bb66-476c-9853-4a4532708742\",\"type\":\"CDSView\"},{\"attributes\":{\"fields\":[]},\"id\":\"3293d2c7-18ed-4b35-a262-347e29224eb1\",\"type\":\"Stack\"},{\"attributes\":{\"data_source\":{\"id\":\"7baf8a93-f0c7-4ea6-a324-fc2ab12d8902\",\"type\":\"ColumnDataSource\"},\"glyph\":{\"id\":\"3fcf58d9-359d-4107-a922-b2d84bad45bf\",\"type\":\"HBar\"},\"hover_glyph\":null,\"muted_glyph\":null,\"nonselection_glyph\":{\"id\":\"76eb919e-2f9f-4b2b-8279-fe8dff7d114f\",\"type\":\"HBar\"},\"selection_glyph\":null,\"view\":{\"id\":\"c58e70af-bb66-476c-9853-4a4532708742\",\"type\":\"CDSView\"}},\"id\":\"a6ebe61b-0347-4de7-a2e7-841bffd325b6\",\"type\":\"GlyphRenderer\"},{\"attributes\":{\"source\":{\"id\":\"7baf8a93-f0c7-4ea6-a324-fc2ab12d8902\",\"type\":\"ColumnDataSource\"}},\"id\":\"2710c005-2280-4171-a7bb-3c23a6b05061\",\"type\":\"CDSView\"},{\"attributes\":{\"fill_alpha\":{\"value\":0.1},\"fill_color\":{\"value\":\"#1f77b4\"},\"height\":{\"value\":0.9},\"left\":{\"expr\":{\"id\":\"66af1ef3-d904-4a25-a5e8-e9c5b939d632\",\"type\":\"Stack\"}},\"line_alpha\":{\"value\":0.1},\"line_color\":{\"value\":\"#1f77b4\"},\"right\":{\"expr\":{\"id\":\"39259e6e-34b9-4bf8-b0ff-e980788cf144\",\"type\":\"Stack\"}},\"y\":{\"field\":\"offense_list_2013\"}},\"id\":\"76eb919e-2f9f-4b2b-8279-fe8dff7d114f\",\"type\":\"HBar\"},{\"attributes\":{\"label\":{\"value\":\"2015 recidivism\"},\"renderers\":[{\"id\":\"df07c9fb-cb98-4931-92bf-50a20c987754\",\"type\":\"GlyphRenderer\"}]},\"id\":\"96404300-c83b-4774-ba48-b364f16e41ac\",\"type\":\"LegendItem\"},{\"attributes\":{\"fields\":[\"2013\",\"2014\",\"2015\"]},\"id\":\"81151b03-f326-4208-9251-cfb7891a16a2\",\"type\":\"Stack\"},{\"attributes\":{\"fields\":[\"2013\",\"2014\"]},\"id\":\"79e01582-e70f-40c1-bafe-2279f4793387\",\"type\":\"Stack\"},{\"attributes\":{\"data_source\":{\"id\":\"7baf8a93-f0c7-4ea6-a324-fc2ab12d8902\",\"type\":\"ColumnDataSource\"},\"glyph\":{\"id\":\"70297950-6a40-4514-a4ad-37fa56eb7576\",\"type\":\"HBar\"},\"hover_glyph\":null,\"muted_glyph\":null,\"nonselection_glyph\":{\"id\":\"dc98ba79-2b53-4b56-b702-53eae7a38412\",\"type\":\"HBar\"},\"selection_glyph\":null,\"view\":{\"id\":\"2710c005-2280-4171-a7bb-3c23a6b05061\",\"type\":\"CDSView\"}},\"id\":\"ebe8705c-09d6-47df-9b21-6dc92e68c8bd\",\"type\":\"GlyphRenderer\"},{\"attributes\":{\"axis_label\":\"number of prisoners (negative indicates no recidivism)\",\"axis_label_text_font_size\":{\"value\":\"16pt\"},\"axis_label_text_font_style\":\"normal\",\"formatter\":{\"id\":\"83b459ad-140b-4167-9a8a-40a7bcbabda7\",\"type\":\"BasicTickFormatter\"},\"major_label_text_font_size\":{\"value\":\"16pt\"},\"plot\":{\"id\":\"160b5016-9dd0-44de-b8c3-6c4bf31e8e66\",\"subtype\":\"Figure\",\"type\":\"Plot\"},\"ticker\":{\"id\":\"07adcb46-1de9-4996-8374-7b77c3c988e1\",\"type\":\"BasicTicker\"}},\"id\":\"a1d4f0c5-da0d-468c-977b-c6de16f3647b\",\"type\":\"LinearAxis\"},{\"attributes\":{\"label\":{\"value\":\"2017 no recidivism\"},\"renderers\":[{\"id\":\"7c050dc9-a28a-405e-8dcd-8bd573e51339\",\"type\":\"GlyphRenderer\"}]},\"id\":\"ffdd99e6-50ef-45b0-9028-440f34115315\",\"type\":\"LegendItem\"},{\"attributes\":{\"callback\":null,\"column_names\":[\"offense_list\",\"2013\",\"2014\",\"2015\",\"2016\",\"2017\"],\"data\":{\"2013\":[13,0,3,115,143,61,5,59,1,7,49,6,23,1,23,1,16,39,21,4,0,154,28,333,14,8],\"2014\":[24,0,8,133,160,46,1,57,2,7,64,74,4,28,28,3,10,54,0,0,1,130,19,278,16,15],\"2015\":[22,1,4,163,208,73,8,88,1,7,101,12,18,3,21,2,19,70,18,25,2,161,26,417,18,21],\"2016\":[31,0,7,140,218,78,6,73,1,13,84,152,13,21,29,3,13,70,0,0,0,166,34,409,22,22],\"2017\":[24,0,12,157,196,78,11,75,1,9,82,140,14,26,30,1,9,73,0,0,0,151,33,472,11,18],\"offense_list\":[\"Alcohol\",\"Animals\",\"Arson\",\"Assault\",\"Burglary\",\"Drug Possession\",\"Flight/Escape\",\"Forgery/Fraud\",\"Kidnap\",\"Murder/Manslaughter\",\"OWI\",\"Other Criminal\",\"Other Drug\",\"Other Public Order\",\"Other Violent\",\"Prostitution/Pimping\",\"Robbery\",\"Sex\",\"Sex Offender Registry/Residency\",\"Special Sentence Revocation\",\"Stolen Property\",\"Theft\",\"Traffic\",\"Trafficking\",\"Vandalism\",\"Weapons\"]}},\"id\":\"819490ed-b957-48cd-be74-6a4b1b53954c\",\"type\":\"ColumnDataSource\"},{\"attributes\":{\"label\":{\"value\":\"2017 recidivism\"},\"renderers\":[{\"id\":\"719d6b13-c908-436b-bcb9-5a37fefc256d\",\"type\":\"GlyphRenderer\"}]},\"id\":\"a513791f-f135-40b3-8104-c1544cc8883f\",\"type\":\"LegendItem\"},{\"attributes\":{\"fields\":[\"2013\"]},\"id\":\"e0ab874d-83c3-49b2-8700-1812c019eb3c\",\"type\":\"Stack\"},{\"attributes\":{\"label\":{\"value\":\"2016 no recidivism\"},\"renderers\":[{\"id\":\"ebe8705c-09d6-47df-9b21-6dc92e68c8bd\",\"type\":\"GlyphRenderer\"}]},\"id\":\"a961da9f-8137-49dc-86b1-5252f01d7521\",\"type\":\"LegendItem\"},{\"attributes\":{\"fill_color\":{\"value\":\"#fdcc8a\"},\"height\":{\"value\":0.9},\"left\":{\"expr\":{\"id\":\"013ecdfd-c904-4342-8a0a-7095df9880d4\",\"type\":\"Stack\"}},\"line_color\":{\"value\":\"#fdcc8a\"},\"right\":{\"expr\":{\"id\":\"e2c23603-9d6b-4126-b125-9952a8ad7eed\",\"type\":\"Stack\"}},\"y\":{\"field\":\"offense_list\"}},\"id\":\"1fe1400b-04e1-44e1-983c-9d6e86d8cd61\",\"type\":\"HBar\"},{\"attributes\":{\"label\":{\"value\":\"2014 recidivism\"},\"renderers\":[{\"id\":\"eddb802e-3a9f-4870-9003-10a218599170\",\"type\":\"GlyphRenderer\"}]},\"id\":\"f2292a74-609d-4fec-8a0f-0973661bb1f6\",\"type\":\"LegendItem\"},{\"attributes\":{\"fields\":[\"2013\",\"2014\",\"2015\",\"2016\"]},\"id\":\"af2f7a83-c454-4d79-8cdc-fccab109cf10\",\"type\":\"Stack\"},{\"attributes\":{},\"id\":\"3ac3bad4-47c0-4a62-94a9-ee51037ff3d6\",\"type\":\"SaveTool\"},{\"attributes\":{},\"id\":\"7728c097-dc83-4292-a9c2-14d11857bad0\",\"type\":\"ResetTool\"},{\"attributes\":{\"fields\":[]},\"id\":\"3a218ffc-0f8d-4ef6-90ad-c220c3a22f09\",\"type\":\"Stack\"},{\"attributes\":{\"plot\":null,\"text\":\"Prisoner Release/Recidivism by offense subtype\",\"text_font_size\":{\"value\":\"14pt\"}},\"id\":\"4c947458-06f8-4c70-a7d6-bf483d74bcda\",\"type\":\"Title\"},{\"attributes\":{\"fill_alpha\":{\"value\":0.1},\"fill_color\":{\"value\":\"#1f77b4\"},\"height\":{\"value\":0.9},\"left\":{\"expr\":{\"id\":\"e0ab874d-83c3-49b2-8700-1812c019eb3c\",\"type\":\"Stack\"}},\"line_alpha\":{\"value\":0.1},\"line_color\":{\"value\":\"#1f77b4\"},\"right\":{\"expr\":{\"id\":\"76bfbd1b-8551-435d-a138-759353ef1602\",\"type\":\"Stack\"}},\"y\":{\"field\":\"offense_list\"}},\"id\":\"07a72554-fae9-4a8d-a66c-d6931ec9a5f3\",\"type\":\"HBar\"},{\"attributes\":{},\"id\":\"8e161904-9fa7-49c8-8976-3086ab85e83f\",\"type\":\"HelpTool\"},{\"attributes\":{\"label\":{\"value\":\"2016 recidivism\"},\"renderers\":[{\"id\":\"657443ec-b969-437b-8e09-cadd48e1e8a3\",\"type\":\"GlyphRenderer\"}]},\"id\":\"12beb954-a9ce-40a8-a348-750f2f8cfa9c\",\"type\":\"LegendItem\"},{\"attributes\":{\"active_drag\":\"auto\",\"active_inspect\":\"auto\",\"active_scroll\":\"auto\",\"active_tap\":\"auto\",\"tools\":[{\"id\":\"48e36b5f-a77b-4cbc-a3a3-be28fce06d55\",\"type\":\"PanTool\"},{\"id\":\"9a35c738-43cb-4858-8669-37752e2431e9\",\"type\":\"WheelZoomTool\"},{\"id\":\"f3e86fc6-bb9c-48be-a7d6-ad491fb910b6\",\"type\":\"BoxZoomTool\"},{\"id\":\"3ac3bad4-47c0-4a62-94a9-ee51037ff3d6\",\"type\":\"SaveTool\"},{\"id\":\"7728c097-dc83-4292-a9c2-14d11857bad0\",\"type\":\"ResetTool\"},{\"id\":\"8e161904-9fa7-49c8-8976-3086ab85e83f\",\"type\":\"HelpTool\"}]},\"id\":\"75242072-3dcd-4578-8c6e-0236e1bd3297\",\"type\":\"Toolbar\"},{\"attributes\":{\"fields\":[\"2013\"]},\"id\":\"ccddaa29-7dd2-4fab-924c-95eddad48086\",\"type\":\"Stack\"},{\"attributes\":{\"fields\":[\"2013\",\"2014\"]},\"id\":\"66af1ef3-d904-4a25-a5e8-e9c5b939d632\",\"type\":\"Stack\"},{\"attributes\":{},\"id\":\"1fd33a6a-5eac-4ac5-86e9-3a5cef80dae8\",\"type\":\"CategoricalScale\"},{\"attributes\":{\"fields\":[\"2013\"]},\"id\":\"fe81ffa8-bbb0-4957-9746-80e60a4ae530\",\"type\":\"Stack\"},{\"attributes\":{\"overlay\":{\"id\":\"1bf32e22-7a92-46cc-ad0a-1f19612cee8f\",\"type\":\"BoxAnnotation\"}},\"id\":\"f3e86fc6-bb9c-48be-a7d6-ad491fb910b6\",\"type\":\"BoxZoomTool\"},{\"attributes\":{\"fields\":[\"2013\",\"2014\"]},\"id\":\"76bfbd1b-8551-435d-a138-759353ef1602\",\"type\":\"Stack\"},{\"attributes\":{\"fill_color\":{\"value\":\"#f0f9e8\"},\"height\":{\"value\":0.9},\"left\":{\"expr\":{\"id\":\"af2f7a83-c454-4d79-8cdc-fccab109cf10\",\"type\":\"Stack\"}},\"line_color\":{\"value\":\"#f0f9e8\"},\"right\":{\"expr\":{\"id\":\"7870f22c-3cdf-4ad1-bc87-0631761b0fc2\",\"type\":\"Stack\"}},\"y\":{\"field\":\"offense_list_2013\"}},\"id\":\"96ab247a-f25c-462d-aab1-fe49cbfe9aec\",\"type\":\"HBar\"},{\"attributes\":{},\"id\":\"9a35c738-43cb-4858-8669-37752e2431e9\",\"type\":\"WheelZoomTool\"},{\"attributes\":{\"fields\":[\"2013\",\"2014\",\"2015\"]},\"id\":\"2b7bb47b-d8e9-42b4-aa0e-dd6868f57083\",\"type\":\"Stack\"},{\"attributes\":{\"fields\":[\"2013\",\"2014\",\"2015\"]},\"id\":\"39259e6e-34b9-4bf8-b0ff-e980788cf144\",\"type\":\"Stack\"},{\"attributes\":{\"callback\":null,\"factors\":[\"Alcohol\",\"Animals\",\"Arson\",\"Assault\",\"Burglary\",\"Drug Possession\",\"Flight/Escape\",\"Forgery/Fraud\",\"Kidnap\",\"Murder/Manslaughter\",\"OWI\",\"Other Criminal\",\"Other Drug\",\"Other Public Order\",\"Other Violent\",\"Prostitution/Pimping\",\"Robbery\",\"Sex\",\"Sex Offender Registry/Residency\",\"Special Sentence Revocation\",\"Stolen Property\",\"Theft\",\"Traffic\",\"Trafficking\",\"Vandalism\",\"Weapons\"],\"range_padding\":0.1},\"id\":\"358cd5ec-2ee7-4fb3-9bbf-733936664219\",\"type\":\"FactorRange\"},{\"attributes\":{\"fields\":[\"2013\",\"2014\",\"2015\",\"2016\"]},\"id\":\"5348aa88-e91f-4b01-9e7a-d60968e321a7\",\"type\":\"Stack\"},{\"attributes\":{\"data_source\":{\"id\":\"7baf8a93-f0c7-4ea6-a324-fc2ab12d8902\",\"type\":\"ColumnDataSource\"},\"glyph\":{\"id\":\"96ab247a-f25c-462d-aab1-fe49cbfe9aec\",\"type\":\"HBar\"},\"hover_glyph\":null,\"muted_glyph\":null,\"nonselection_glyph\":{\"id\":\"b69773e3-95f6-4201-9a2b-0247ab380ccc\",\"type\":\"HBar\"},\"selection_glyph\":null,\"view\":{\"id\":\"4b66cfed-a658-4aea-9b73-6f99cea034ba\",\"type\":\"CDSView\"}},\"id\":\"7c050dc9-a28a-405e-8dcd-8bd573e51339\",\"type\":\"GlyphRenderer\"},{\"attributes\":{\"fields\":[\"2013\",\"2014\",\"2015\",\"2016\"]},\"id\":\"e2c23603-9d6b-4126-b125-9952a8ad7eed\",\"type\":\"Stack\"},{\"attributes\":{\"fill_color\":{\"value\":\"#fef0d9\"},\"height\":{\"value\":0.9},\"left\":{\"expr\":{\"id\":\"5348aa88-e91f-4b01-9e7a-d60968e321a7\",\"type\":\"Stack\"}},\"line_color\":{\"value\":\"#fef0d9\"},\"right\":{\"expr\":{\"id\":\"8e0e751a-9f75-4f86-ae6f-d1e71652762c\",\"type\":\"Stack\"}},\"y\":{\"field\":\"offense_list\"}},\"id\":\"b6579337-fad6-481b-8e46-a7c9c026daac\",\"type\":\"HBar\"},{\"attributes\":{\"items\":[{\"id\":\"3d1170dc-d2d2-44e0-aae3-2b7cc503d5f5\",\"type\":\"LegendItem\"},{\"id\":\"f2292a74-609d-4fec-8a0f-0973661bb1f6\",\"type\":\"LegendItem\"},{\"id\":\"96404300-c83b-4774-ba48-b364f16e41ac\",\"type\":\"LegendItem\"},{\"id\":\"12beb954-a9ce-40a8-a348-750f2f8cfa9c\",\"type\":\"LegendItem\"},{\"id\":\"a513791f-f135-40b3-8104-c1544cc8883f\",\"type\":\"LegendItem\"},{\"id\":\"bf8256af-2757-4170-b45e-563c0ebf881e\",\"type\":\"LegendItem\"},{\"id\":\"a7eb952b-ac4c-434c-9844-419c7fac746a\",\"type\":\"LegendItem\"},{\"id\":\"83cfa005-b0ff-4be1-93f4-6e043afd98f0\",\"type\":\"LegendItem\"},{\"id\":\"a961da9f-8137-49dc-86b1-5252f01d7521\",\"type\":\"LegendItem\"},{\"id\":\"ffdd99e6-50ef-45b0-9028-440f34115315\",\"type\":\"LegendItem\"}],\"location\":\"center_left\",\"plot\":{\"id\":\"160b5016-9dd0-44de-b8c3-6c4bf31e8e66\",\"subtype\":\"Figure\",\"type\":\"Plot\"}},\"id\":\"8d1a7a64-5757-4fe7-a5fd-d5753075d5c8\",\"type\":\"Legend\"},{\"attributes\":{\"fill_color\":{\"value\":\"#0868ac\"},\"height\":{\"value\":0.9},\"left\":{\"expr\":{\"id\":\"3a218ffc-0f8d-4ef6-90ad-c220c3a22f09\",\"type\":\"Stack\"}},\"line_color\":{\"value\":\"#0868ac\"},\"right\":{\"expr\":{\"id\":\"95d195dd-4c53-44b6-a855-bbb3eb3252cc\",\"type\":\"Stack\"}},\"y\":{\"field\":\"offense_list_2013\"}},\"id\":\"fc7d860f-51e5-4aa6-ad13-87158bce1406\",\"type\":\"HBar\"},{\"attributes\":{},\"id\":\"dca79245-cc39-4477-a7b9-5f1d25f23ce1\",\"type\":\"CategoricalTickFormatter\"},{\"attributes\":{\"fill_color\":{\"value\":\"#bae4bc\"},\"height\":{\"value\":0.9},\"left\":{\"expr\":{\"id\":\"2b7bb47b-d8e9-42b4-aa0e-dd6868f57083\",\"type\":\"Stack\"}},\"line_color\":{\"value\":\"#bae4bc\"},\"right\":{\"expr\":{\"id\":\"90d82283-620e-4539-a74f-c7838ddbeb8b\",\"type\":\"Stack\"}},\"y\":{\"field\":\"offense_list_2013\"}},\"id\":\"70297950-6a40-4514-a4ad-37fa56eb7576\",\"type\":\"HBar\"},{\"attributes\":{\"fill_alpha\":{\"value\":0.1},\"fill_color\":{\"value\":\"#1f77b4\"},\"height\":{\"value\":0.9},\"left\":{\"expr\":{\"id\":\"79e01582-e70f-40c1-bafe-2279f4793387\",\"type\":\"Stack\"}},\"line_alpha\":{\"value\":0.1},\"line_color\":{\"value\":\"#1f77b4\"},\"right\":{\"expr\":{\"id\":\"81151b03-f326-4208-9251-cfb7891a16a2\",\"type\":\"Stack\"}},\"y\":{\"field\":\"offense_list\"}},\"id\":\"f66b4eb1-fa3c-4f0e-972a-94a79f11fde1\",\"type\":\"HBar\"},{\"attributes\":{\"fields\":[\"2013\",\"2014\",\"2015\"]},\"id\":\"013ecdfd-c904-4342-8a0a-7095df9880d4\",\"type\":\"Stack\"},{\"attributes\":{\"fill_alpha\":{\"value\":0.1},\"fill_color\":{\"value\":\"#1f77b4\"},\"height\":{\"value\":0.9},\"left\":{\"expr\":{\"id\":\"af2f7a83-c454-4d79-8cdc-fccab109cf10\",\"type\":\"Stack\"}},\"line_alpha\":{\"value\":0.1},\"line_color\":{\"value\":\"#1f77b4\"},\"right\":{\"expr\":{\"id\":\"7870f22c-3cdf-4ad1-bc87-0631761b0fc2\",\"type\":\"Stack\"}},\"y\":{\"field\":\"offense_list_2013\"}},\"id\":\"b69773e3-95f6-4201-9a2b-0247ab380ccc\",\"type\":\"HBar\"},{\"attributes\":{\"below\":[{\"id\":\"a1d4f0c5-da0d-468c-977b-c6de16f3647b\",\"type\":\"LinearAxis\"}],\"left\":[{\"id\":\"86389445-d522-462d-941e-b9bc5135c348\",\"type\":\"CategoricalAxis\"}],\"plot_height\":800,\"plot_width\":800,\"renderers\":[{\"id\":\"a1d4f0c5-da0d-468c-977b-c6de16f3647b\",\"type\":\"LinearAxis\"},{\"id\":\"67bec220-6845-4a89-b541-5001ad38dfc7\",\"type\":\"Grid\"},{\"id\":\"86389445-d522-462d-941e-b9bc5135c348\",\"type\":\"CategoricalAxis\"},{\"id\":\"b11a3316-2114-4491-b13a-6b689edaf90d\",\"type\":\"Grid\"},{\"id\":\"1bf32e22-7a92-46cc-ad0a-1f19612cee8f\",\"type\":\"BoxAnnotation\"},{\"id\":\"8d1a7a64-5757-4fe7-a5fd-d5753075d5c8\",\"type\":\"Legend\"},{\"id\":\"c9e43201-6d92-4687-b63d-e2de67a2334e\",\"type\":\"GlyphRenderer\"},{\"id\":\"eddb802e-3a9f-4870-9003-10a218599170\",\"type\":\"GlyphRenderer\"},{\"id\":\"df07c9fb-cb98-4931-92bf-50a20c987754\",\"type\":\"GlyphRenderer\"},{\"id\":\"657443ec-b969-437b-8e09-cadd48e1e8a3\",\"type\":\"GlyphRenderer\"},{\"id\":\"719d6b13-c908-436b-bcb9-5a37fefc256d\",\"type\":\"GlyphRenderer\"},{\"id\":\"d06ad23c-32c2-461e-9067-edc89a6f525a\",\"type\":\"GlyphRenderer\"},{\"id\":\"360870f7-78ec-4767-9882-e3449c958996\",\"type\":\"GlyphRenderer\"},{\"id\":\"a6ebe61b-0347-4de7-a2e7-841bffd325b6\",\"type\":\"GlyphRenderer\"},{\"id\":\"ebe8705c-09d6-47df-9b21-6dc92e68c8bd\",\"type\":\"GlyphRenderer\"},{\"id\":\"7c050dc9-a28a-405e-8dcd-8bd573e51339\",\"type\":\"GlyphRenderer\"}],\"title\":{\"id\":\"4c947458-06f8-4c70-a7d6-bf483d74bcda\",\"type\":\"Title\"},\"toolbar\":{\"id\":\"75242072-3dcd-4578-8c6e-0236e1bd3297\",\"type\":\"Toolbar\"},\"x_range\":{\"id\":\"2f00c260-9481-45ba-a953-778ab8265577\",\"type\":\"Range1d\"},\"x_scale\":{\"id\":\"07400249-d359-47f3-942f-b05ab7805983\",\"type\":\"LinearScale\"},\"y_range\":{\"id\":\"358cd5ec-2ee7-4fb3-9bbf-733936664219\",\"type\":\"FactorRange\"},\"y_scale\":{\"id\":\"1fd33a6a-5eac-4ac5-86e9-3a5cef80dae8\",\"type\":\"CategoricalScale\"}},\"id\":\"160b5016-9dd0-44de-b8c3-6c4bf31e8e66\",\"subtype\":\"Figure\",\"type\":\"Plot\"},{\"attributes\":{\"fields\":[\"2013\",\"2014\",\"2015\",\"2016\"]},\"id\":\"90d82283-620e-4539-a74f-c7838ddbeb8b\",\"type\":\"Stack\"},{\"attributes\":{\"label\":{\"value\":\"2013 recidivism\"},\"renderers\":[{\"id\":\"c9e43201-6d92-4687-b63d-e2de67a2334e\",\"type\":\"GlyphRenderer\"}]},\"id\":\"3d1170dc-d2d2-44e0-aae3-2b7cc503d5f5\",\"type\":\"LegendItem\"},{\"attributes\":{\"fields\":[\"2013\"]},\"id\":\"95d195dd-4c53-44b6-a855-bbb3eb3252cc\",\"type\":\"Stack\"},{\"attributes\":{\"fields\":[\"2013\",\"2014\"]},\"id\":\"e6920930-d921-4dce-a517-2666f814e854\",\"type\":\"Stack\"},{\"attributes\":{},\"id\":\"83b459ad-140b-4167-9a8a-40a7bcbabda7\",\"type\":\"BasicTickFormatter\"},{\"attributes\":{\"source\":{\"id\":\"819490ed-b957-48cd-be74-6a4b1b53954c\",\"type\":\"ColumnDataSource\"}},\"id\":\"b54d42f4-1012-4c9b-b66e-22334d16daab\",\"type\":\"CDSView\"},{\"attributes\":{\"fill_alpha\":{\"value\":0.1},\"fill_color\":{\"value\":\"#1f77b4\"},\"height\":{\"value\":0.9},\"left\":{\"expr\":{\"id\":\"3a218ffc-0f8d-4ef6-90ad-c220c3a22f09\",\"type\":\"Stack\"}},\"line_alpha\":{\"value\":0.1},\"line_color\":{\"value\":\"#1f77b4\"},\"right\":{\"expr\":{\"id\":\"95d195dd-4c53-44b6-a855-bbb3eb3252cc\",\"type\":\"Stack\"}},\"y\":{\"field\":\"offense_list_2013\"}},\"id\":\"1bfe6f92-04e9-4878-bb3a-37ea2600b6d3\",\"type\":\"HBar\"},{\"attributes\":{\"source\":{\"id\":\"819490ed-b957-48cd-be74-6a4b1b53954c\",\"type\":\"ColumnDataSource\"}},\"id\":\"c683db02-d5d5-47b6-9af0-db5654a215a2\",\"type\":\"CDSView\"},{\"attributes\":{\"callback\":null,\"column_names\":[\"offense_list_2013\",\"2013\",\"2014\",\"2015\",\"2016\",\"2017\"],\"data\":{\"2013\":[-28,-1,-23,-304,-261,-93,-8,-116,-9,-55,-194,-20,-50,-4,-63,-4,-48,-162,-44,-3,-2,-307,-70,-659,-39,-22],\"2014\":[-34,-1,-10,-391,-296,-120,-14,-126,-11,-46,-228,-85,-25,-48,-63,-3,-42,-163,0,0,-1,-238,-62,-650,-53,-44],\"2015\":[-46,-2,-19,-426,-356,-132,-6,-146,-7,-65,-300,-22,-39,-11,-65,-5,-55,-159,-46,-31,-1,-330,-62,-769,-48,-49],\"2016\":[-35,0,-34,-429,-283,-131,-5,-118,-14,-85,-248,-177,-24,-51,-108,-5,-45,-137,0,0,-1,-287,-56,-717,-40,-52],\"2017\":[-40,0,-16,-382,-326,-121,-5,-143,-6,-54,-218,-202,-33,-48,-61,-7,-33,-135,0,0,0,-273,-61,-715,-34,-49],\"offense_list_2013\":[\"Alcohol\",\"Animals\",\"Arson\",\"Assault\",\"Burglary\",\"Drug Possession\",\"Flight/Escape\",\"Forgery/Fraud\",\"Kidnap\",\"Murder/Manslaughter\",\"OWI\",\"Other Criminal\",\"Other Drug\",\"Other Public Order\",\"Other Violent\",\"Prostitution/Pimping\",\"Robbery\",\"Sex\",\"Sex Offender Registry/Residency\",\"Special Sentence Revocation\",\"Stolen Property\",\"Theft\",\"Traffic\",\"Trafficking\",\"Vandalism\",\"Weapons\"]}},\"id\":\"7baf8a93-f0c7-4ea6-a324-fc2ab12d8902\",\"type\":\"ColumnDataSource\"},{\"attributes\":{\"fill_alpha\":{\"value\":0.1},\"fill_color\":{\"value\":\"#1f77b4\"},\"height\":{\"value\":0.9},\"left\":{\"expr\":{\"id\":\"2b7bb47b-d8e9-42b4-aa0e-dd6868f57083\",\"type\":\"Stack\"}},\"line_alpha\":{\"value\":0.1},\"line_color\":{\"value\":\"#1f77b4\"},\"right\":{\"expr\":{\"id\":\"90d82283-620e-4539-a74f-c7838ddbeb8b\",\"type\":\"Stack\"}},\"y\":{\"field\":\"offense_list_2013\"}},\"id\":\"dc98ba79-2b53-4b56-b702-53eae7a38412\",\"type\":\"HBar\"},{\"attributes\":{\"data_source\":{\"id\":\"819490ed-b957-48cd-be74-6a4b1b53954c\",\"type\":\"ColumnDataSource\"},\"glyph\":{\"id\":\"cc5f5262-f5d7-4909-b735-40defe6b0a58\",\"type\":\"HBar\"},\"hover_glyph\":null,\"muted_glyph\":null,\"nonselection_glyph\":{\"id\":\"07a72554-fae9-4a8d-a66c-d6931ec9a5f3\",\"type\":\"HBar\"},\"selection_glyph\":null,\"view\":{\"id\":\"b54d42f4-1012-4c9b-b66e-22334d16daab\",\"type\":\"CDSView\"}},\"id\":\"eddb802e-3a9f-4870-9003-10a218599170\",\"type\":\"GlyphRenderer\"},{\"attributes\":{\"label\":{\"value\":\"2013 no recidivism\"},\"renderers\":[{\"id\":\"d06ad23c-32c2-461e-9067-edc89a6f525a\",\"type\":\"GlyphRenderer\"}]},\"id\":\"bf8256af-2757-4170-b45e-563c0ebf881e\",\"type\":\"LegendItem\"},{\"attributes\":{\"fill_alpha\":{\"value\":0.1},\"fill_color\":{\"value\":\"#1f77b4\"},\"height\":{\"value\":0.9},\"left\":{\"expr\":{\"id\":\"013ecdfd-c904-4342-8a0a-7095df9880d4\",\"type\":\"Stack\"}},\"line_alpha\":{\"value\":0.1},\"line_color\":{\"value\":\"#1f77b4\"},\"right\":{\"expr\":{\"id\":\"e2c23603-9d6b-4126-b125-9952a8ad7eed\",\"type\":\"Stack\"}},\"y\":{\"field\":\"offense_list\"}},\"id\":\"bf44a858-c909-4692-ba0b-35f38d2faf30\",\"type\":\"HBar\"},{\"attributes\":{\"fields\":[\"2013\",\"2014\",\"2015\",\"2016\",\"2017\"]},\"id\":\"7870f22c-3cdf-4ad1-bc87-0631761b0fc2\",\"type\":\"Stack\"},{\"attributes\":{\"plot\":{\"id\":\"160b5016-9dd0-44de-b8c3-6c4bf31e8e66\",\"subtype\":\"Figure\",\"type\":\"Plot\"},\"ticker\":{\"id\":\"07adcb46-1de9-4996-8374-7b77c3c988e1\",\"type\":\"BasicTicker\"}},\"id\":\"67bec220-6845-4a89-b541-5001ad38dfc7\",\"type\":\"Grid\"},{\"attributes\":{\"fill_alpha\":{\"value\":0.1},\"fill_color\":{\"value\":\"#1f77b4\"},\"height\":{\"value\":0.9},\"left\":{\"expr\":{\"id\":\"fe81ffa8-bbb0-4957-9746-80e60a4ae530\",\"type\":\"Stack\"}},\"line_alpha\":{\"value\":0.1},\"line_color\":{\"value\":\"#1f77b4\"},\"right\":{\"expr\":{\"id\":\"e6920930-d921-4dce-a517-2666f814e854\",\"type\":\"Stack\"}},\"y\":{\"field\":\"offense_list_2013\"}},\"id\":\"4c715066-c8ed-47bf-b9ae-68470faeea50\",\"type\":\"HBar\"},{\"attributes\":{\"data_source\":{\"id\":\"819490ed-b957-48cd-be74-6a4b1b53954c\",\"type\":\"ColumnDataSource\"},\"glyph\":{\"id\":\"b6579337-fad6-481b-8e46-a7c9c026daac\",\"type\":\"HBar\"},\"hover_glyph\":null,\"muted_glyph\":null,\"nonselection_glyph\":{\"id\":\"c2b556f7-db2b-4221-8b9d-3ab78054b6c6\",\"type\":\"HBar\"},\"selection_glyph\":null,\"view\":{\"id\":\"c683db02-d5d5-47b6-9af0-db5654a215a2\",\"type\":\"CDSView\"}},\"id\":\"719d6b13-c908-436b-bcb9-5a37fefc256d\",\"type\":\"GlyphRenderer\"},{\"attributes\":{\"fill_color\":{\"value\":\"#7bccc4\"},\"height\":{\"value\":0.9},\"left\":{\"expr\":{\"id\":\"66af1ef3-d904-4a25-a5e8-e9c5b939d632\",\"type\":\"Stack\"}},\"line_color\":{\"value\":\"#7bccc4\"},\"right\":{\"expr\":{\"id\":\"39259e6e-34b9-4bf8-b0ff-e980788cf144\",\"type\":\"Stack\"}},\"y\":{\"field\":\"offense_list_2013\"}},\"id\":\"3fcf58d9-359d-4107-a922-b2d84bad45bf\",\"type\":\"HBar\"},{\"attributes\":{\"data_source\":{\"id\":\"7baf8a93-f0c7-4ea6-a324-fc2ab12d8902\",\"type\":\"ColumnDataSource\"},\"glyph\":{\"id\":\"fc7d860f-51e5-4aa6-ad13-87158bce1406\",\"type\":\"HBar\"},\"hover_glyph\":null,\"muted_glyph\":null,\"nonselection_glyph\":{\"id\":\"1bfe6f92-04e9-4878-bb3a-37ea2600b6d3\",\"type\":\"HBar\"},\"selection_glyph\":null,\"view\":{\"id\":\"7ca17d8c-8401-4b04-a99e-075b6bbab131\",\"type\":\"CDSView\"}},\"id\":\"d06ad23c-32c2-461e-9067-edc89a6f525a\",\"type\":\"GlyphRenderer\"},{\"attributes\":{\"data_source\":{\"id\":\"819490ed-b957-48cd-be74-6a4b1b53954c\",\"type\":\"ColumnDataSource\"},\"glyph\":{\"id\":\"d1f000be-306d-44e8-b6a2-2c3946824226\",\"type\":\"HBar\"},\"hover_glyph\":null,\"muted_glyph\":null,\"nonselection_glyph\":{\"id\":\"df5fda92-30be-4cfe-a0a6-5cf1f6f428cb\",\"type\":\"HBar\"},\"selection_glyph\":null,\"view\":{\"id\":\"a4599b78-8939-4f3f-a8d1-9b2ebac6d603\",\"type\":\"CDSView\"}},\"id\":\"c9e43201-6d92-4687-b63d-e2de67a2334e\",\"type\":\"GlyphRenderer\"},{\"attributes\":{\"fill_alpha\":{\"value\":0.1},\"fill_color\":{\"value\":\"#1f77b4\"},\"height\":{\"value\":0.9},\"left\":{\"expr\":{\"id\":\"3293d2c7-18ed-4b35-a262-347e29224eb1\",\"type\":\"Stack\"}},\"line_alpha\":{\"value\":0.1},\"line_color\":{\"value\":\"#1f77b4\"},\"right\":{\"expr\":{\"id\":\"ccddaa29-7dd2-4fab-924c-95eddad48086\",\"type\":\"Stack\"}},\"y\":{\"field\":\"offense_list\"}},\"id\":\"df5fda92-30be-4cfe-a0a6-5cf1f6f428cb\",\"type\":\"HBar\"},{\"attributes\":{\"label\":{\"value\":\"2014 no recidivism\"},\"renderers\":[{\"id\":\"360870f7-78ec-4767-9882-e3449c958996\",\"type\":\"GlyphRenderer\"}]},\"id\":\"a7eb952b-ac4c-434c-9844-419c7fac746a\",\"type\":\"LegendItem\"},{\"attributes\":{\"fill_color\":{\"value\":\"#b30000\"},\"height\":{\"value\":0.9},\"left\":{\"expr\":{\"id\":\"3293d2c7-18ed-4b35-a262-347e29224eb1\",\"type\":\"Stack\"}},\"line_color\":{\"value\":\"#b30000\"},\"right\":{\"expr\":{\"id\":\"ccddaa29-7dd2-4fab-924c-95eddad48086\",\"type\":\"Stack\"}},\"y\":{\"field\":\"offense_list\"}},\"id\":\"d1f000be-306d-44e8-b6a2-2c3946824226\",\"type\":\"HBar\"}],\"root_ids\":[\"160b5016-9dd0-44de-b8c3-6c4bf31e8e66\"]},\"title\":\"Bokeh Application\",\"version\":\"0.12.7\"}};\n",
       "            var render_items = [{\"docid\":\"60377a5d-2c98-42fe-89dc-9480c62a63a5\",\"elementid\":\"5cec60c9-cc65-4426-a245-bd8f6489dae0\",\"modelid\":\"160b5016-9dd0-44de-b8c3-6c4bf31e8e66\"}];\n",
       "            \n",
       "            Bokeh.embed.embed_items(docs_json, render_items);\n",
       "          };\n",
       "          if (document.readyState != \"loading\") fn();\n",
       "          else document.addEventListener(\"DOMContentLoaded\", fn);\n",
       "        })();\n",
       "      },\n",
       "      function(Bokeh) {\n",
       "      }\n",
       "    ];\n",
       "  \n",
       "    function run_inline_js() {\n",
       "      \n",
       "      if ((root.Bokeh !== undefined) || (force === true)) {\n",
       "        for (var i = 0; i < inline_js.length; i++) {\n",
       "          inline_js[i].call(root, root.Bokeh);\n",
       "        }if (force === true) {\n",
       "          display_loaded();\n",
       "        }} else if (Date.now() < root._bokeh_timeout) {\n",
       "        setTimeout(run_inline_js, 100);\n",
       "      } else if (!root._bokeh_failed_load) {\n",
       "        console.log(\"Bokeh: BokehJS failed to load within specified timeout.\");\n",
       "        root._bokeh_failed_load = true;\n",
       "      } else if (force !== true) {\n",
       "        var cell = $(document.getElementById(\"5cec60c9-cc65-4426-a245-bd8f6489dae0\")).parents('.cell').data().cell;\n",
       "        cell.output_area.append_execute_result(NB_LOAD_WARNING)\n",
       "      }\n",
       "  \n",
       "    }\n",
       "  \n",
       "    if (root._bokeh_is_loading === 0) {\n",
       "      console.log(\"Bokeh: BokehJS loaded, going straight to plotting\");\n",
       "      run_inline_js();\n",
       "    } else {\n",
       "      load_libs(js_urls, function() {\n",
       "        console.log(\"Bokeh: BokehJS plotting callback run at\", now());\n",
       "        run_inline_js();\n",
       "      });\n",
       "    }\n",
       "  }(window));\n",
       "</script>"
      ]
     },
     "metadata": {},
     "output_type": "display_data"
    }
   ],
   "source": [
    "from bokeh.io import show, output_notebook\n",
    "output_notebook()\n",
    "from bokeh.io import export_png\n",
    "from bokeh.plotting import figure\n",
    "from bokeh.models import ColumnDataSource\n",
    "from bokeh.palettes import GnBu5, OrRd5\n",
    "\n",
    "years = ['2013','2014','2015','2016','2017']\n",
    "\n",
    "rec_yes = {'offense_list' : offense_list_2015,\n",
    "           '2013' : [13,0,3,115,143,61,5,59,1,7,49,6,23,1,23,1,16,39,21,4,0,154,28,333,14,8],\n",
    "           '2014' : [24,0,8,133,160,46,1,57,2,7,64,74,4,28,28,3,10,54,0,0,1,130,19,278,16,15],\n",
    "           '2015' : [22,1,4,163,208,73,8,88,1,7,101,12,18,3,21,2,19,70,18,25,2,161,26,417,18,21],\n",
    "           '2016' : [31,0,7,140,218,78,6,73,1,13,84,152,13,21,29,3,13,70,0,0,0,166,34,409,22,22],\n",
    "           '2017' : [24,0,12,157,196,78,11,75,1,9,82,140,14,26,30,1,9,73,0,0,0,151,33,472,11,18]\n",
    "           }\n",
    "\n",
    "rec_no = {'offense_list_2013' : rec2_offense_list_2013,\n",
    "           '2013' : [-28,-1,-23,-304,-261,-93,-8,-116,-9,-55,-194,-20,-50,-4,-63,-4,-48,-162,-44,-3,-2,-307,-70,-659,-39,-22],\n",
    "           '2014' : [-34,-1,-10,-391,-296,-120,-14,-126,-11,-46,-228,-85,-25,-48,-63,-3,-42,-163,-0,-0,-1,-238,-62,-650,-53,-44],\n",
    "           '2015' : [-46,-2,-19,-426,-356,-132,-6,-146,-7,-65,-300,-22,-39,-11,-65,-5,-55,-159,-46,-31,-1,-330,-62,-769,-48,-49],\n",
    "           '2016' : [-35,0,-34,-429,-283,-131,-5,-118,-14,-85,-248,-177,-24,-51,-108,-5,-45,-137,0,0,-1,-287,-56,-717,-40,-52],\n",
    "           '2017' : [-40,0,-16,-382,-326,-121,-5,-143,-6,-54,-218,-202,-33,-48,-61,-7,-33,-135,0,0,0,-273,-61,-715,-34,-49]\n",
    "           }\n",
    "p = figure(y_range=offense_list_2015, plot_height=800,plot_width=800, x_range=(-3700, 2200), \\\n",
    "           x_axis_label = \"number of prisoners (negative indicates no recidivism)\",\\\n",
    "           title=\"Prisoner Release/Recidivism by offense subtype\"\n",
    "           \n",
    "          )\n",
    "\n",
    "p.hbar_stack(years, y='offense_list', height=0.9, color=OrRd5, source=ColumnDataSource(rec_yes),\n",
    "             legend=[\"%s recidivism\" % x for x in years])\n",
    "p.hbar_stack(years, y='offense_list_2013', height=0.9, color=GnBu5, source=ColumnDataSource(rec_no),\n",
    "             legend=[\"%s no recidivism\" % x for x in years])\n",
    "\n",
    "\n",
    "\n",
    "p.y_range.range_padding = 0.1\n",
    "p.ygrid.grid_line_color = None\n",
    "p.legend.location = \"center_left\"\n",
    "p.xaxis.axis_label_text_font_style = \"normal\"\n",
    "p.xaxis.axis_label_text_font_size = \"16pt\"\n",
    "p.xaxis.major_label_text_font_size = \"16pt\"\n",
    "p.yaxis.major_label_text_font_size = \"14pt\"\n",
    "p.title.text_font_size = \"14pt\"\n",
    "\n",
    "export_png(p, filename=\"plot.png\")\n",
    "\n",
    "show(p)"
   ]
  },
  {
   "cell_type": "code",
   "execution_count": 39,
   "metadata": {},
   "outputs": [
    {
     "data": {
      "text/html": [
       "\n",
       "    <div class=\"bk-root\">\n",
       "        <a href=\"https://bokeh.pydata.org\" target=\"_blank\" class=\"bk-logo bk-logo-small bk-logo-notebook\"></a>\n",
       "        <span id=\"b44d11e8-f45b-4922-827b-941e0a692903\">Loading BokehJS ...</span>\n",
       "    </div>"
      ]
     },
     "metadata": {},
     "output_type": "display_data"
    },
    {
     "data": {
      "application/javascript": [
       "\n",
       "(function(root) {\n",
       "  function now() {\n",
       "    return new Date();\n",
       "  }\n",
       "\n",
       "  var force = true;\n",
       "\n",
       "  if (typeof (root._bokeh_onload_callbacks) === \"undefined\" || force === true) {\n",
       "    root._bokeh_onload_callbacks = [];\n",
       "    root._bokeh_is_loading = undefined;\n",
       "  }\n",
       "\n",
       "\n",
       "  \n",
       "  if (typeof (root._bokeh_timeout) === \"undefined\" || force === true) {\n",
       "    root._bokeh_timeout = Date.now() + 5000;\n",
       "    root._bokeh_failed_load = false;\n",
       "  }\n",
       "\n",
       "  var NB_LOAD_WARNING = {'data': {'text/html':\n",
       "     \"<div style='background-color: #fdd'>\\n\"+\n",
       "     \"<p>\\n\"+\n",
       "     \"BokehJS does not appear to have successfully loaded. If loading BokehJS from CDN, this \\n\"+\n",
       "     \"may be due to a slow or bad network connection. Possible fixes:\\n\"+\n",
       "     \"</p>\\n\"+\n",
       "     \"<ul>\\n\"+\n",
       "     \"<li>re-rerun `output_notebook()` to attempt to load from CDN again, or</li>\\n\"+\n",
       "     \"<li>use INLINE resources instead, as so:</li>\\n\"+\n",
       "     \"</ul>\\n\"+\n",
       "     \"<code>\\n\"+\n",
       "     \"from bokeh.resources import INLINE\\n\"+\n",
       "     \"output_notebook(resources=INLINE)\\n\"+\n",
       "     \"</code>\\n\"+\n",
       "     \"</div>\"}};\n",
       "\n",
       "  function display_loaded() {\n",
       "    if (root.Bokeh !== undefined) {\n",
       "      var el = document.getElementById(\"b44d11e8-f45b-4922-827b-941e0a692903\");\n",
       "      if (el != null) {\n",
       "        el.textContent = \"BokehJS \" + Bokeh.version + \" successfully loaded.\";\n",
       "      }\n",
       "    } else if (Date.now() < root._bokeh_timeout) {\n",
       "      setTimeout(display_loaded, 100)\n",
       "    }\n",
       "  }\n",
       "\n",
       "\n",
       "  function run_callbacks() {\n",
       "    try {\n",
       "      root._bokeh_onload_callbacks.forEach(function(callback) { callback() });\n",
       "    }\n",
       "    finally {\n",
       "      delete root._bokeh_onload_callbacks\n",
       "    }\n",
       "    console.info(\"Bokeh: all callbacks have finished\");\n",
       "  }\n",
       "\n",
       "  function load_libs(js_urls, callback) {\n",
       "    root._bokeh_onload_callbacks.push(callback);\n",
       "    if (root._bokeh_is_loading > 0) {\n",
       "      console.log(\"Bokeh: BokehJS is being loaded, scheduling callback at\", now());\n",
       "      return null;\n",
       "    }\n",
       "    if (js_urls == null || js_urls.length === 0) {\n",
       "      run_callbacks();\n",
       "      return null;\n",
       "    }\n",
       "    console.log(\"Bokeh: BokehJS not loaded, scheduling load and callback at\", now());\n",
       "    root._bokeh_is_loading = js_urls.length;\n",
       "    for (var i = 0; i < js_urls.length; i++) {\n",
       "      var url = js_urls[i];\n",
       "      var s = document.createElement('script');\n",
       "      s.src = url;\n",
       "      s.async = false;\n",
       "      s.onreadystatechange = s.onload = function() {\n",
       "        root._bokeh_is_loading--;\n",
       "        if (root._bokeh_is_loading === 0) {\n",
       "          console.log(\"Bokeh: all BokehJS libraries loaded\");\n",
       "          run_callbacks()\n",
       "        }\n",
       "      };\n",
       "      s.onerror = function() {\n",
       "        console.warn(\"failed to load library \" + url);\n",
       "      };\n",
       "      console.log(\"Bokeh: injecting script tag for BokehJS library: \", url);\n",
       "      document.getElementsByTagName(\"head\")[0].appendChild(s);\n",
       "    }\n",
       "  };var element = document.getElementById(\"b44d11e8-f45b-4922-827b-941e0a692903\");\n",
       "  if (element == null) {\n",
       "    console.log(\"Bokeh: ERROR: autoload.js configured with elementid 'b44d11e8-f45b-4922-827b-941e0a692903' but no matching script tag was found. \")\n",
       "    return false;\n",
       "  }\n",
       "\n",
       "  var js_urls = [\"https://cdn.pydata.org/bokeh/release/bokeh-0.12.7.min.js\", \"https://cdn.pydata.org/bokeh/release/bokeh-widgets-0.12.7.min.js\", \"https://cdn.pydata.org/bokeh/release/bokeh-tables-0.12.7.min.js\", \"https://cdn.pydata.org/bokeh/release/bokeh-gl-0.12.7.min.js\"];\n",
       "\n",
       "  var inline_js = [\n",
       "    function(Bokeh) {\n",
       "      Bokeh.set_log_level(\"info\");\n",
       "    },\n",
       "    \n",
       "    function(Bokeh) {\n",
       "      \n",
       "    },\n",
       "    \n",
       "    function(Bokeh) {\n",
       "      \n",
       "      document.getElementById(\"b44d11e8-f45b-4922-827b-941e0a692903\").textContent = \"BokehJS is loading...\";\n",
       "    },\n",
       "    function(Bokeh) {\n",
       "      console.log(\"Bokeh: injecting CSS: https://cdn.pydata.org/bokeh/release/bokeh-0.12.7.min.css\");\n",
       "      Bokeh.embed.inject_css(\"https://cdn.pydata.org/bokeh/release/bokeh-0.12.7.min.css\");\n",
       "      console.log(\"Bokeh: injecting CSS: https://cdn.pydata.org/bokeh/release/bokeh-widgets-0.12.7.min.css\");\n",
       "      Bokeh.embed.inject_css(\"https://cdn.pydata.org/bokeh/release/bokeh-widgets-0.12.7.min.css\");\n",
       "      console.log(\"Bokeh: injecting CSS: https://cdn.pydata.org/bokeh/release/bokeh-tables-0.12.7.min.css\");\n",
       "      Bokeh.embed.inject_css(\"https://cdn.pydata.org/bokeh/release/bokeh-tables-0.12.7.min.css\");\n",
       "    }\n",
       "  ];\n",
       "\n",
       "  function run_inline_js() {\n",
       "    \n",
       "    if ((root.Bokeh !== undefined) || (force === true)) {\n",
       "      for (var i = 0; i < inline_js.length; i++) {\n",
       "        inline_js[i].call(root, root.Bokeh);\n",
       "      }if (force === true) {\n",
       "        display_loaded();\n",
       "      }} else if (Date.now() < root._bokeh_timeout) {\n",
       "      setTimeout(run_inline_js, 100);\n",
       "    } else if (!root._bokeh_failed_load) {\n",
       "      console.log(\"Bokeh: BokehJS failed to load within specified timeout.\");\n",
       "      root._bokeh_failed_load = true;\n",
       "    } else if (force !== true) {\n",
       "      var cell = $(document.getElementById(\"b44d11e8-f45b-4922-827b-941e0a692903\")).parents('.cell').data().cell;\n",
       "      cell.output_area.append_execute_result(NB_LOAD_WARNING)\n",
       "    }\n",
       "\n",
       "  }\n",
       "\n",
       "  if (root._bokeh_is_loading === 0) {\n",
       "    console.log(\"Bokeh: BokehJS loaded, going straight to plotting\");\n",
       "    run_inline_js();\n",
       "  } else {\n",
       "    load_libs(js_urls, function() {\n",
       "      console.log(\"Bokeh: BokehJS plotting callback run at\", now());\n",
       "      run_inline_js();\n",
       "    });\n",
       "  }\n",
       "}(window));"
      ]
     },
     "metadata": {},
     "output_type": "display_data"
    },
    {
     "name": "stderr",
     "output_type": "stream",
     "text": [
      "/anaconda3/lib/python3.6/site-packages/selenium/webdriver/phantomjs/webdriver.py:49: UserWarning: Selenium support for PhantomJS has been deprecated, please use headless versions of Chrome or Firefox instead\n",
      "  warnings.warn('Selenium support for PhantomJS has been deprecated, please use headless '\n"
     ]
    },
    {
     "data": {
      "text/html": [
       "\n",
       "\n",
       "    <div class=\"bk-root\">\n",
       "        <div class=\"bk-plotdiv\" id=\"da972cc6-ea33-4335-ae9d-9e7d0571294a\"></div>\n",
       "    </div>\n",
       "<script type=\"text/javascript\">\n",
       "  \n",
       "  (function(root) {\n",
       "    function now() {\n",
       "      return new Date();\n",
       "    }\n",
       "  \n",
       "    var force = false;\n",
       "  \n",
       "    if (typeof (root._bokeh_onload_callbacks) === \"undefined\" || force === true) {\n",
       "      root._bokeh_onload_callbacks = [];\n",
       "      root._bokeh_is_loading = undefined;\n",
       "    }\n",
       "  \n",
       "  \n",
       "    \n",
       "    if (typeof (root._bokeh_timeout) === \"undefined\" || force === true) {\n",
       "      root._bokeh_timeout = Date.now() + 0;\n",
       "      root._bokeh_failed_load = false;\n",
       "    }\n",
       "  \n",
       "    var NB_LOAD_WARNING = {'data': {'text/html':\n",
       "       \"<div style='background-color: #fdd'>\\n\"+\n",
       "       \"<p>\\n\"+\n",
       "       \"BokehJS does not appear to have successfully loaded. If loading BokehJS from CDN, this \\n\"+\n",
       "       \"may be due to a slow or bad network connection. Possible fixes:\\n\"+\n",
       "       \"</p>\\n\"+\n",
       "       \"<ul>\\n\"+\n",
       "       \"<li>re-rerun `output_notebook()` to attempt to load from CDN again, or</li>\\n\"+\n",
       "       \"<li>use INLINE resources instead, as so:</li>\\n\"+\n",
       "       \"</ul>\\n\"+\n",
       "       \"<code>\\n\"+\n",
       "       \"from bokeh.resources import INLINE\\n\"+\n",
       "       \"output_notebook(resources=INLINE)\\n\"+\n",
       "       \"</code>\\n\"+\n",
       "       \"</div>\"}};\n",
       "  \n",
       "    function display_loaded() {\n",
       "      if (root.Bokeh !== undefined) {\n",
       "        var el = document.getElementById(\"da972cc6-ea33-4335-ae9d-9e7d0571294a\");\n",
       "        if (el != null) {\n",
       "          el.textContent = \"BokehJS \" + Bokeh.version + \" successfully loaded.\";\n",
       "        }\n",
       "      } else if (Date.now() < root._bokeh_timeout) {\n",
       "        setTimeout(display_loaded, 100)\n",
       "      }\n",
       "    }\n",
       "  \n",
       "  \n",
       "    function run_callbacks() {\n",
       "      try {\n",
       "        root._bokeh_onload_callbacks.forEach(function(callback) { callback() });\n",
       "      }\n",
       "      finally {\n",
       "        delete root._bokeh_onload_callbacks\n",
       "      }\n",
       "      console.info(\"Bokeh: all callbacks have finished\");\n",
       "    }\n",
       "  \n",
       "    function load_libs(js_urls, callback) {\n",
       "      root._bokeh_onload_callbacks.push(callback);\n",
       "      if (root._bokeh_is_loading > 0) {\n",
       "        console.log(\"Bokeh: BokehJS is being loaded, scheduling callback at\", now());\n",
       "        return null;\n",
       "      }\n",
       "      if (js_urls == null || js_urls.length === 0) {\n",
       "        run_callbacks();\n",
       "        return null;\n",
       "      }\n",
       "      console.log(\"Bokeh: BokehJS not loaded, scheduling load and callback at\", now());\n",
       "      root._bokeh_is_loading = js_urls.length;\n",
       "      for (var i = 0; i < js_urls.length; i++) {\n",
       "        var url = js_urls[i];\n",
       "        var s = document.createElement('script');\n",
       "        s.src = url;\n",
       "        s.async = false;\n",
       "        s.onreadystatechange = s.onload = function() {\n",
       "          root._bokeh_is_loading--;\n",
       "          if (root._bokeh_is_loading === 0) {\n",
       "            console.log(\"Bokeh: all BokehJS libraries loaded\");\n",
       "            run_callbacks()\n",
       "          }\n",
       "        };\n",
       "        s.onerror = function() {\n",
       "          console.warn(\"failed to load library \" + url);\n",
       "        };\n",
       "        console.log(\"Bokeh: injecting script tag for BokehJS library: \", url);\n",
       "        document.getElementsByTagName(\"head\")[0].appendChild(s);\n",
       "      }\n",
       "    };var element = document.getElementById(\"da972cc6-ea33-4335-ae9d-9e7d0571294a\");\n",
       "    if (element == null) {\n",
       "      console.log(\"Bokeh: ERROR: autoload.js configured with elementid 'da972cc6-ea33-4335-ae9d-9e7d0571294a' but no matching script tag was found. \")\n",
       "      return false;\n",
       "    }\n",
       "  \n",
       "    var js_urls = [];\n",
       "  \n",
       "    var inline_js = [\n",
       "      function(Bokeh) {\n",
       "        (function() {\n",
       "          var fn = function() {\n",
       "            var docs_json = {\"c6b58086-e868-41f4-b6bc-b4d84366b4e9\":{\"roots\":{\"references\":[{\"attributes\":{},\"id\":\"4b523d04-a400-4b31-a4b1-3e21b54b6edd\",\"type\":\"BasicTickFormatter\"},{\"attributes\":{\"callback\":null,\"factors\":[\"Alcohol\",\"Animals\",\"Arson\",\"Assault\",\"Burglary\",\"Drug Possession\",\"Flight/Escape\",\"Forgery/Fraud\",\"Kidnap\",\"Murder/Manslaughter\",\"OWI\",\"Other Criminal\",\"Other Drug\",\"Other Public Order\",\"Other Violent\",\"Prostitution/Pimping\",\"Robbery\",\"Sex\",\"Sex Offender Registry/Residency\",\"Special Sentence Revocation\",\"Stolen Property\",\"Theft\",\"Traffic\",\"Trafficking\",\"Vandalism\",\"Weapons\"],\"range_padding\":0.1},\"id\":\"fd009ebd-0216-4a1a-8d61-5e97aa346990\",\"type\":\"FactorRange\"},{\"attributes\":{\"label\":{\"value\":\"2016 rec_no\"},\"renderers\":[{\"id\":\"88049478-a1e3-44a4-8ba6-9f7afd67d2ad\",\"type\":\"GlyphRenderer\"}]},\"id\":\"94db2d80-ef86-4a40-ac62-dc6ff1f20829\",\"type\":\"LegendItem\"},{\"attributes\":{\"fields\":[\"2013\",\"2014\"]},\"id\":\"cdf2a827-1c28-4ede-a688-5d14a4cb12ca\",\"type\":\"Stack\"},{\"attributes\":{\"bottom\":{\"expr\":{\"id\":\"fbd5acff-6559-429e-823a-f87ec723777f\",\"type\":\"Stack\"}},\"fill_color\":{\"value\":\"#fdcc8a\"},\"line_color\":{\"value\":\"#fdcc8a\"},\"top\":{\"expr\":{\"id\":\"7d161031-b059-44a3-afef-49569c43a37b\",\"type\":\"Stack\"}},\"width\":{\"value\":0.9},\"x\":{\"field\":\"offense_list_2013\"}},\"id\":\"25139581-9526-49a6-897f-0ff32e167961\",\"type\":\"VBar\"},{\"attributes\":{\"fields\":[\"2013\",\"2014\",\"2015\",\"2016\"]},\"id\":\"d9f68e75-1175-42c7-8fdf-81ee83b5e4ba\",\"type\":\"Stack\"},{\"attributes\":{\"bottom\":{\"expr\":{\"id\":\"fbd5acff-6559-429e-823a-f87ec723777f\",\"type\":\"Stack\"}},\"fill_alpha\":{\"value\":0.1},\"fill_color\":{\"value\":\"#1f77b4\"},\"line_alpha\":{\"value\":0.1},\"line_color\":{\"value\":\"#1f77b4\"},\"top\":{\"expr\":{\"id\":\"7d161031-b059-44a3-afef-49569c43a37b\",\"type\":\"Stack\"}},\"width\":{\"value\":0.9},\"x\":{\"field\":\"offense_list_2013\"}},\"id\":\"857ac099-4274-4fc3-9787-9ba83a2effe2\",\"type\":\"VBar\"},{\"attributes\":{\"fields\":[\"2013\",\"2014\"]},\"id\":\"da1a1031-fb1b-456d-a419-6931372749f2\",\"type\":\"Stack\"},{\"attributes\":{\"fields\":[\"2013\",\"2014\",\"2015\"]},\"id\":\"176203d1-e213-4e9b-9b4f-7e750ba43f4e\",\"type\":\"Stack\"},{\"attributes\":{\"fields\":[\"2013\",\"2014\",\"2015\",\"2016\"]},\"id\":\"f4a7fff4-55c2-48ca-81b4-e7f31cf65433\",\"type\":\"Stack\"},{\"attributes\":{\"bottom\":{\"expr\":{\"id\":\"d3b54175-536f-4f38-a976-d92ae3e5e905\",\"type\":\"Stack\"}},\"fill_color\":{\"value\":\"#0868ac\"},\"line_color\":{\"value\":\"#0868ac\"},\"top\":{\"expr\":{\"id\":\"748763bf-8211-438a-be19-1222787ef5af\",\"type\":\"Stack\"}},\"width\":{\"value\":0.9},\"x\":{\"field\":\"offense_list\"}},\"id\":\"2b6d67c9-67ee-4a28-91fe-5720183d81b1\",\"type\":\"VBar\"},{\"attributes\":{\"fields\":[\"2013\",\"2014\",\"2015\"]},\"id\":\"1a36c164-642f-4e58-a99f-8ebab9a730f7\",\"type\":\"Stack\"},{\"attributes\":{\"fields\":[\"2013\",\"2014\",\"2015\",\"2016\"]},\"id\":\"11cfbf7e-8d56-4c36-8f8a-f46fdc57d74d\",\"type\":\"Stack\"},{\"attributes\":{\"data_source\":{\"id\":\"42c52f5b-1140-4299-a731-75664433affe\",\"type\":\"ColumnDataSource\"},\"glyph\":{\"id\":\"25139581-9526-49a6-897f-0ff32e167961\",\"type\":\"VBar\"},\"hover_glyph\":null,\"muted_glyph\":null,\"nonselection_glyph\":{\"id\":\"857ac099-4274-4fc3-9787-9ba83a2effe2\",\"type\":\"VBar\"},\"selection_glyph\":null,\"view\":{\"id\":\"e842361a-8a99-4ce6-bc5c-bdffd642fb74\",\"type\":\"CDSView\"}},\"id\":\"88049478-a1e3-44a4-8ba6-9f7afd67d2ad\",\"type\":\"GlyphRenderer\"},{\"attributes\":{\"fields\":[\"2013\",\"2014\",\"2015\",\"2016\",\"2017\"]},\"id\":\"3d8b5f7f-8c79-476c-84d1-d94ac30249df\",\"type\":\"Stack\"},{\"attributes\":{\"source\":{\"id\":\"42c52f5b-1140-4299-a731-75664433affe\",\"type\":\"ColumnDataSource\"}},\"id\":\"e842361a-8a99-4ce6-bc5c-bdffd642fb74\",\"type\":\"CDSView\"},{\"attributes\":{\"data_source\":{\"id\":\"6739b324-992c-421d-8d14-fd83a79d6c2c\",\"type\":\"ColumnDataSource\"},\"glyph\":{\"id\":\"b2097a8d-9b3a-4c6e-a740-ec36ed6b1fd4\",\"type\":\"VBar\"},\"hover_glyph\":null,\"muted_glyph\":null,\"nonselection_glyph\":{\"id\":\"88bd5754-ca9b-408c-b537-30ecdd33b28f\",\"type\":\"VBar\"},\"selection_glyph\":null,\"view\":{\"id\":\"7d97d01d-3ed4-4817-9d61-6bc7c0423baa\",\"type\":\"CDSView\"}},\"id\":\"81aeec8d-2380-46a1-afa0-d77fc77c430d\",\"type\":\"GlyphRenderer\"},{\"attributes\":{\"bottom\":{\"expr\":{\"id\":\"d3b54175-536f-4f38-a976-d92ae3e5e905\",\"type\":\"Stack\"}},\"fill_alpha\":{\"value\":0.1},\"fill_color\":{\"value\":\"#1f77b4\"},\"line_alpha\":{\"value\":0.1},\"line_color\":{\"value\":\"#1f77b4\"},\"top\":{\"expr\":{\"id\":\"748763bf-8211-438a-be19-1222787ef5af\",\"type\":\"Stack\"}},\"width\":{\"value\":0.9},\"x\":{\"field\":\"offense_list\"}},\"id\":\"47094c2b-e1f4-4441-b0b6-11b3b22bb00a\",\"type\":\"VBar\"},{\"attributes\":{\"source\":{\"id\":\"6739b324-992c-421d-8d14-fd83a79d6c2c\",\"type\":\"ColumnDataSource\"}},\"id\":\"7d97d01d-3ed4-4817-9d61-6bc7c0423baa\",\"type\":\"CDSView\"},{\"attributes\":{\"fields\":[]},\"id\":\"22424022-a751-444d-a9a0-3e350bbf637d\",\"type\":\"Stack\"},{\"attributes\":{\"bottom\":{\"expr\":{\"id\":\"da1a1031-fb1b-456d-a419-6931372749f2\",\"type\":\"Stack\"}},\"fill_alpha\":{\"value\":0.1},\"fill_color\":{\"value\":\"#1f77b4\"},\"line_alpha\":{\"value\":0.1},\"line_color\":{\"value\":\"#1f77b4\"},\"top\":{\"expr\":{\"id\":\"176203d1-e213-4e9b-9b4f-7e750ba43f4e\",\"type\":\"Stack\"}},\"width\":{\"value\":0.9},\"x\":{\"field\":\"offense_list\"}},\"id\":\"9b133d82-daaa-4f9f-93ee-769f0124361f\",\"type\":\"VBar\"},{\"attributes\":{\"items\":[{\"id\":\"580a5fb8-9476-4364-8e6e-308c75fe936e\",\"type\":\"LegendItem\"},{\"id\":\"3869fa72-6ddb-443c-8f93-b72107f430f4\",\"type\":\"LegendItem\"},{\"id\":\"285fba94-8960-4877-8ce9-3478b7f76a26\",\"type\":\"LegendItem\"},{\"id\":\"b6fa137d-b84e-46e3-89f0-1c806935d8df\",\"type\":\"LegendItem\"},{\"id\":\"5258e8f3-d0ad-4c27-b918-16e3ae3c16cb\",\"type\":\"LegendItem\"},{\"id\":\"a2518bdc-b837-484f-87eb-24e10d9c5761\",\"type\":\"LegendItem\"},{\"id\":\"ff1313a3-8671-4a0d-9809-ec36d6374adb\",\"type\":\"LegendItem\"},{\"id\":\"872ceeb3-70cd-4b1f-a639-00b6370d1b4b\",\"type\":\"LegendItem\"},{\"id\":\"94db2d80-ef86-4a40-ac62-dc6ff1f20829\",\"type\":\"LegendItem\"},{\"id\":\"87ab6a24-626a-4adb-9e3d-788714d02d08\",\"type\":\"LegendItem\"}],\"location\":\"center_left\",\"plot\":{\"id\":\"c7c3bcbb-abdb-47a2-81cc-b249c7a5cb27\",\"subtype\":\"Figure\",\"type\":\"Plot\"}},\"id\":\"3b80d80c-f988-49a5-94b0-d2d4cc886a44\",\"type\":\"Legend\"},{\"attributes\":{\"label\":{\"value\":\"2013 rec_yes\"},\"renderers\":[{\"id\":\"f814ba5c-cb66-4916-a141-02c2fa3c8687\",\"type\":\"GlyphRenderer\"}]},\"id\":\"580a5fb8-9476-4364-8e6e-308c75fe936e\",\"type\":\"LegendItem\"},{\"attributes\":{\"data_source\":{\"id\":\"6739b324-992c-421d-8d14-fd83a79d6c2c\",\"type\":\"ColumnDataSource\"},\"glyph\":{\"id\":\"2b6d67c9-67ee-4a28-91fe-5720183d81b1\",\"type\":\"VBar\"},\"hover_glyph\":null,\"muted_glyph\":null,\"nonselection_glyph\":{\"id\":\"47094c2b-e1f4-4441-b0b6-11b3b22bb00a\",\"type\":\"VBar\"},\"selection_glyph\":null,\"view\":{\"id\":\"f4242d67-fe57-429d-8b5d-bdd917e761a6\",\"type\":\"CDSView\"}},\"id\":\"f814ba5c-cb66-4916-a141-02c2fa3c8687\",\"type\":\"GlyphRenderer\"},{\"attributes\":{},\"id\":\"cfcffb80-8f31-4e4d-835b-cda789cdaa7b\",\"type\":\"CategoricalTickFormatter\"},{\"attributes\":{\"bottom\":{\"expr\":{\"id\":\"a0e9a7d9-0676-4fdc-adee-e8a91498cb3b\",\"type\":\"Stack\"}},\"fill_alpha\":{\"value\":0.1},\"fill_color\":{\"value\":\"#1f77b4\"},\"line_alpha\":{\"value\":0.1},\"line_color\":{\"value\":\"#1f77b4\"},\"top\":{\"expr\":{\"id\":\"cdf2a827-1c28-4ede-a688-5d14a4cb12ca\",\"type\":\"Stack\"}},\"width\":{\"value\":0.9},\"x\":{\"field\":\"offense_list\"}},\"id\":\"c62b494a-2231-480a-8b5d-446d003b6743\",\"type\":\"VBar\"},{\"attributes\":{\"label\":{\"value\":\"2014 rec_yes\"},\"renderers\":[{\"id\":\"4288cdd5-4730-4413-8b3d-01a649cf03f2\",\"type\":\"GlyphRenderer\"}]},\"id\":\"3869fa72-6ddb-443c-8f93-b72107f430f4\",\"type\":\"LegendItem\"},{\"attributes\":{\"callback\":null,\"column_names\":[\"offense_list\",\"2013\",\"2014\",\"2015\",\"2016\",\"2017\"],\"data\":{\"2013\":[13,0,3,115,143,61,5,59,1,7,49,6,23,1,23,1,16,39,21,4,0,154,28,333,14,8],\"2014\":[24,0,8,133,160,46,1,57,2,7,64,74,4,28,28,3,10,54,0,0,1,130,19,278,16,15],\"2015\":[22,1,4,163,208,73,8,88,1,7,101,12,18,3,21,2,19,70,18,25,2,161,26,417,18,21],\"2016\":[31,0,7,140,218,78,6,73,1,13,84,152,13,21,29,3,13,70,0,0,0,166,34,409,22,22],\"2017\":[24,0,12,157,196,78,11,75,1,9,82,140,14,26,30,1,9,73,0,0,0,151,33,472,11,18],\"offense_list\":[\"Alcohol\",\"Animals\",\"Arson\",\"Assault\",\"Burglary\",\"Drug Possession\",\"Flight/Escape\",\"Forgery/Fraud\",\"Kidnap\",\"Murder/Manslaughter\",\"OWI\",\"Other Criminal\",\"Other Drug\",\"Other Public Order\",\"Other Violent\",\"Prostitution/Pimping\",\"Robbery\",\"Sex\",\"Sex Offender Registry/Residency\",\"Special Sentence Revocation\",\"Stolen Property\",\"Theft\",\"Traffic\",\"Trafficking\",\"Vandalism\",\"Weapons\"]}},\"id\":\"6739b324-992c-421d-8d14-fd83a79d6c2c\",\"type\":\"ColumnDataSource\"},{\"attributes\":{\"bottom\":{\"expr\":{\"id\":\"a0e9a7d9-0676-4fdc-adee-e8a91498cb3b\",\"type\":\"Stack\"}},\"fill_color\":{\"value\":\"#43a2ca\"},\"line_color\":{\"value\":\"#43a2ca\"},\"top\":{\"expr\":{\"id\":\"cdf2a827-1c28-4ede-a688-5d14a4cb12ca\",\"type\":\"Stack\"}},\"width\":{\"value\":0.9},\"x\":{\"field\":\"offense_list\"}},\"id\":\"34b980d4-ce9b-486d-876a-5f41d3d56d54\",\"type\":\"VBar\"},{\"attributes\":{\"data_source\":{\"id\":\"42c52f5b-1140-4299-a731-75664433affe\",\"type\":\"ColumnDataSource\"},\"glyph\":{\"id\":\"4a97ebc0-c753-4867-b508-44bbe3768b58\",\"type\":\"VBar\"},\"hover_glyph\":null,\"muted_glyph\":null,\"nonselection_glyph\":{\"id\":\"9c4cfd31-2de6-43c5-b281-8d66ec29632a\",\"type\":\"VBar\"},\"selection_glyph\":null,\"view\":{\"id\":\"fcb293bf-3d83-4c29-a56d-98fde7aa64cf\",\"type\":\"CDSView\"}},\"id\":\"1afc1251-be48-4de4-8f61-fe8d77914e99\",\"type\":\"GlyphRenderer\"},{\"attributes\":{\"bottom\":{\"expr\":{\"id\":\"da1a1031-fb1b-456d-a419-6931372749f2\",\"type\":\"Stack\"}},\"fill_color\":{\"value\":\"#7bccc4\"},\"line_color\":{\"value\":\"#7bccc4\"},\"top\":{\"expr\":{\"id\":\"176203d1-e213-4e9b-9b4f-7e750ba43f4e\",\"type\":\"Stack\"}},\"width\":{\"value\":0.9},\"x\":{\"field\":\"offense_list\"}},\"id\":\"0a8f729a-6b45-4b8e-b693-bf4fe443a43d\",\"type\":\"VBar\"},{\"attributes\":{\"bottom\":{\"expr\":{\"id\":\"1a36c164-642f-4e58-a99f-8ebab9a730f7\",\"type\":\"Stack\"}},\"fill_alpha\":{\"value\":0.1},\"fill_color\":{\"value\":\"#1f77b4\"},\"line_alpha\":{\"value\":0.1},\"line_color\":{\"value\":\"#1f77b4\"},\"top\":{\"expr\":{\"id\":\"11cfbf7e-8d56-4c36-8f8a-f46fdc57d74d\",\"type\":\"Stack\"}},\"width\":{\"value\":0.9},\"x\":{\"field\":\"offense_list\"}},\"id\":\"5ea41bef-22a4-483e-a4ff-252ac90ed2d2\",\"type\":\"VBar\"},{\"attributes\":{\"data_source\":{\"id\":\"6739b324-992c-421d-8d14-fd83a79d6c2c\",\"type\":\"ColumnDataSource\"},\"glyph\":{\"id\":\"34b980d4-ce9b-486d-876a-5f41d3d56d54\",\"type\":\"VBar\"},\"hover_glyph\":null,\"muted_glyph\":null,\"nonselection_glyph\":{\"id\":\"c62b494a-2231-480a-8b5d-446d003b6743\",\"type\":\"VBar\"},\"selection_glyph\":null,\"view\":{\"id\":\"2f5a2256-2150-4464-865c-ba63fa2a5356\",\"type\":\"CDSView\"}},\"id\":\"4288cdd5-4730-4413-8b3d-01a649cf03f2\",\"type\":\"GlyphRenderer\"},{\"attributes\":{\"source\":{\"id\":\"6739b324-992c-421d-8d14-fd83a79d6c2c\",\"type\":\"ColumnDataSource\"}},\"id\":\"2f5a2256-2150-4464-865c-ba63fa2a5356\",\"type\":\"CDSView\"},{\"attributes\":{\"fields\":[\"2013\",\"2014\"]},\"id\":\"3656d192-11af-4d49-9b1a-1c1abe5c003b\",\"type\":\"Stack\"},{\"attributes\":{\"label\":{\"value\":\"2015 rec_yes\"},\"renderers\":[{\"id\":\"204afd1a-8214-40ab-b377-2665091546b9\",\"type\":\"GlyphRenderer\"}]},\"id\":\"285fba94-8960-4877-8ce9-3478b7f76a26\",\"type\":\"LegendItem\"},{\"attributes\":{\"fields\":[\"2013\"]},\"id\":\"aca0fb19-f043-475f-979b-600f8c4dd2f8\",\"type\":\"Stack\"},{\"attributes\":{\"bottom\":{\"expr\":{\"id\":\"1a36c164-642f-4e58-a99f-8ebab9a730f7\",\"type\":\"Stack\"}},\"fill_color\":{\"value\":\"#bae4bc\"},\"line_color\":{\"value\":\"#bae4bc\"},\"top\":{\"expr\":{\"id\":\"11cfbf7e-8d56-4c36-8f8a-f46fdc57d74d\",\"type\":\"Stack\"}},\"width\":{\"value\":0.9},\"x\":{\"field\":\"offense_list\"}},\"id\":\"f2b1ea94-3d90-4d12-9078-a038c09b8eb4\",\"type\":\"VBar\"},{\"attributes\":{\"fields\":[\"2013\"]},\"id\":\"c9f612e7-c3d8-450e-a745-7de473caa59a\",\"type\":\"Stack\"},{\"attributes\":{\"data_source\":{\"id\":\"6739b324-992c-421d-8d14-fd83a79d6c2c\",\"type\":\"ColumnDataSource\"},\"glyph\":{\"id\":\"0a8f729a-6b45-4b8e-b693-bf4fe443a43d\",\"type\":\"VBar\"},\"hover_glyph\":null,\"muted_glyph\":null,\"nonselection_glyph\":{\"id\":\"9b133d82-daaa-4f9f-93ee-769f0124361f\",\"type\":\"VBar\"},\"selection_glyph\":null,\"view\":{\"id\":\"ab423d1c-662b-42b9-804c-66ce85adb8a9\",\"type\":\"CDSView\"}},\"id\":\"204afd1a-8214-40ab-b377-2665091546b9\",\"type\":\"GlyphRenderer\"},{\"attributes\":{\"source\":{\"id\":\"6739b324-992c-421d-8d14-fd83a79d6c2c\",\"type\":\"ColumnDataSource\"}},\"id\":\"ab423d1c-662b-42b9-804c-66ce85adb8a9\",\"type\":\"CDSView\"},{\"attributes\":{\"source\":{\"id\":\"42c52f5b-1140-4299-a731-75664433affe\",\"type\":\"ColumnDataSource\"}},\"id\":\"b43d6cbb-d1d9-438e-9c7d-40e6ed900bde\",\"type\":\"CDSView\"},{\"attributes\":{\"label\":{\"value\":\"2016 rec_yes\"},\"renderers\":[{\"id\":\"67e945e0-e906-4223-8056-59ef58a54c64\",\"type\":\"GlyphRenderer\"}]},\"id\":\"b6fa137d-b84e-46e3-89f0-1c806935d8df\",\"type\":\"LegendItem\"},{\"attributes\":{\"bottom\":{\"expr\":{\"id\":\"d9f68e75-1175-42c7-8fdf-81ee83b5e4ba\",\"type\":\"Stack\"}},\"fill_alpha\":{\"value\":0.1},\"fill_color\":{\"value\":\"#1f77b4\"},\"line_alpha\":{\"value\":0.1},\"line_color\":{\"value\":\"#1f77b4\"},\"top\":{\"expr\":{\"id\":\"3d8b5f7f-8c79-476c-84d1-d94ac30249df\",\"type\":\"Stack\"}},\"width\":{\"value\":0.9},\"x\":{\"field\":\"offense_list\"}},\"id\":\"88bd5754-ca9b-408c-b537-30ecdd33b28f\",\"type\":\"VBar\"},{\"attributes\":{\"source\":{\"id\":\"42c52f5b-1140-4299-a731-75664433affe\",\"type\":\"ColumnDataSource\"}},\"id\":\"fcb293bf-3d83-4c29-a56d-98fde7aa64cf\",\"type\":\"CDSView\"},{\"attributes\":{\"bottom\":{\"expr\":{\"id\":\"d9f68e75-1175-42c7-8fdf-81ee83b5e4ba\",\"type\":\"Stack\"}},\"fill_color\":{\"value\":\"#f0f9e8\"},\"line_color\":{\"value\":\"#f0f9e8\"},\"top\":{\"expr\":{\"id\":\"3d8b5f7f-8c79-476c-84d1-d94ac30249df\",\"type\":\"Stack\"}},\"width\":{\"value\":0.9},\"x\":{\"field\":\"offense_list\"}},\"id\":\"b2097a8d-9b3a-4c6e-a740-ec36ed6b1fd4\",\"type\":\"VBar\"},{\"attributes\":{\"fields\":[\"2013\",\"2014\",\"2015\",\"2016\"]},\"id\":\"7d161031-b059-44a3-afef-49569c43a37b\",\"type\":\"Stack\"},{\"attributes\":{\"data_source\":{\"id\":\"6739b324-992c-421d-8d14-fd83a79d6c2c\",\"type\":\"ColumnDataSource\"},\"glyph\":{\"id\":\"f2b1ea94-3d90-4d12-9078-a038c09b8eb4\",\"type\":\"VBar\"},\"hover_glyph\":null,\"muted_glyph\":null,\"nonselection_glyph\":{\"id\":\"5ea41bef-22a4-483e-a4ff-252ac90ed2d2\",\"type\":\"VBar\"},\"selection_glyph\":null,\"view\":{\"id\":\"55d7bae1-8957-4961-be29-a9117c063c13\",\"type\":\"CDSView\"}},\"id\":\"67e945e0-e906-4223-8056-59ef58a54c64\",\"type\":\"GlyphRenderer\"},{\"attributes\":{\"source\":{\"id\":\"6739b324-992c-421d-8d14-fd83a79d6c2c\",\"type\":\"ColumnDataSource\"}},\"id\":\"55d7bae1-8957-4961-be29-a9117c063c13\",\"type\":\"CDSView\"},{\"attributes\":{\"label\":{\"value\":\"2017 rec_yes\"},\"renderers\":[{\"id\":\"81aeec8d-2380-46a1-afa0-d77fc77c430d\",\"type\":\"GlyphRenderer\"}]},\"id\":\"5258e8f3-d0ad-4c27-b918-16e3ae3c16cb\",\"type\":\"LegendItem\"},{\"attributes\":{\"fields\":[\"2013\",\"2014\",\"2015\"]},\"id\":\"0e840616-2d90-4a1a-b08b-10beb6816c92\",\"type\":\"Stack\"},{\"attributes\":{\"fields\":[]},\"id\":\"d3b54175-536f-4f38-a976-d92ae3e5e905\",\"type\":\"Stack\"},{\"attributes\":{\"fields\":[\"2013\",\"2014\"]},\"id\":\"6adbfa87-bf28-4bb5-a48f-c5c94808cc19\",\"type\":\"Stack\"},{\"attributes\":{\"source\":{\"id\":\"6739b324-992c-421d-8d14-fd83a79d6c2c\",\"type\":\"ColumnDataSource\"}},\"id\":\"f4242d67-fe57-429d-8b5d-bdd917e761a6\",\"type\":\"CDSView\"},{\"attributes\":{\"below\":[{\"id\":\"b89802be-7fb4-418e-8348-e6098c79418e\",\"type\":\"CategoricalAxis\"}],\"left\":[{\"id\":\"bb082a01-0954-4b5c-a11b-59662c6423fd\",\"type\":\"LinearAxis\"}],\"plot_height\":550,\"plot_width\":900,\"renderers\":[{\"id\":\"b89802be-7fb4-418e-8348-e6098c79418e\",\"type\":\"CategoricalAxis\"},{\"id\":\"e498dd00-3386-4323-8ade-f19cfc9a48c8\",\"type\":\"Grid\"},{\"id\":\"bb082a01-0954-4b5c-a11b-59662c6423fd\",\"type\":\"LinearAxis\"},{\"id\":\"4ae651c1-e756-4bc7-a42f-942575ccd2a8\",\"type\":\"Grid\"},{\"id\":\"63645034-9e13-4a7c-b7a8-7660dd769d3e\",\"type\":\"BoxAnnotation\"},{\"id\":\"3b80d80c-f988-49a5-94b0-d2d4cc886a44\",\"type\":\"Legend\"},{\"id\":\"f814ba5c-cb66-4916-a141-02c2fa3c8687\",\"type\":\"GlyphRenderer\"},{\"id\":\"4288cdd5-4730-4413-8b3d-01a649cf03f2\",\"type\":\"GlyphRenderer\"},{\"id\":\"204afd1a-8214-40ab-b377-2665091546b9\",\"type\":\"GlyphRenderer\"},{\"id\":\"67e945e0-e906-4223-8056-59ef58a54c64\",\"type\":\"GlyphRenderer\"},{\"id\":\"81aeec8d-2380-46a1-afa0-d77fc77c430d\",\"type\":\"GlyphRenderer\"},{\"id\":\"aead6110-e049-40f5-abb5-a4481a7bfa13\",\"type\":\"GlyphRenderer\"},{\"id\":\"ead1f17d-7e73-4e97-8b2b-ce6981ea91d8\",\"type\":\"GlyphRenderer\"},{\"id\":\"5d265286-801b-452c-afad-4b231a004a8f\",\"type\":\"GlyphRenderer\"},{\"id\":\"88049478-a1e3-44a4-8ba6-9f7afd67d2ad\",\"type\":\"GlyphRenderer\"},{\"id\":\"1afc1251-be48-4de4-8f61-fe8d77914e99\",\"type\":\"GlyphRenderer\"}],\"title\":{\"id\":\"f8ef170e-6171-464a-8344-5a7e49aacffb\",\"type\":\"Title\"},\"toolbar\":{\"id\":\"6e2810e5-582e-4fdb-943f-9053e198d739\",\"type\":\"Toolbar\"},\"x_range\":{\"id\":\"fd009ebd-0216-4a1a-8d61-5e97aa346990\",\"type\":\"FactorRange\"},\"x_scale\":{\"id\":\"2f9ef2a9-6e64-43d5-b0b4-ee47c87dc27e\",\"type\":\"CategoricalScale\"},\"y_range\":{\"id\":\"2a49afc7-e3a7-4e81-80ce-c0660824a713\",\"type\":\"Range1d\"},\"y_scale\":{\"id\":\"ad169a6e-c45b-437d-8609-f9be40d8fc2b\",\"type\":\"LinearScale\"}},\"id\":\"c7c3bcbb-abdb-47a2-81cc-b249c7a5cb27\",\"subtype\":\"Figure\",\"type\":\"Plot\"},{\"attributes\":{\"fields\":[\"2013\",\"2014\",\"2015\"]},\"id\":\"fbd5acff-6559-429e-823a-f87ec723777f\",\"type\":\"Stack\"},{\"attributes\":{\"bottom\":{\"expr\":{\"id\":\"22424022-a751-444d-a9a0-3e350bbf637d\",\"type\":\"Stack\"}},\"fill_color\":{\"value\":\"#b30000\"},\"line_color\":{\"value\":\"#b30000\"},\"top\":{\"expr\":{\"id\":\"aca0fb19-f043-475f-979b-600f8c4dd2f8\",\"type\":\"Stack\"}},\"width\":{\"value\":0.9},\"x\":{\"field\":\"offense_list_2013\"}},\"id\":\"f3e928b5-1c4f-466d-a272-3812157378c7\",\"type\":\"VBar\"},{\"attributes\":{\"plot\":null,\"text\":\"Prisoner Release/Recidivism by year\"},\"id\":\"f8ef170e-6171-464a-8344-5a7e49aacffb\",\"type\":\"Title\"},{\"attributes\":{\"fields\":[\"2013\",\"2014\",\"2015\",\"2016\",\"2017\"]},\"id\":\"6dcdf328-3f47-4c74-a0e9-3e023d9844f1\",\"type\":\"Stack\"},{\"attributes\":{\"formatter\":{\"id\":\"4b523d04-a400-4b31-a4b1-3e21b54b6edd\",\"type\":\"BasicTickFormatter\"},\"plot\":{\"id\":\"c7c3bcbb-abdb-47a2-81cc-b249c7a5cb27\",\"subtype\":\"Figure\",\"type\":\"Plot\"},\"ticker\":{\"id\":\"6eed187a-e0ab-4856-aa57-d51e348dfa0e\",\"type\":\"BasicTicker\"}},\"id\":\"bb082a01-0954-4b5c-a11b-59662c6423fd\",\"type\":\"LinearAxis\"},{\"attributes\":{\"label\":{\"value\":\"2013 rec_no\"},\"renderers\":[{\"id\":\"aead6110-e049-40f5-abb5-a4481a7bfa13\",\"type\":\"GlyphRenderer\"}]},\"id\":\"a2518bdc-b837-484f-87eb-24e10d9c5761\",\"type\":\"LegendItem\"},{\"attributes\":{\"active_drag\":\"auto\",\"active_inspect\":\"auto\",\"active_scroll\":\"auto\",\"active_tap\":\"auto\",\"tools\":[{\"id\":\"ce3f5715-e1e3-4068-9e5c-c4cb7da17d5d\",\"type\":\"PanTool\"},{\"id\":\"e546927d-04bc-4888-bf76-427f40438aec\",\"type\":\"WheelZoomTool\"},{\"id\":\"c3eeb9f5-fe02-4bfd-a93f-9f24e4801661\",\"type\":\"BoxZoomTool\"},{\"id\":\"5fbaffc5-3988-4130-bbd5-590e08609bdc\",\"type\":\"SaveTool\"},{\"id\":\"83c80bc9-e3f1-4989-9f47-6ecf774ef8f9\",\"type\":\"ResetTool\"},{\"id\":\"96c8604d-3ac4-47a4-83d8-1fb8edb2436d\",\"type\":\"HelpTool\"}]},\"id\":\"6e2810e5-582e-4fdb-943f-9053e198d739\",\"type\":\"Toolbar\"},{\"attributes\":{\"bottom\":{\"expr\":{\"id\":\"22424022-a751-444d-a9a0-3e350bbf637d\",\"type\":\"Stack\"}},\"fill_alpha\":{\"value\":0.1},\"fill_color\":{\"value\":\"#1f77b4\"},\"line_alpha\":{\"value\":0.1},\"line_color\":{\"value\":\"#1f77b4\"},\"top\":{\"expr\":{\"id\":\"aca0fb19-f043-475f-979b-600f8c4dd2f8\",\"type\":\"Stack\"}},\"width\":{\"value\":0.9},\"x\":{\"field\":\"offense_list_2013\"}},\"id\":\"0a8dadf5-e7d9-4d08-88f9-a4b12cf5dbb4\",\"type\":\"VBar\"},{\"attributes\":{\"formatter\":{\"id\":\"cfcffb80-8f31-4e4d-835b-cda789cdaa7b\",\"type\":\"CategoricalTickFormatter\"},\"major_label_orientation\":45,\"plot\":{\"id\":\"c7c3bcbb-abdb-47a2-81cc-b249c7a5cb27\",\"subtype\":\"Figure\",\"type\":\"Plot\"},\"ticker\":{\"id\":\"4a8ee56b-6caa-4a2a-be45-62ff6bbad1cf\",\"type\":\"CategoricalTicker\"}},\"id\":\"b89802be-7fb4-418e-8348-e6098c79418e\",\"type\":\"CategoricalAxis\"},{\"attributes\":{\"grid_line_color\":{\"value\":null},\"plot\":{\"id\":\"c7c3bcbb-abdb-47a2-81cc-b249c7a5cb27\",\"subtype\":\"Figure\",\"type\":\"Plot\"},\"ticker\":{\"id\":\"4a8ee56b-6caa-4a2a-be45-62ff6bbad1cf\",\"type\":\"CategoricalTicker\"}},\"id\":\"e498dd00-3386-4323-8ade-f19cfc9a48c8\",\"type\":\"Grid\"},{\"attributes\":{\"bottom\":{\"expr\":{\"id\":\"c9f612e7-c3d8-450e-a745-7de473caa59a\",\"type\":\"Stack\"}},\"fill_color\":{\"value\":\"#e34a33\"},\"line_color\":{\"value\":\"#e34a33\"},\"top\":{\"expr\":{\"id\":\"6adbfa87-bf28-4bb5-a48f-c5c94808cc19\",\"type\":\"Stack\"}},\"width\":{\"value\":0.9},\"x\":{\"field\":\"offense_list_2013\"}},\"id\":\"e4c2de9d-e9a9-465c-82f4-a384e2927177\",\"type\":\"VBar\"},{\"attributes\":{\"callback\":null,\"end\":600,\"start\":-800},\"id\":\"2a49afc7-e3a7-4e81-80ce-c0660824a713\",\"type\":\"Range1d\"},{\"attributes\":{\"bottom\":{\"expr\":{\"id\":\"c9f612e7-c3d8-450e-a745-7de473caa59a\",\"type\":\"Stack\"}},\"fill_alpha\":{\"value\":0.1},\"fill_color\":{\"value\":\"#1f77b4\"},\"line_alpha\":{\"value\":0.1},\"line_color\":{\"value\":\"#1f77b4\"},\"top\":{\"expr\":{\"id\":\"6adbfa87-bf28-4bb5-a48f-c5c94808cc19\",\"type\":\"Stack\"}},\"width\":{\"value\":0.9},\"x\":{\"field\":\"offense_list_2013\"}},\"id\":\"96ad8e20-2558-404f-9d2e-f8b8c49caa34\",\"type\":\"VBar\"},{\"attributes\":{},\"id\":\"2f9ef2a9-6e64-43d5-b0b4-ee47c87dc27e\",\"type\":\"CategoricalScale\"},{\"attributes\":{},\"id\":\"ad169a6e-c45b-437d-8609-f9be40d8fc2b\",\"type\":\"LinearScale\"},{\"attributes\":{\"bottom\":{\"expr\":{\"id\":\"3656d192-11af-4d49-9b1a-1c1abe5c003b\",\"type\":\"Stack\"}},\"fill_alpha\":{\"value\":0.1},\"fill_color\":{\"value\":\"#1f77b4\"},\"line_alpha\":{\"value\":0.1},\"line_color\":{\"value\":\"#1f77b4\"},\"top\":{\"expr\":{\"id\":\"0e840616-2d90-4a1a-b08b-10beb6816c92\",\"type\":\"Stack\"}},\"width\":{\"value\":0.9},\"x\":{\"field\":\"offense_list_2013\"}},\"id\":\"4481025f-d918-4f55-a583-8b8c87f66a7f\",\"type\":\"VBar\"},{\"attributes\":{\"fields\":[\"2013\"]},\"id\":\"a0e9a7d9-0676-4fdc-adee-e8a91498cb3b\",\"type\":\"Stack\"},{\"attributes\":{\"data_source\":{\"id\":\"42c52f5b-1140-4299-a731-75664433affe\",\"type\":\"ColumnDataSource\"},\"glyph\":{\"id\":\"f3e928b5-1c4f-466d-a272-3812157378c7\",\"type\":\"VBar\"},\"hover_glyph\":null,\"muted_glyph\":null,\"nonselection_glyph\":{\"id\":\"0a8dadf5-e7d9-4d08-88f9-a4b12cf5dbb4\",\"type\":\"VBar\"},\"selection_glyph\":null,\"view\":{\"id\":\"2c3d89da-44e4-4e5c-aa04-79b74603f240\",\"type\":\"CDSView\"}},\"id\":\"aead6110-e049-40f5-abb5-a4481a7bfa13\",\"type\":\"GlyphRenderer\"},{\"attributes\":{},\"id\":\"4a8ee56b-6caa-4a2a-be45-62ff6bbad1cf\",\"type\":\"CategoricalTicker\"},{\"attributes\":{\"source\":{\"id\":\"42c52f5b-1140-4299-a731-75664433affe\",\"type\":\"ColumnDataSource\"}},\"id\":\"2c3d89da-44e4-4e5c-aa04-79b74603f240\",\"type\":\"CDSView\"},{\"attributes\":{},\"id\":\"6eed187a-e0ab-4856-aa57-d51e348dfa0e\",\"type\":\"BasicTicker\"},{\"attributes\":{\"bottom\":{\"expr\":{\"id\":\"f4a7fff4-55c2-48ca-81b4-e7f31cf65433\",\"type\":\"Stack\"}},\"fill_color\":{\"value\":\"#fef0d9\"},\"line_color\":{\"value\":\"#fef0d9\"},\"top\":{\"expr\":{\"id\":\"6dcdf328-3f47-4c74-a0e9-3e023d9844f1\",\"type\":\"Stack\"}},\"width\":{\"value\":0.9},\"x\":{\"field\":\"offense_list_2013\"}},\"id\":\"4a97ebc0-c753-4867-b508-44bbe3768b58\",\"type\":\"VBar\"},{\"attributes\":{\"dimension\":1,\"plot\":{\"id\":\"c7c3bcbb-abdb-47a2-81cc-b249c7a5cb27\",\"subtype\":\"Figure\",\"type\":\"Plot\"},\"ticker\":{\"id\":\"6eed187a-e0ab-4856-aa57-d51e348dfa0e\",\"type\":\"BasicTicker\"}},\"id\":\"4ae651c1-e756-4bc7-a42f-942575ccd2a8\",\"type\":\"Grid\"},{\"attributes\":{\"label\":{\"value\":\"2014 rec_no\"},\"renderers\":[{\"id\":\"ead1f17d-7e73-4e97-8b2b-ce6981ea91d8\",\"type\":\"GlyphRenderer\"}]},\"id\":\"ff1313a3-8671-4a0d-9809-ec36d6374adb\",\"type\":\"LegendItem\"},{\"attributes\":{\"callback\":null,\"column_names\":[\"offense_list_2013\",\"2013\",\"2014\",\"2015\",\"2016\",\"2017\"],\"data\":{\"2013\":[-28,-1,-23,-304,-261,-93,-8,-116,-9,-55,-194,-20,-50,-4,-63,-4,-48,-162,-44,-3,-2,-307,-70,-659,-39,-22],\"2014\":[-34,-1,-10,-391,-296,-120,-14,-126,-11,-46,-228,-85,-25,-48,-63,-3,-42,-163,0,0,-1,-238,-62,-650,-53,-44],\"2015\":[-46,-2,-19,-426,-356,-132,-6,-146,-7,-65,-300,-22,-39,-11,-65,-5,-55,-159,-46,-31,-1,-330,-62,-769,-48,-49],\"2016\":[-35,0,-34,-429,-283,-131,-5,-118,-14,-85,-248,-177,-24,-51,-108,-5,-45,-137,0,0,-1,-287,-56,-717,-40,-52],\"2017\":[-40,0,-16,-382,-326,-121,-5,-143,-6,-54,-218,-202,-33,-48,-61,-7,-33,-135,0,0,0,-273,-61,-715,-34,-49],\"offense_list_2013\":[\"Alcohol\",\"Animals\",\"Arson\",\"Assault\",\"Burglary\",\"Drug Possession\",\"Flight/Escape\",\"Forgery/Fraud\",\"Kidnap\",\"Murder/Manslaughter\",\"OWI\",\"Other Criminal\",\"Other Drug\",\"Other Public Order\",\"Other Violent\",\"Prostitution/Pimping\",\"Robbery\",\"Sex\",\"Sex Offender Registry/Residency\",\"Special Sentence Revocation\",\"Stolen Property\",\"Theft\",\"Traffic\",\"Trafficking\",\"Vandalism\",\"Weapons\"]}},\"id\":\"42c52f5b-1140-4299-a731-75664433affe\",\"type\":\"ColumnDataSource\"},{\"attributes\":{\"bottom\":{\"expr\":{\"id\":\"f4a7fff4-55c2-48ca-81b4-e7f31cf65433\",\"type\":\"Stack\"}},\"fill_alpha\":{\"value\":0.1},\"fill_color\":{\"value\":\"#1f77b4\"},\"line_alpha\":{\"value\":0.1},\"line_color\":{\"value\":\"#1f77b4\"},\"top\":{\"expr\":{\"id\":\"6dcdf328-3f47-4c74-a0e9-3e023d9844f1\",\"type\":\"Stack\"}},\"width\":{\"value\":0.9},\"x\":{\"field\":\"offense_list_2013\"}},\"id\":\"9c4cfd31-2de6-43c5-b281-8d66ec29632a\",\"type\":\"VBar\"},{\"attributes\":{\"bottom\":{\"expr\":{\"id\":\"3656d192-11af-4d49-9b1a-1c1abe5c003b\",\"type\":\"Stack\"}},\"fill_color\":{\"value\":\"#fc8d59\"},\"line_color\":{\"value\":\"#fc8d59\"},\"top\":{\"expr\":{\"id\":\"0e840616-2d90-4a1a-b08b-10beb6816c92\",\"type\":\"Stack\"}},\"width\":{\"value\":0.9},\"x\":{\"field\":\"offense_list_2013\"}},\"id\":\"99f08037-8856-4233-b08a-697fdc35dca0\",\"type\":\"VBar\"},{\"attributes\":{\"fields\":[\"2013\"]},\"id\":\"748763bf-8211-438a-be19-1222787ef5af\",\"type\":\"Stack\"},{\"attributes\":{\"data_source\":{\"id\":\"42c52f5b-1140-4299-a731-75664433affe\",\"type\":\"ColumnDataSource\"},\"glyph\":{\"id\":\"99f08037-8856-4233-b08a-697fdc35dca0\",\"type\":\"VBar\"},\"hover_glyph\":null,\"muted_glyph\":null,\"nonselection_glyph\":{\"id\":\"4481025f-d918-4f55-a583-8b8c87f66a7f\",\"type\":\"VBar\"},\"selection_glyph\":null,\"view\":{\"id\":\"b43d6cbb-d1d9-438e-9c7d-40e6ed900bde\",\"type\":\"CDSView\"}},\"id\":\"5d265286-801b-452c-afad-4b231a004a8f\",\"type\":\"GlyphRenderer\"},{\"attributes\":{},\"id\":\"ce3f5715-e1e3-4068-9e5c-c4cb7da17d5d\",\"type\":\"PanTool\"},{\"attributes\":{\"data_source\":{\"id\":\"42c52f5b-1140-4299-a731-75664433affe\",\"type\":\"ColumnDataSource\"},\"glyph\":{\"id\":\"e4c2de9d-e9a9-465c-82f4-a384e2927177\",\"type\":\"VBar\"},\"hover_glyph\":null,\"muted_glyph\":null,\"nonselection_glyph\":{\"id\":\"96ad8e20-2558-404f-9d2e-f8b8c49caa34\",\"type\":\"VBar\"},\"selection_glyph\":null,\"view\":{\"id\":\"c41fed3a-8792-4097-896b-bd175db4a38d\",\"type\":\"CDSView\"}},\"id\":\"ead1f17d-7e73-4e97-8b2b-ce6981ea91d8\",\"type\":\"GlyphRenderer\"},{\"attributes\":{\"bottom_units\":\"screen\",\"fill_alpha\":{\"value\":0.5},\"fill_color\":{\"value\":\"lightgrey\"},\"left_units\":\"screen\",\"level\":\"overlay\",\"line_alpha\":{\"value\":1.0},\"line_color\":{\"value\":\"black\"},\"line_dash\":[4,4],\"line_width\":{\"value\":2},\"plot\":null,\"render_mode\":\"css\",\"right_units\":\"screen\",\"top_units\":\"screen\"},\"id\":\"63645034-9e13-4a7c-b7a8-7660dd769d3e\",\"type\":\"BoxAnnotation\"},{\"attributes\":{\"source\":{\"id\":\"42c52f5b-1140-4299-a731-75664433affe\",\"type\":\"ColumnDataSource\"}},\"id\":\"c41fed3a-8792-4097-896b-bd175db4a38d\",\"type\":\"CDSView\"},{\"attributes\":{},\"id\":\"e546927d-04bc-4888-bf76-427f40438aec\",\"type\":\"WheelZoomTool\"},{\"attributes\":{\"overlay\":{\"id\":\"63645034-9e13-4a7c-b7a8-7660dd769d3e\",\"type\":\"BoxAnnotation\"}},\"id\":\"c3eeb9f5-fe02-4bfd-a93f-9f24e4801661\",\"type\":\"BoxZoomTool\"},{\"attributes\":{\"label\":{\"value\":\"2015 rec_no\"},\"renderers\":[{\"id\":\"5d265286-801b-452c-afad-4b231a004a8f\",\"type\":\"GlyphRenderer\"}]},\"id\":\"872ceeb3-70cd-4b1f-a639-00b6370d1b4b\",\"type\":\"LegendItem\"},{\"attributes\":{},\"id\":\"5fbaffc5-3988-4130-bbd5-590e08609bdc\",\"type\":\"SaveTool\"},{\"attributes\":{\"label\":{\"value\":\"2017 rec_no\"},\"renderers\":[{\"id\":\"1afc1251-be48-4de4-8f61-fe8d77914e99\",\"type\":\"GlyphRenderer\"}]},\"id\":\"87ab6a24-626a-4adb-9e3d-788714d02d08\",\"type\":\"LegendItem\"},{\"attributes\":{},\"id\":\"83c80bc9-e3f1-4989-9f47-6ecf774ef8f9\",\"type\":\"ResetTool\"},{\"attributes\":{},\"id\":\"96c8604d-3ac4-47a4-83d8-1fb8edb2436d\",\"type\":\"HelpTool\"}],\"root_ids\":[\"c7c3bcbb-abdb-47a2-81cc-b249c7a5cb27\"]},\"title\":\"Bokeh Application\",\"version\":\"0.12.7\"}};\n",
       "            var render_items = [{\"docid\":\"c6b58086-e868-41f4-b6bc-b4d84366b4e9\",\"elementid\":\"da972cc6-ea33-4335-ae9d-9e7d0571294a\",\"modelid\":\"c7c3bcbb-abdb-47a2-81cc-b249c7a5cb27\"}];\n",
       "            \n",
       "            Bokeh.embed.embed_items(docs_json, render_items);\n",
       "          };\n",
       "          if (document.readyState != \"loading\") fn();\n",
       "          else document.addEventListener(\"DOMContentLoaded\", fn);\n",
       "        })();\n",
       "      },\n",
       "      function(Bokeh) {\n",
       "      }\n",
       "    ];\n",
       "  \n",
       "    function run_inline_js() {\n",
       "      \n",
       "      if ((root.Bokeh !== undefined) || (force === true)) {\n",
       "        for (var i = 0; i < inline_js.length; i++) {\n",
       "          inline_js[i].call(root, root.Bokeh);\n",
       "        }if (force === true) {\n",
       "          display_loaded();\n",
       "        }} else if (Date.now() < root._bokeh_timeout) {\n",
       "        setTimeout(run_inline_js, 100);\n",
       "      } else if (!root._bokeh_failed_load) {\n",
       "        console.log(\"Bokeh: BokehJS failed to load within specified timeout.\");\n",
       "        root._bokeh_failed_load = true;\n",
       "      } else if (force !== true) {\n",
       "        var cell = $(document.getElementById(\"da972cc6-ea33-4335-ae9d-9e7d0571294a\")).parents('.cell').data().cell;\n",
       "        cell.output_area.append_execute_result(NB_LOAD_WARNING)\n",
       "      }\n",
       "  \n",
       "    }\n",
       "  \n",
       "    if (root._bokeh_is_loading === 0) {\n",
       "      console.log(\"Bokeh: BokehJS loaded, going straight to plotting\");\n",
       "      run_inline_js();\n",
       "    } else {\n",
       "      load_libs(js_urls, function() {\n",
       "        console.log(\"Bokeh: BokehJS plotting callback run at\", now());\n",
       "        run_inline_js();\n",
       "      });\n",
       "    }\n",
       "  }(window));\n",
       "</script>"
      ]
     },
     "metadata": {},
     "output_type": "display_data"
    }
   ],
   "source": [
    "from bokeh.io import show, output_notebook\n",
    "output_notebook()\n",
    "from bokeh.plotting import figure\n",
    "from bokeh.models import ColumnDataSource\n",
    "from bokeh.palettes import GnBu5, OrRd5\n",
    "\n",
    "years = ['2013','2014','2015','2016','2017']\n",
    "\n",
    "rec_yes = {'offense_list' : offense_list_2015,\n",
    "           '2013' : [13,0,3,115,143,61,5,59,1,7,49,6,23,1,23,1,16,39,21,4,0,154,28,333,14,8],\n",
    "           '2014' : [24,0,8,133,160,46,1,57,2,7,64,74,4,28,28,3,10,54,0,0,1,130,19,278,16,15],\n",
    "           '2015' : [22,1,4,163,208,73,8,88,1,7,101,12,18,3,21,2,19,70,18,25,2,161,26,417,18,21],\n",
    "           '2016' : [31,0,7,140,218,78,6,73,1,13,84,152,13,21,29,3,13,70,0,0,0,166,34,409,22,22],\n",
    "           '2017' : [24,0,12,157,196,78,11,75,1,9,82,140,14,26,30,1,9,73,0,0,0,151,33,472,11,18]\n",
    "           }\n",
    "\n",
    "rec_no = {'offense_list_2013' : rec2_offense_list_2013,\n",
    "           '2013' : [-28,-1,-23,-304,-261,-93,-8,-116,-9,-55,-194,-20,-50,-4,-63,-4,-48,-162,-44,-3,-2,-307,-70,-659,-39,-22],\n",
    "           '2014' : [-34,-1,-10,-391,-296,-120,-14,-126,-11,-46,-228,-85,-25,-48,-63,-3,-42,-163,-0,-0,-1,-238,-62,-650,-53,-44],\n",
    "           '2015' : [-46,-2,-19,-426,-356,-132,-6,-146,-7,-65,-300,-22,-39,-11,-65,-5,-55,-159,-46,-31,-1,-330,-62,-769,-48,-49],\n",
    "           '2016' : [-35,0,-34,-429,-283,-131,-5,-118,-14,-85,-248,-177,-24,-51,-108,-5,-45,-137,0,0,-1,-287,-56,-717,-40,-52],\n",
    "           '2017' : [-40,0,-16,-382,-326,-121,-5,-143,-6,-54,-218,-202,-33,-48,-61,-7,-33,-135,0,0,0,-273,-61,-715,-34,-49]\n",
    "           }\n",
    "p = figure(x_range=offense_list_2015, plot_height=550,plot_width=900, y_range=(-800, 600), title=\"Prisoner Release/Recidivism by year\")\n",
    "\n",
    "p.vbar_stack(years, x='offense_list', width=0.9, color=GnBu5, source=ColumnDataSource(rec_yes),\n",
    "             legend=[\"%s rec_yes\" % y for y in years])\n",
    "p.vbar_stack(years, x='offense_list_2013', width=0.9, color=OrRd5, source=ColumnDataSource(rec_no),\n",
    "             legend=[\"%s rec_no\" % y for y in years])\n",
    "\n",
    "\n",
    "\n",
    "p.x_range.range_padding = 0.1\n",
    "p.xgrid.grid_line_color = None\n",
    "p.legend.location = \"center_left\"\n",
    "p.xaxis.major_label_orientation = 45\n",
    "export_png(p, filename=\"plot2.png\")\n",
    "show(p)"
   ]
  },
  {
   "cell_type": "markdown",
   "metadata": {},
   "source": [
    "**Release Type**"
   ]
  },
  {
   "cell_type": "code",
   "execution_count": 40,
   "metadata": {},
   "outputs": [
    {
     "data": {
      "text/plain": [
       "Parole                                 9810\n",
       "Discharged – End of Sentence           5006\n",
       "Parole Granted                         2883\n",
       "Unknown                                1761\n",
       "Discharged - Expiration of Sentence    1215\n",
       "Special Sentence                        347\n",
       "Paroled w/Immediate Discharge           204\n",
       "Released to Special Sentence            172\n",
       "Paroled to Detainer - INS                81\n",
       "Paroled to Detainer - Out of State       56\n",
       "Paroled to Detainer - Iowa               41\n",
       "Paroled to Detainer - U.S. Marshall      35\n",
       "Name: Release Type, dtype: int64"
      ]
     },
     "execution_count": 40,
     "metadata": {},
     "output_type": "execute_result"
    }
   ],
   "source": [
    "recidivism_data['Release Type'].value_counts(dropna=False)"
   ]
  },
  {
   "cell_type": "markdown",
   "metadata": {},
   "source": [
    "There are 1,762 records with missing values for the attribute 'Release Type'. Convert 'NaN' to 'Unknown' value."
   ]
  },
  {
   "cell_type": "code",
   "execution_count": 41,
   "metadata": {},
   "outputs": [
    {
     "data": {
      "text/plain": [
       "Parole                                 9810\n",
       "Discharged – End of Sentence           5006\n",
       "Parole Granted                         2883\n",
       "Unknown                                1761\n",
       "Discharged - Expiration of Sentence    1215\n",
       "Special Sentence                        347\n",
       "Paroled w/Immediate Discharge           204\n",
       "Released to Special Sentence            172\n",
       "Paroled to Detainer - INS                81\n",
       "Paroled to Detainer - Out of State       56\n",
       "Paroled to Detainer - Iowa               41\n",
       "Paroled to Detainer - U.S. Marshall      35\n",
       "Name: Release Type, dtype: int64"
      ]
     },
     "execution_count": 41,
     "metadata": {},
     "output_type": "execute_result"
    }
   ],
   "source": [
    "recidivism_data['Release Type'].value_counts(dropna=False)"
   ]
  },
  {
   "cell_type": "markdown",
   "metadata": {},
   "source": [
    "**Main Supervising District**"
   ]
  },
  {
   "cell_type": "code",
   "execution_count": 42,
   "metadata": {},
   "outputs": [
    {
     "data": {
      "text/plain": [
       "Unknown               8436\n",
       "5JD                   3970\n",
       "1JD                   2188\n",
       "2JD                   1526\n",
       "7JD                   1262\n",
       "8JD                   1253\n",
       "3JD                    931\n",
       "6JD                    873\n",
       "4JD                    513\n",
       "ISC                    350\n",
       "Interstate Compact     309\n",
       "Name: Main Supervising District, dtype: int64"
      ]
     },
     "execution_count": 42,
     "metadata": {},
     "output_type": "execute_result"
    }
   ],
   "source": [
    "recidivism_data['Main Supervising District'].value_counts(dropna=False)"
   ]
  },
  {
   "cell_type": "markdown",
   "metadata": {},
   "source": [
    "There are 8,470 records with missing values for the attribute 'Main Supervising District'. Convert 'NaN' to 'Unknown' value."
   ]
  },
  {
   "cell_type": "code",
   "execution_count": 43,
   "metadata": {},
   "outputs": [
    {
     "data": {
      "text/plain": [
       "Unknown               8436\n",
       "5JD                   3970\n",
       "1JD                   2188\n",
       "2JD                   1526\n",
       "7JD                   1262\n",
       "8JD                   1253\n",
       "3JD                    931\n",
       "6JD                    873\n",
       "4JD                    513\n",
       "ISC                    350\n",
       "Interstate Compact     309\n",
       "Name: Main Supervising District, dtype: int64"
      ]
     },
     "execution_count": 43,
     "metadata": {},
     "output_type": "execute_result"
    }
   ],
   "source": [
    "recidivism_data['Main Supervising District'].value_counts(dropna=False)"
   ]
  },
  {
   "cell_type": "markdown",
   "metadata": {},
   "source": [
    "**Recidivism - Return to Prison**"
   ]
  },
  {
   "cell_type": "code",
   "execution_count": 44,
   "metadata": {},
   "outputs": [
    {
     "data": {
      "text/plain": [
       "No     14584\n",
       "Yes     7027\n",
       "Name: Recidivism - Return to Prison, dtype: int64"
      ]
     },
     "execution_count": 44,
     "metadata": {},
     "output_type": "execute_result"
    }
   ],
   "source": [
    "recidivism_data['Recidivism - Return to Prison'].value_counts(dropna=False)"
   ]
  },
  {
   "cell_type": "markdown",
   "metadata": {},
   "source": [
    "**Recidivism Type**"
   ]
  },
  {
   "cell_type": "code",
   "execution_count": 45,
   "metadata": {},
   "outputs": [
    {
     "data": {
      "text/plain": [
       "No Recidivism    14584\n",
       "New               4554\n",
       "Tech              2473\n",
       "Name: Recidivism Type, dtype: int64"
      ]
     },
     "execution_count": 45,
     "metadata": {},
     "output_type": "execute_result"
    }
   ],
   "source": [
    "recidivism_data['Recidivism Type'].value_counts(dropna=False)"
   ]
  },
  {
   "cell_type": "markdown",
   "metadata": {},
   "source": [
    "The values for the 'Recidivism Type'indicates 'No Recidivism' has 11,656 records, 'New' and 'Tech' have 7027 records. However, the attribute 'Recidivism - Return to Prison' shows there are 14,619 recidivism instances. Therefore, it is likely that the 'NaN' values are actually 'No Recidivism' for the attribute 'Recidivism Type'. Convert 'NaN' to 'No Recidivism'."
   ]
  },
  {
   "cell_type": "code",
   "execution_count": 46,
   "metadata": {},
   "outputs": [
    {
     "data": {
      "text/plain": [
       "No Recidivism    14584\n",
       "New               4554\n",
       "Tech              2473\n",
       "Name: Recidivism Type, dtype: int64"
      ]
     },
     "execution_count": 46,
     "metadata": {},
     "output_type": "execute_result"
    }
   ],
   "source": [
    "recidivism_data['Recidivism Type'].value_counts(dropna=False)"
   ]
  },
  {
   "cell_type": "markdown",
   "metadata": {},
   "source": [
    "**Days to Recidivism**"
   ]
  },
  {
   "cell_type": "code",
   "execution_count": 92,
   "metadata": {},
   "outputs": [
    {
     "data": {
      "image/png": "[encoded data removed]",
      "text/plain": [
       "<matplotlib.figure.Figure at 0x1248e0ac8>"
      ]
     },
     "metadata": {},
     "output_type": "display_data"
    }
   ],
   "source": [
    "ax =recidivism_data[recidivism_data['Days to Recidivism'] != '0']['Days to Recidivism']. \\\n",
    "astype(float).plot(kind='hist', bins=20, ec='black',figsize=(10,8))\n",
    "ax.set_xlabel(\"Days to recidivism\")\n",
    "plt.savefig(\"hist_daysToRecidivism\")"
   ]
  },
  {
   "cell_type": "markdown",
   "metadata": {},
   "source": [
    "The values for the 'Days to Recidivism'indicates 'NaN' has 14,619 records. These records are actually for individuals who did not return to prison. Convert 'NaN' to 0 for convenience."
   ]
  },
  {
   "cell_type": "code",
   "execution_count": 48,
   "metadata": {},
   "outputs": [
    {
     "data": {
      "text/plain": [
       "0         14584\n",
       "287.0        22\n",
       "231.0        20\n",
       "330.0        19\n",
       "292.0        19\n",
       "474.0        19\n",
       "210.0        18\n",
       "336.0        18\n",
       "169.0        18\n",
       "189.0        18\n",
       "314.0        17\n",
       "175.0        16\n",
       "181.0        16\n",
       "188.0        16\n",
       "455.0        16\n",
       "209.0        16\n",
       "272.0        16\n",
       "238.0        16\n",
       "120.0        16\n",
       "273.0        16\n",
       "275.0        16\n",
       "281.0        16\n",
       "407.0        16\n",
       "649.0        16\n",
       "386.0        16\n",
       "133.0        16\n",
       "224.0        16\n",
       "350.0        15\n",
       "211.0        15\n",
       "511.0        15\n",
       "          ...  \n",
       "970.0         1\n",
       "1010.0        1\n",
       "1020.0        1\n",
       "999.0         1\n",
       "997.0         1\n",
       "790.0         1\n",
       "900.0         1\n",
       "800.0         1\n",
       "985.0         1\n",
       "479.0         1\n",
       "746.0         1\n",
       "1051.0        1\n",
       "814.0         1\n",
       "1057.0        1\n",
       "1063.0        1\n",
       "611.0         1\n",
       "1066.0        1\n",
       "834.0         1\n",
       "840.0         1\n",
       "848.0         1\n",
       "937.0         1\n",
       "856.0         1\n",
       "934.0         1\n",
       "587.0         1\n",
       "863.0         1\n",
       "1088.0        1\n",
       "927.0         1\n",
       "597.0         1\n",
       "876.0         1\n",
       "836.0         1\n",
       "Name: Days to Recidivism, Length: 1077, dtype: int64"
      ]
     },
     "execution_count": 48,
     "metadata": {},
     "output_type": "execute_result"
    }
   ],
   "source": [
    "recidivism_data['Days to Recidivism'].value_counts(dropna=False)"
   ]
  },
  {
   "cell_type": "markdown",
   "metadata": {},
   "source": [
    "**New Conviction Offense Classification**"
   ]
  },
  {
   "cell_type": "code",
   "execution_count": 49,
   "metadata": {},
   "outputs": [
    {
     "data": {
      "text/plain": [
       "No New Conviction                           14584\n",
       "Unknown                                      1963\n",
       "D Felony                                     1900\n",
       "Aggravated Misdemeanor                       1282\n",
       "C Felony                                      869\n",
       "Felony - Enhancement to Original Penalty      517\n",
       "Serious Misdemeanor                           227\n",
       "B Felony                                      222\n",
       "Public Order                                   13\n",
       "A Felony                                       10\n",
       "Simple Misdemeanor                              9\n",
       "Special Sentence 2005                           6\n",
       "Violent                                         4\n",
       "Drug                                            2\n",
       "Other Misdemeanor                               2\n",
       "Felony - Mandatory Minimum                      1\n",
       "Name: New Conviction Offense Classification, dtype: int64"
      ]
     },
     "execution_count": 49,
     "metadata": {},
     "output_type": "execute_result"
    }
   ],
   "source": [
    "recidivism_data['New Conviction Offense Classification'].value_counts(dropna=False)"
   ]
  },
  {
   "cell_type": "markdown",
   "metadata": {},
   "source": [
    "There are 16,582 'NaN' values for the attribute 'New Conviction Offense Classification'. This includes instances where there was no recidivism. Convert 'NaN' to 'No New Conviction' for those instances."
   ]
  },
  {
   "cell_type": "code",
   "execution_count": 50,
   "metadata": {},
   "outputs": [
    {
     "data": {
      "text/plain": [
       "No New Conviction                           14584\n",
       "Unknown                                      1963\n",
       "D Felony                                     1900\n",
       "Aggravated Misdemeanor                       1282\n",
       "C Felony                                      869\n",
       "Felony - Enhancement to Original Penalty      517\n",
       "Serious Misdemeanor                           227\n",
       "B Felony                                      222\n",
       "Public Order                                   13\n",
       "A Felony                                       10\n",
       "Simple Misdemeanor                              9\n",
       "Special Sentence 2005                           6\n",
       "Violent                                         4\n",
       "Drug                                            2\n",
       "Other Misdemeanor                               2\n",
       "Felony - Mandatory Minimum                      1\n",
       "Name: New Conviction Offense Classification, dtype: int64"
      ]
     },
     "execution_count": 50,
     "metadata": {},
     "output_type": "execute_result"
    }
   ],
   "source": [
    "recidivism_data['New Conviction Offense Classification'].value_counts(dropna=False)"
   ]
  },
  {
   "cell_type": "markdown",
   "metadata": {},
   "source": [
    "Convert the remaining 'NaN' to 'Unknown'"
   ]
  },
  {
   "cell_type": "code",
   "execution_count": 51,
   "metadata": {},
   "outputs": [
    {
     "data": {
      "text/plain": [
       "No New Conviction                           14584\n",
       "Unknown                                      1963\n",
       "D Felony                                     1900\n",
       "Aggravated Misdemeanor                       1282\n",
       "C Felony                                      869\n",
       "Felony - Enhancement to Original Penalty      517\n",
       "Serious Misdemeanor                           227\n",
       "B Felony                                      222\n",
       "Public Order                                   13\n",
       "A Felony                                       10\n",
       "Simple Misdemeanor                              9\n",
       "Special Sentence 2005                           6\n",
       "Violent                                         4\n",
       "Drug                                            2\n",
       "Other Misdemeanor                               2\n",
       "Felony - Mandatory Minimum                      1\n",
       "Name: New Conviction Offense Classification, dtype: int64"
      ]
     },
     "execution_count": 51,
     "metadata": {},
     "output_type": "execute_result"
    }
   ],
   "source": [
    "recidivism_data['New Conviction Offense Classification'].value_counts(dropna=False)"
   ]
  },
  {
   "cell_type": "markdown",
   "metadata": {},
   "source": [
    "**New Conviction Offense Type**"
   ]
  },
  {
   "cell_type": "code",
   "execution_count": 52,
   "metadata": {},
   "outputs": [
    {
     "data": {
      "text/plain": [
       "No New Conviction    14584\n",
       "Unknown               1963\n",
       "Drug                  1474\n",
       "Property              1393\n",
       "Public Order           987\n",
       "Violent                806\n",
       "Other                  385\n",
       "Flight/Escape           12\n",
       "Assault                  3\n",
       "Drug Possession          2\n",
       "Traffic                  1\n",
       "Sex                      1\n",
       "Name: New Conviction Offense Type, dtype: int64"
      ]
     },
     "execution_count": 52,
     "metadata": {},
     "output_type": "execute_result"
    }
   ],
   "source": [
    "recidivism_data['New Conviction Offense Type'].value_counts(dropna=False)"
   ]
  },
  {
   "cell_type": "markdown",
   "metadata": {},
   "source": [
    "There are 16,582 'NaN' values for the attribute 'New Conviction Offense Type'. This includes instances where there was no recidivism. Convert 'NaN' to 'No New Conviction' for those instances."
   ]
  },
  {
   "cell_type": "code",
   "execution_count": 53,
   "metadata": {},
   "outputs": [
    {
     "data": {
      "text/plain": [
       "No New Conviction    14584\n",
       "Unknown               1963\n",
       "Drug                  1474\n",
       "Property              1393\n",
       "Public Order           987\n",
       "Violent                806\n",
       "Other                  385\n",
       "Flight/Escape           12\n",
       "Assault                  3\n",
       "Drug Possession          2\n",
       "Traffic                  1\n",
       "Sex                      1\n",
       "Name: New Conviction Offense Type, dtype: int64"
      ]
     },
     "execution_count": 53,
     "metadata": {},
     "output_type": "execute_result"
    }
   ],
   "source": [
    "recidivism_data['New Conviction Offense Type'].value_counts(dropna=False)"
   ]
  },
  {
   "cell_type": "markdown",
   "metadata": {},
   "source": [
    "Convert the remaining 'NaN' to 'Unknown'"
   ]
  },
  {
   "cell_type": "code",
   "execution_count": 54,
   "metadata": {},
   "outputs": [
    {
     "data": {
      "text/plain": [
       "No New Conviction    14584\n",
       "Unknown               1963\n",
       "Drug                  1474\n",
       "Property              1393\n",
       "Public Order           987\n",
       "Violent                806\n",
       "Other                  385\n",
       "Flight/Escape           12\n",
       "Assault                  3\n",
       "Drug Possession          2\n",
       "Traffic                  1\n",
       "Sex                      1\n",
       "Name: New Conviction Offense Type, dtype: int64"
      ]
     },
     "execution_count": 54,
     "metadata": {},
     "output_type": "execute_result"
    }
   ],
   "source": [
    "recidivism_data['New Conviction Offense Type'].value_counts(dropna=False)"
   ]
  },
  {
   "cell_type": "markdown",
   "metadata": {},
   "source": [
    "**New Conviction Offense Sub Type**"
   ]
  },
  {
   "cell_type": "code",
   "execution_count": 55,
   "metadata": {},
   "outputs": [
    {
     "data": {
      "text/plain": [
       "No New Conviction       14584\n",
       "Unknown                  1982\n",
       "Trafficking              1005\n",
       "Assault                   603\n",
       "Theft                     595\n",
       "Burglary                  469\n",
       "Drug Possession           431\n",
       "Other Criminal            376\n",
       "OWI                       298\n",
       "Forgery/Fraud             247\n",
       "Traffic                   182\n",
       "Other Public Order        164\n",
       "Alcohol                   128\n",
       "Flight/Escape             126\n",
       "Weapons                    82\n",
       "Other Violent              68\n",
       "Vandalism                  55\n",
       "Robbery                    52\n",
       "Sex                        44\n",
       "Other Drug                 38\n",
       "Murder/Manslaughter        30\n",
       "Arson                      25\n",
       "Kidnap                     16\n",
       "Prostitution/Pimping        7\n",
       "Animals                     2\n",
       "Other Property              1\n",
       "Stolen Property             1\n",
       "Name: New Conviction Offense Sub Type, dtype: int64"
      ]
     },
     "execution_count": 55,
     "metadata": {},
     "output_type": "execute_result"
    }
   ],
   "source": [
    "recidivism_data['New Conviction Offense Sub Type'].value_counts(dropna=False)"
   ]
  },
  {
   "cell_type": "markdown",
   "metadata": {},
   "source": [
    "There are 16,601 'NaN' values for the attribute 'New Conviction Offense Sub Type'. This includes instances where there was no recidivism. Convert 'NaN' to 'No New Conviction' for those instances."
   ]
  },
  {
   "cell_type": "code",
   "execution_count": 56,
   "metadata": {},
   "outputs": [
    {
     "data": {
      "text/plain": [
       "No New Conviction       14584\n",
       "Unknown                  1982\n",
       "Trafficking              1005\n",
       "Assault                   603\n",
       "Theft                     595\n",
       "Burglary                  469\n",
       "Drug Possession           431\n",
       "Other Criminal            376\n",
       "OWI                       298\n",
       "Forgery/Fraud             247\n",
       "Traffic                   182\n",
       "Other Public Order        164\n",
       "Alcohol                   128\n",
       "Flight/Escape             126\n",
       "Weapons                    82\n",
       "Other Violent              68\n",
       "Vandalism                  55\n",
       "Robbery                    52\n",
       "Sex                        44\n",
       "Other Drug                 38\n",
       "Murder/Manslaughter        30\n",
       "Arson                      25\n",
       "Kidnap                     16\n",
       "Prostitution/Pimping        7\n",
       "Animals                     2\n",
       "Other Property              1\n",
       "Stolen Property             1\n",
       "Name: New Conviction Offense Sub Type, dtype: int64"
      ]
     },
     "execution_count": 56,
     "metadata": {},
     "output_type": "execute_result"
    }
   ],
   "source": [
    "recidivism_data['New Conviction Offense Sub Type'].value_counts(dropna=False)"
   ]
  },
  {
   "cell_type": "markdown",
   "metadata": {},
   "source": [
    "Convert the remaining 'NaN' to 'Unknown'"
   ]
  },
  {
   "cell_type": "code",
   "execution_count": 57,
   "metadata": {},
   "outputs": [
    {
     "data": {
      "text/plain": [
       "No New Conviction       14584\n",
       "Unknown                  1982\n",
       "Trafficking              1005\n",
       "Assault                   603\n",
       "Theft                     595\n",
       "Burglary                  469\n",
       "Drug Possession           431\n",
       "Other Criminal            376\n",
       "OWI                       298\n",
       "Forgery/Fraud             247\n",
       "Traffic                   182\n",
       "Other Public Order        164\n",
       "Alcohol                   128\n",
       "Flight/Escape             126\n",
       "Weapons                    82\n",
       "Other Violent              68\n",
       "Vandalism                  55\n",
       "Robbery                    52\n",
       "Sex                        44\n",
       "Other Drug                 38\n",
       "Murder/Manslaughter        30\n",
       "Arson                      25\n",
       "Kidnap                     16\n",
       "Prostitution/Pimping        7\n",
       "Animals                     2\n",
       "Other Property              1\n",
       "Stolen Property             1\n",
       "Name: New Conviction Offense Sub Type, dtype: int64"
      ]
     },
     "execution_count": 57,
     "metadata": {},
     "output_type": "execute_result"
    }
   ],
   "source": [
    "recidivism_data['New Conviction Offense Sub Type'].value_counts(dropna=False)"
   ]
  },
  {
   "cell_type": "markdown",
   "metadata": {},
   "source": [
    "**Part of Target Population**"
   ]
  },
  {
   "cell_type": "code",
   "execution_count": 58,
   "metadata": {},
   "outputs": [
    {
     "data": {
      "text/plain": [
       "Yes    11468\n",
       "No     10143\n",
       "Name: Part of Target Population, dtype: int64"
      ]
     },
     "execution_count": 58,
     "metadata": {},
     "output_type": "execute_result"
    }
   ],
   "source": [
    "recidivism_data['Part of Target Population'].value_counts(dropna=False)"
   ]
  },
  {
   "cell_type": "markdown",
   "metadata": {},
   "source": [
    "**Target Population:** Prisoners associated with specific strategies to reduce recidivism rates for offenders supervised as High Normal or Intensive"
   ]
  },
  {
   "cell_type": "code",
   "execution_count": 59,
   "metadata": {},
   "outputs": [
    {
     "data": {
      "text/plain": [
       "(21611, 17)"
      ]
     },
     "execution_count": 59,
     "metadata": {},
     "output_type": "execute_result"
    }
   ],
   "source": [
    "recidivism_data.shape"
   ]
  },
  {
   "cell_type": "code",
   "execution_count": 60,
   "metadata": {
    "collapsed": true
   },
   "outputs": [],
   "source": [
    "recidivism_data = recidivism_data.dropna()"
   ]
  },
  {
   "cell_type": "code",
   "execution_count": 61,
   "metadata": {},
   "outputs": [
    {
     "data": {
      "text/plain": [
       "(21611, 17)"
      ]
     },
     "execution_count": 61,
     "metadata": {},
     "output_type": "execute_result"
    }
   ],
   "source": [
    "recidivism_data.shape"
   ]
  },
  {
   "cell_type": "code",
   "execution_count": 62,
   "metadata": {},
   "outputs": [
    {
     "data": {
      "text/plain": [
       "0"
      ]
     },
     "execution_count": 62,
     "metadata": {},
     "output_type": "execute_result"
    }
   ],
   "source": [
    "recidivism_data['Race - Ethnicity'].isnull().sum()"
   ]
  },
  {
   "cell_type": "markdown",
   "metadata": {},
   "source": [
    "**Recidivism Type:**<br/>\n",
    "New = Admission to prison with a new conviction for an offense occuring after being released from prison <br/>\n",
    "Tech = Admission to prison for violation of prison requirenments"
   ]
  },
  {
   "cell_type": "code",
   "execution_count": 63,
   "metadata": {},
   "outputs": [
    {
     "data": {
      "image/png": "[encoded data removed]",
      "text/plain": [
       "<matplotlib.figure.Figure at 0x11edaccf8>"
      ]
     },
     "metadata": {},
     "output_type": "display_data"
    }
   ],
   "source": [
    "matplotlib.rcParams['axes.titlepad'] = 20 \n",
    "matplotlib.rcParams['font.size'] = 16\n",
    "#labels = 'New', 'Technical','No'\n",
    "labels = 'Recidivism','No Recidivism'\n",
    "#sizes = [4554, 2473, 14619]\n",
    "sizes = [7027, 14619]\n",
    "colors = ['red','green']\n",
    "plt.pie(sizes, labels=labels, colors=colors,\n",
    "        autopct='%1.1f%%', shadow=True, startangle=140)\n",
    "plt.title('3-Year Recidivism (Iowa)') \n",
    "plt.axis('equal')\n",
    "plt.savefig('recidivism_ratio.eps',format = 'eps',dpi = 1300)\n",
    "plt.show()"
   ]
  }
 ],
 "metadata": {
  "kernelspec": {
   "display_name": "Python 3",
   "language": "python",
   "name": "python3"
  },
  "language_info": {
   "codemirror_mode": {
    "name": "ipython",
    "version": 3
   },
   "file_extension": ".py",
   "mimetype": "text/x-python",
   "name": "python",
   "nbconvert_exporter": "python",
   "pygments_lexer": "ipython3",
   "version": "3.6.2"
  }
 },
 "nbformat": 4,
 "nbformat_minor": 2
}
