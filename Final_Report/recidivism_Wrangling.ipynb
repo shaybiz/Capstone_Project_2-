{
 "cells": [
  {
   "cell_type": "markdown",
   "metadata": {},
   "source": [
    "# 3-Year Recidivism for Prisoners from the State of Iowa"
   ]
  },
  {
   "cell_type": "markdown",
   "metadata": {},
   "source": [
    "## **Data Wrangling**"
   ]
  },
  {
   "cell_type": "markdown",
   "metadata": {},
   "source": [
    "The dataset reports whether an offender is re-admitted to prison within three years of release or not. Studies have shown that if recidivism is to occur, it is most likely to happen within three years."
   ]
  },
  {
   "cell_type": "code",
   "execution_count": 16,
   "metadata": {
    "collapsed": true
   },
   "outputs": [],
   "source": [
    "import matplotlib \n",
    "import matplotlib.pyplot as plt\n",
    "import pandas as pd\n",
    "import numpy as np\n",
    "%matplotlib inline"
   ]
  },
  {
   "cell_type": "code",
   "execution_count": 17,
   "metadata": {
    "collapsed": true
   },
   "outputs": [],
   "source": [
    "#load data\n",
    "recidivism_data = pd.read_csv('3-Year_Recidivism_for_Offenders_Released_from_Prison.csv')"
   ]
  },
  {
   "cell_type": "code",
   "execution_count": 18,
   "metadata": {},
   "outputs": [
    {
     "data": {
      "text/plain": [
       "(21646, 17)"
      ]
     },
     "execution_count": 18,
     "metadata": {},
     "output_type": "execute_result"
    }
   ],
   "source": [
    "recidivism_data.shape"
   ]
  },
  {
   "cell_type": "markdown",
   "metadata": {},
   "source": [
    "The original dataset has 21,646 records and 17 features."
   ]
  },
  {
   "cell_type": "code",
   "execution_count": 19,
   "metadata": {},
   "outputs": [
    {
     "data": {
      "text/html": [
       "<div>\n",
       "<style>\n",
       "    .dataframe thead tr:only-child th {\n",
       "        text-align: right;\n",
       "    }\n",
       "\n",
       "    .dataframe thead th {\n",
       "        text-align: left;\n",
       "    }\n",
       "\n",
       "    .dataframe tbody tr th {\n",
       "        vertical-align: top;\n",
       "    }\n",
       "</style>\n",
       "<table border=\"1\" class=\"dataframe\">\n",
       "  <thead>\n",
       "    <tr style=\"text-align: right;\">\n",
       "      <th></th>\n",
       "      <th>Fiscal Year Released</th>\n",
       "      <th>Recidivism Reporting Year</th>\n",
       "      <th>Race - Ethnicity</th>\n",
       "      <th>Sex</th>\n",
       "      <th>Age At Release</th>\n",
       "      <th>Convicting Offense Classification</th>\n",
       "      <th>Convicting Offense Type</th>\n",
       "      <th>Convicting Offense Subtype</th>\n",
       "      <th>Release Type</th>\n",
       "      <th>Main Supervising District</th>\n",
       "      <th>Recidivism - Return to Prison</th>\n",
       "      <th>Recidivism Type</th>\n",
       "      <th>Days to Recidivism</th>\n",
       "      <th>New Conviction Offense Classification</th>\n",
       "      <th>New Conviction Offense Type</th>\n",
       "      <th>New Conviction Offense Sub Type</th>\n",
       "      <th>Part of Target Population</th>\n",
       "    </tr>\n",
       "  </thead>\n",
       "  <tbody>\n",
       "    <tr>\n",
       "      <th>0</th>\n",
       "      <td>2010</td>\n",
       "      <td>2013</td>\n",
       "      <td>White - Non-Hispanic</td>\n",
       "      <td>M</td>\n",
       "      <td>Under 25</td>\n",
       "      <td>D Felony</td>\n",
       "      <td>Violent</td>\n",
       "      <td>Assault</td>\n",
       "      <td>Parole</td>\n",
       "      <td>4JD</td>\n",
       "      <td>Yes</td>\n",
       "      <td>Tech</td>\n",
       "      <td>16.0</td>\n",
       "      <td>NaN</td>\n",
       "      <td>NaN</td>\n",
       "      <td>NaN</td>\n",
       "      <td>Yes</td>\n",
       "    </tr>\n",
       "    <tr>\n",
       "      <th>1</th>\n",
       "      <td>2010</td>\n",
       "      <td>2013</td>\n",
       "      <td>White - Non-Hispanic</td>\n",
       "      <td>M</td>\n",
       "      <td>55 and Older</td>\n",
       "      <td>D Felony</td>\n",
       "      <td>Public Order</td>\n",
       "      <td>OWI</td>\n",
       "      <td>Parole</td>\n",
       "      <td>7JD</td>\n",
       "      <td>Yes</td>\n",
       "      <td>Tech</td>\n",
       "      <td>19.0</td>\n",
       "      <td>NaN</td>\n",
       "      <td>NaN</td>\n",
       "      <td>NaN</td>\n",
       "      <td>Yes</td>\n",
       "    </tr>\n",
       "    <tr>\n",
       "      <th>2</th>\n",
       "      <td>2010</td>\n",
       "      <td>2013</td>\n",
       "      <td>White - Non-Hispanic</td>\n",
       "      <td>M</td>\n",
       "      <td>25-34</td>\n",
       "      <td>D Felony</td>\n",
       "      <td>Property</td>\n",
       "      <td>Burglary</td>\n",
       "      <td>Parole</td>\n",
       "      <td>5JD</td>\n",
       "      <td>Yes</td>\n",
       "      <td>Tech</td>\n",
       "      <td>22.0</td>\n",
       "      <td>NaN</td>\n",
       "      <td>NaN</td>\n",
       "      <td>NaN</td>\n",
       "      <td>Yes</td>\n",
       "    </tr>\n",
       "    <tr>\n",
       "      <th>3</th>\n",
       "      <td>2010</td>\n",
       "      <td>2013</td>\n",
       "      <td>White - Non-Hispanic</td>\n",
       "      <td>M</td>\n",
       "      <td>55 and Older</td>\n",
       "      <td>C Felony</td>\n",
       "      <td>Drug</td>\n",
       "      <td>Trafficking</td>\n",
       "      <td>Parole</td>\n",
       "      <td>8JD</td>\n",
       "      <td>Yes</td>\n",
       "      <td>Tech</td>\n",
       "      <td>25.0</td>\n",
       "      <td>NaN</td>\n",
       "      <td>NaN</td>\n",
       "      <td>NaN</td>\n",
       "      <td>Yes</td>\n",
       "    </tr>\n",
       "    <tr>\n",
       "      <th>4</th>\n",
       "      <td>2010</td>\n",
       "      <td>2013</td>\n",
       "      <td>Black - Non-Hispanic</td>\n",
       "      <td>M</td>\n",
       "      <td>25-34</td>\n",
       "      <td>D Felony</td>\n",
       "      <td>Drug</td>\n",
       "      <td>Trafficking</td>\n",
       "      <td>Parole</td>\n",
       "      <td>3JD</td>\n",
       "      <td>Yes</td>\n",
       "      <td>Tech</td>\n",
       "      <td>26.0</td>\n",
       "      <td>NaN</td>\n",
       "      <td>NaN</td>\n",
       "      <td>NaN</td>\n",
       "      <td>Yes</td>\n",
       "    </tr>\n",
       "  </tbody>\n",
       "</table>\n",
       "</div>"
      ],
      "text/plain": [
       "   Fiscal Year Released  Recidivism Reporting Year      Race - Ethnicity Sex  \\\n",
       "0                  2010                       2013  White - Non-Hispanic   M   \n",
       "1                  2010                       2013  White - Non-Hispanic   M   \n",
       "2                  2010                       2013  White - Non-Hispanic   M   \n",
       "3                  2010                       2013  White - Non-Hispanic   M   \n",
       "4                  2010                       2013  Black - Non-Hispanic   M   \n",
       "\n",
       "  Age At Release  Convicting Offense Classification Convicting Offense Type  \\\n",
       "0        Under 25                          D Felony                 Violent   \n",
       "1    55 and Older                          D Felony            Public Order   \n",
       "2           25-34                          D Felony                Property   \n",
       "3    55 and Older                          C Felony                    Drug   \n",
       "4           25-34                          D Felony                    Drug   \n",
       "\n",
       "  Convicting Offense Subtype Release Type Main Supervising District  \\\n",
       "0                    Assault       Parole                       4JD   \n",
       "1                        OWI       Parole                       7JD   \n",
       "2                   Burglary       Parole                       5JD   \n",
       "3                Trafficking       Parole                       8JD   \n",
       "4                Trafficking       Parole                       3JD   \n",
       "\n",
       "  Recidivism - Return to Prison Recidivism Type  Days to Recidivism  \\\n",
       "0                           Yes            Tech                16.0   \n",
       "1                           Yes            Tech                19.0   \n",
       "2                           Yes            Tech                22.0   \n",
       "3                           Yes            Tech                25.0   \n",
       "4                           Yes            Tech                26.0   \n",
       "\n",
       "  New Conviction Offense Classification New Conviction Offense Type  \\\n",
       "0                                   NaN                         NaN   \n",
       "1                                   NaN                         NaN   \n",
       "2                                   NaN                         NaN   \n",
       "3                                   NaN                         NaN   \n",
       "4                                   NaN                         NaN   \n",
       "\n",
       "  New Conviction Offense Sub Type Part of Target Population  \n",
       "0                             NaN                       Yes  \n",
       "1                             NaN                       Yes  \n",
       "2                             NaN                       Yes  \n",
       "3                             NaN                       Yes  \n",
       "4                             NaN                       Yes  "
      ]
     },
     "execution_count": 19,
     "metadata": {},
     "output_type": "execute_result"
    }
   ],
   "source": [
    "recidivism_data.head()"
   ]
  },
  {
   "cell_type": "markdown",
   "metadata": {},
   "source": [
    "**List of Attributes**"
   ]
  },
  {
   "cell_type": "code",
   "execution_count": 20,
   "metadata": {},
   "outputs": [
    {
     "data": {
      "text/plain": [
       "['Fiscal Year Released',\n",
       " 'Recidivism Reporting Year',\n",
       " 'Race - Ethnicity',\n",
       " 'Sex',\n",
       " 'Age At Release ',\n",
       " 'Convicting Offense Classification',\n",
       " 'Convicting Offense Type',\n",
       " 'Convicting Offense Subtype',\n",
       " 'Release Type',\n",
       " 'Main Supervising District',\n",
       " 'Recidivism - Return to Prison',\n",
       " 'Recidivism Type',\n",
       " 'Days to Recidivism',\n",
       " 'New Conviction Offense Classification',\n",
       " 'New Conviction Offense Type',\n",
       " 'New Conviction Offense Sub Type',\n",
       " 'Part of Target Population']"
      ]
     },
     "execution_count": 20,
     "metadata": {},
     "output_type": "execute_result"
    }
   ],
   "source": [
    "list(recidivism_data.columns)"
   ]
  },
  {
   "cell_type": "markdown",
   "metadata": {},
   "source": [
    "Let's see at the values for each attribute:"
   ]
  },
  {
   "cell_type": "markdown",
   "metadata": {},
   "source": [
    "**Fiscal Year Released**"
   ]
  },
  {
   "cell_type": "code",
   "execution_count": 21,
   "metadata": {},
   "outputs": [
    {
     "data": {
      "text/plain": [
       "2012    4740\n",
       "2013    4687\n",
       "2014    4586\n",
       "2011    3917\n",
       "2010    3716\n",
       "Name: Fiscal Year Released, dtype: int64"
      ]
     },
     "execution_count": 21,
     "metadata": {},
     "output_type": "execute_result"
    }
   ],
   "source": [
    "recidivism_data['Fiscal Year Released'].value_counts(dropna=False)"
   ]
  },
  {
   "cell_type": "code",
   "execution_count": 22,
   "metadata": {},
   "outputs": [
    {
     "data": {
      "text/plain": [
       "<matplotlib.axes._subplots.AxesSubplot at 0x119adc0f0>"
      ]
     },
     "execution_count": 22,
     "metadata": {},
     "output_type": "execute_result"
    },
    {
     "data": {
      "image/png": "[encoded data removed]",
      "text/plain": [
       "<matplotlib.figure.Figure at 0x1154955f8>"
      ]
     },
     "metadata": {},
     "output_type": "display_data"
    }
   ],
   "source": [
    "recidivism_data['Fiscal Year Released'].value_counts(dropna=False, sort=False).plot(kind='bar', title='Prisoners Released')"
   ]
  },
  {
   "cell_type": "markdown",
   "metadata": {},
   "source": [
    "**Recidivism Reporting Year**"
   ]
  },
  {
   "cell_type": "code",
   "execution_count": 23,
   "metadata": {},
   "outputs": [
    {
     "data": {
      "text/plain": [
       "2015    4740\n",
       "2016    4687\n",
       "2017    4586\n",
       "2014    3917\n",
       "2013    3716\n",
       "Name: Recidivism Reporting Year, dtype: int64"
      ]
     },
     "execution_count": 23,
     "metadata": {},
     "output_type": "execute_result"
    }
   ],
   "source": [
    "recidivism_data['Recidivism Reporting Year'].value_counts(dropna=False)"
   ]
  },
  {
   "cell_type": "markdown",
   "metadata": {},
   "source": [
    "**Race - Ethnicity**"
   ]
  },
  {
   "cell_type": "code",
   "execution_count": 24,
   "metadata": {},
   "outputs": [
    {
     "data": {
      "text/plain": [
       "White - Non-Hispanic                               14586\n",
       "Black - Non-Hispanic                                5106\n",
       "White - Hispanic                                    1284\n",
       "American Indian or Alaska Native - Non-Hispanic      404\n",
       "Asian or Pacific Islander - Non-Hispanic             169\n",
       "Black - Hispanic                                      30\n",
       "NaN                                                   30\n",
       "American Indian or Alaska Native - Hispanic           16\n",
       "White -                                               11\n",
       "N/A -                                                  5\n",
       "Asian or Pacific Islander - Hispanic                   3\n",
       "Black -                                                2\n",
       "Name: Race - Ethnicity, dtype: int64"
      ]
     },
     "execution_count": 24,
     "metadata": {},
     "output_type": "execute_result"
    }
   ],
   "source": [
    "recidivism_data['Race - Ethnicity'].value_counts(dropna=False)"
   ]
  },
  {
   "cell_type": "markdown",
   "metadata": {},
   "source": [
    "The \"Race - Ethnicity\" attribute has two names for missing values: 'NaN' (30 records) and 'N/A - ' (5 records). Convert 'N/A - ' to NaN to easily manipulate data in pandas. "
   ]
  },
  {
   "cell_type": "code",
   "execution_count": 25,
   "metadata": {
    "collapsed": true
   },
   "outputs": [],
   "source": [
    "recidivism_data = recidivism_data.replace({\"Race - Ethnicity\":['N/A - ']},{\"Race - Ethnicity\":np.nan})"
   ]
  },
  {
   "cell_type": "code",
   "execution_count": 26,
   "metadata": {},
   "outputs": [
    {
     "data": {
      "text/plain": [
       "White - Non-Hispanic                               14586\n",
       "Black - Non-Hispanic                                5106\n",
       "White - Hispanic                                    1284\n",
       "American Indian or Alaska Native - Non-Hispanic      404\n",
       "Asian or Pacific Islander - Non-Hispanic             169\n",
       "NaN                                                   35\n",
       "Black - Hispanic                                      30\n",
       "American Indian or Alaska Native - Hispanic           16\n",
       "White -                                               11\n",
       "Asian or Pacific Islander - Hispanic                   3\n",
       "Black -                                                2\n",
       "Name: Race - Ethnicity, dtype: int64"
      ]
     },
     "execution_count": 26,
     "metadata": {},
     "output_type": "execute_result"
    }
   ],
   "source": [
    "recidivism_data['Race - Ethnicity'].value_counts(dropna=False)"
   ]
  },
  {
   "cell_type": "markdown",
   "metadata": {},
   "source": [
    "The \"The \"Race - Ethnicity\" attribute now shows one name for missing values: 'NAN' (35 records)"
   ]
  },
  {
   "cell_type": "markdown",
   "metadata": {},
   "source": [
    "**Sex**"
   ]
  },
  {
   "cell_type": "code",
   "execution_count": 27,
   "metadata": {},
   "outputs": [
    {
     "data": {
      "text/plain": [
       "M      18925\n",
       "F       2718\n",
       "NaN        3\n",
       "Name: Sex, dtype: int64"
      ]
     },
     "execution_count": 27,
     "metadata": {},
     "output_type": "execute_result"
    }
   ],
   "source": [
    "recidivism_data['Sex'].value_counts(dropna=False)"
   ]
  },
  {
   "cell_type": "markdown",
   "metadata": {},
   "source": [
    "**Age at release**"
   ]
  },
  {
   "cell_type": "code",
   "execution_count": 28,
   "metadata": {},
   "outputs": [
    {
     "data": {
      "text/plain": [
       "25-34           7919\n",
       "35-44           5174\n",
       "Under 25        3845\n",
       "45-54           3639\n",
       "55 and Older    1066\n",
       "NaN                3\n",
       "Name: Age At Release , dtype: int64"
      ]
     },
     "execution_count": 28,
     "metadata": {},
     "output_type": "execute_result"
    }
   ],
   "source": [
    "recidivism_data['Age At Release '].value_counts(dropna=False)"
   ]
  },
  {
   "cell_type": "markdown",
   "metadata": {},
   "source": [
    "**Convicting Offense Classification**"
   ]
  },
  {
   "cell_type": "code",
   "execution_count": 29,
   "metadata": {},
   "outputs": [
    {
     "data": {
      "text/plain": [
       "D Felony                                    8773\n",
       "C Felony                                    5664\n",
       "Aggravated Misdemeanor                      4076\n",
       "B Felony                                    1494\n",
       "Felony - Enhancement to Original Penalty    1200\n",
       "Felony - Enhanced                            220\n",
       "Serious Misdemeanor                          128\n",
       "Special Sentence 2005                         69\n",
       "Felony - Mandatory Minimum                     9\n",
       "Other Felony                                   3\n",
       "A Felony                                       3\n",
       "Simple Misdemeanor                             2\n",
       "Other Felony (Old Code)                        2\n",
       "Sexual Predator Community Supervision          2\n",
       "Other Misdemeanor                              1\n",
       "Name: Convicting Offense Classification, dtype: int64"
      ]
     },
     "execution_count": 29,
     "metadata": {},
     "output_type": "execute_result"
    }
   ],
   "source": [
    "recidivism_data['Convicting Offense Classification'].value_counts(dropna=False)"
   ]
  },
  {
   "cell_type": "markdown",
   "metadata": {},
   "source": [
    "**Convicting Offense Type**"
   ]
  },
  {
   "cell_type": "code",
   "execution_count": 30,
   "metadata": {},
   "outputs": [
    {
     "data": {
      "text/plain": [
       "Drug            6603\n",
       "Property        6091\n",
       "Violent         4854\n",
       "Public Order    3097\n",
       "Other           1001\n",
       "Name: Convicting Offense Type, dtype: int64"
      ]
     },
     "execution_count": 30,
     "metadata": {},
     "output_type": "execute_result"
    }
   ],
   "source": [
    "recidivism_data['Convicting Offense Type'].value_counts(dropna=False)"
   ]
  },
  {
   "cell_type": "markdown",
   "metadata": {},
   "source": [
    "**Convicting Offense Subtype**"
   ]
  },
  {
   "cell_type": "code",
   "execution_count": 31,
   "metadata": {},
   "outputs": [
    {
     "data": {
      "text/plain": [
       "Trafficking                        5426\n",
       "Assault                            2647\n",
       "Burglary                           2449\n",
       "Theft                              2201\n",
       "OWI                                1571\n",
       "Sex                                1063\n",
       "Forgery/Fraud                      1002\n",
       "Drug Possession                     933\n",
       "Other Criminal                      891\n",
       "Other Violent                       492\n",
       "Traffic                             451\n",
       "Murder/Manslaughter                 350\n",
       "Weapons                             301\n",
       "Alcohol                             298\n",
       "Vandalism                           295\n",
       "Robbery                             290\n",
       "Other Drug                          244\n",
       "Other Public Order                  241\n",
       "Arson                               136\n",
       "Sex Offender Registry/Residency     131\n",
       "Flight/Escape                        70\n",
       "Special Sentence Revocation          63\n",
       "Kidnap                               53\n",
       "Prostitution/Pimping                 34\n",
       "Stolen Property                       8\n",
       "Animals                               6\n",
       "Name: Convicting Offense Subtype, dtype: int64"
      ]
     },
     "execution_count": 31,
     "metadata": {},
     "output_type": "execute_result"
    }
   ],
   "source": [
    "recidivism_data['Convicting Offense Subtype'].value_counts(dropna=False)"
   ]
  },
  {
   "cell_type": "markdown",
   "metadata": {},
   "source": [
    "**Release Type**"
   ]
  },
  {
   "cell_type": "code",
   "execution_count": 32,
   "metadata": {},
   "outputs": [
    {
     "data": {
      "text/plain": [
       "Parole                                 9810\n",
       "Discharged – End of Sentence           5039\n",
       "Parole Granted                         2883\n",
       "NaN                                    1762\n",
       "Discharged - Expiration of Sentence    1215\n",
       "Special Sentence                        347\n",
       "Paroled w/Immediate Discharge           204\n",
       "Released to Special Sentence            172\n",
       "Paroled to Detainer - INS                81\n",
       "Paroled to Detainer - Out of State       56\n",
       "Paroled to Detainer - Iowa               41\n",
       "Paroled to Detainer - U.S. Marshall      35\n",
       "Interstate Compact Parole                 1\n",
       "Name: Release Type, dtype: int64"
      ]
     },
     "execution_count": 32,
     "metadata": {},
     "output_type": "execute_result"
    }
   ],
   "source": [
    "recidivism_data['Release Type'].value_counts(dropna=False)"
   ]
  },
  {
   "cell_type": "markdown",
   "metadata": {},
   "source": [
    "There are 1,762 records with missing values for the attribute 'Release Type'. Convert 'NaN' to 'Unknown' value."
   ]
  },
  {
   "cell_type": "code",
   "execution_count": 33,
   "metadata": {
    "collapsed": true
   },
   "outputs": [],
   "source": [
    "recidivism_data = recidivism_data.replace({\"Release Type\":[np.nan]},{\"Release Type\":'Unknown'})"
   ]
  },
  {
   "cell_type": "code",
   "execution_count": 34,
   "metadata": {},
   "outputs": [
    {
     "data": {
      "text/plain": [
       "Parole                                 9810\n",
       "Discharged – End of Sentence           5039\n",
       "Parole Granted                         2883\n",
       "Unknown                                1762\n",
       "Discharged - Expiration of Sentence    1215\n",
       "Special Sentence                        347\n",
       "Paroled w/Immediate Discharge           204\n",
       "Released to Special Sentence            172\n",
       "Paroled to Detainer - INS                81\n",
       "Paroled to Detainer - Out of State       56\n",
       "Paroled to Detainer - Iowa               41\n",
       "Paroled to Detainer - U.S. Marshall      35\n",
       "Interstate Compact Parole                 1\n",
       "Name: Release Type, dtype: int64"
      ]
     },
     "execution_count": 34,
     "metadata": {},
     "output_type": "execute_result"
    }
   ],
   "source": [
    "recidivism_data['Release Type'].value_counts(dropna=False)"
   ]
  },
  {
   "cell_type": "markdown",
   "metadata": {},
   "source": [
    "**Main Supervising District**"
   ]
  },
  {
   "cell_type": "code",
   "execution_count": 35,
   "metadata": {},
   "outputs": [
    {
     "data": {
      "text/plain": [
       "NaN                   8470\n",
       "5JD                   3970\n",
       "1JD                   2188\n",
       "2JD                   1526\n",
       "7JD                   1262\n",
       "8JD                   1253\n",
       "3JD                    931\n",
       "6JD                    873\n",
       "4JD                    514\n",
       "ISC                    350\n",
       "Interstate Compact     309\n",
       "Name: Main Supervising District, dtype: int64"
      ]
     },
     "execution_count": 35,
     "metadata": {},
     "output_type": "execute_result"
    }
   ],
   "source": [
    "recidivism_data['Main Supervising District'].value_counts(dropna=False)"
   ]
  },
  {
   "cell_type": "markdown",
   "metadata": {},
   "source": [
    "There are 8,470 records with missing values for the attribute 'Main Supervising District'. Convert 'NaN' to 'Unknown' value."
   ]
  },
  {
   "cell_type": "code",
   "execution_count": 36,
   "metadata": {
    "collapsed": true
   },
   "outputs": [],
   "source": [
    "recidivism_data = recidivism_data.replace({\"Main Supervising District\":[np.nan]},{\"Main Supervising District\":'Unknown'})"
   ]
  },
  {
   "cell_type": "code",
   "execution_count": 37,
   "metadata": {},
   "outputs": [
    {
     "data": {
      "text/plain": [
       "Unknown               8470\n",
       "5JD                   3970\n",
       "1JD                   2188\n",
       "2JD                   1526\n",
       "7JD                   1262\n",
       "8JD                   1253\n",
       "3JD                    931\n",
       "6JD                    873\n",
       "4JD                    514\n",
       "ISC                    350\n",
       "Interstate Compact     309\n",
       "Name: Main Supervising District, dtype: int64"
      ]
     },
     "execution_count": 37,
     "metadata": {},
     "output_type": "execute_result"
    }
   ],
   "source": [
    "recidivism_data['Main Supervising District'].value_counts(dropna=False)"
   ]
  },
  {
   "cell_type": "markdown",
   "metadata": {},
   "source": [
    "**Recidivism - Return to Prison**"
   ]
  },
  {
   "cell_type": "code",
   "execution_count": 38,
   "metadata": {},
   "outputs": [
    {
     "data": {
      "text/plain": [
       "No     14619\n",
       "Yes     7027\n",
       "Name: Recidivism - Return to Prison, dtype: int64"
      ]
     },
     "execution_count": 38,
     "metadata": {},
     "output_type": "execute_result"
    }
   ],
   "source": [
    "recidivism_data['Recidivism - Return to Prison'].value_counts(dropna=False)"
   ]
  },
  {
   "cell_type": "markdown",
   "metadata": {},
   "source": [
    "**Recidivism Type**"
   ]
  },
  {
   "cell_type": "code",
   "execution_count": 39,
   "metadata": {},
   "outputs": [
    {
     "data": {
      "text/plain": [
       "No Recidivism    11656\n",
       "New               4554\n",
       "NaN               2963\n",
       "Tech              2473\n",
       "Name: Recidivism Type, dtype: int64"
      ]
     },
     "execution_count": 39,
     "metadata": {},
     "output_type": "execute_result"
    }
   ],
   "source": [
    "recidivism_data['Recidivism Type'].value_counts(dropna=False)"
   ]
  },
  {
   "cell_type": "markdown",
   "metadata": {},
   "source": [
    "The values for the 'Recidivism Type'indicates 'No Recidivism' has 11,656 records, 'New' and 'Tech' have 7027 records. However, the attribute 'Recidivism - Return to Prison' shows there are 14,619 recidivism instances. Therefore, it is likely that the 'NaN' values are actually 'No Recidivism' for the attribute 'Recidivism Type'. Convert 'NaN' to 'No Recidivism'."
   ]
  },
  {
   "cell_type": "code",
   "execution_count": 40,
   "metadata": {
    "collapsed": true
   },
   "outputs": [],
   "source": [
    "recidivism_data = recidivism_data.replace({\"Recidivism Type\":[np.nan]},{\"Recidivism Type\":'No Recidivism'})"
   ]
  },
  {
   "cell_type": "code",
   "execution_count": 41,
   "metadata": {},
   "outputs": [
    {
     "data": {
      "text/plain": [
       "No Recidivism    14619\n",
       "New               4554\n",
       "Tech              2473\n",
       "Name: Recidivism Type, dtype: int64"
      ]
     },
     "execution_count": 41,
     "metadata": {},
     "output_type": "execute_result"
    }
   ],
   "source": [
    "recidivism_data['Recidivism Type'].value_counts(dropna=False)"
   ]
  },
  {
   "cell_type": "markdown",
   "metadata": {},
   "source": [
    "**Days to Recidivism**"
   ]
  },
  {
   "cell_type": "code",
   "execution_count": 42,
   "metadata": {},
   "outputs": [
    {
     "data": {
      "text/plain": [
       "NaN        14619\n",
       " 287.0        22\n",
       " 231.0        20\n",
       " 330.0        19\n",
       " 292.0        19\n",
       " 474.0        19\n",
       " 169.0        18\n",
       " 210.0        18\n",
       " 189.0        18\n",
       " 336.0        18\n",
       " 314.0        17\n",
       " 281.0        16\n",
       " 273.0        16\n",
       " 181.0        16\n",
       " 272.0        16\n",
       " 238.0        16\n",
       " 275.0        16\n",
       " 209.0        16\n",
       " 649.0        16\n",
       " 407.0        16\n",
       " 224.0        16\n",
       " 386.0        16\n",
       " 133.0        16\n",
       " 120.0        16\n",
       " 455.0        16\n",
       " 188.0        16\n",
       " 175.0        16\n",
       " 384.0        15\n",
       " 323.0        15\n",
       " 328.0        15\n",
       "           ...  \n",
       " 848.0         1\n",
       " 937.0         1\n",
       " 876.0         1\n",
       " 597.0         1\n",
       " 999.0         1\n",
       " 856.0         1\n",
       " 970.0         1\n",
       " 836.0         1\n",
       " 1057.0        1\n",
       " 900.0         1\n",
       " 985.0         1\n",
       " 640.0         1\n",
       " 800.0         1\n",
       " 40.0          1\n",
       " 1006.0        1\n",
       " 927.0         1\n",
       " 29.0          1\n",
       " 890.0         1\n",
       " 1063.0        1\n",
       " 479.0         1\n",
       " 834.0         1\n",
       " 840.0         1\n",
       " 31.0          1\n",
       " 814.0         1\n",
       " 863.0         1\n",
       " 13.0          1\n",
       " 790.0         1\n",
       " 30.0          1\n",
       " 18.0          1\n",
       " 746.0         1\n",
       "Name: Days to Recidivism, Length: 1077, dtype: int64"
      ]
     },
     "execution_count": 42,
     "metadata": {},
     "output_type": "execute_result"
    }
   ],
   "source": [
    "recidivism_data['Days to Recidivism'].value_counts(dropna=False)"
   ]
  },
  {
   "cell_type": "markdown",
   "metadata": {},
   "source": [
    "The values for the 'Days to Recidivism'indicates 'NaN' has 14,619 records. These records are actually for individuals who did not return to prison. Convert 'NaN' to 0 for convenience."
   ]
  },
  {
   "cell_type": "code",
   "execution_count": 43,
   "metadata": {
    "collapsed": true
   },
   "outputs": [],
   "source": [
    "recidivism_data = recidivism_data.replace({\"Days to Recidivism\":[np.nan]},{\"Days to Recidivism\":'0'})"
   ]
  },
  {
   "cell_type": "code",
   "execution_count": 44,
   "metadata": {},
   "outputs": [
    {
     "data": {
      "text/plain": [
       "0         14619\n",
       "287.0        22\n",
       "231.0        20\n",
       "292.0        19\n",
       "474.0        19\n",
       "330.0        19\n",
       "336.0        18\n",
       "189.0        18\n",
       "210.0        18\n",
       "169.0        18\n",
       "314.0        17\n",
       "238.0        16\n",
       "649.0        16\n",
       "209.0        16\n",
       "133.0        16\n",
       "273.0        16\n",
       "175.0        16\n",
       "275.0        16\n",
       "281.0        16\n",
       "120.0        16\n",
       "407.0        16\n",
       "181.0        16\n",
       "455.0        16\n",
       "224.0        16\n",
       "272.0        16\n",
       "188.0        16\n",
       "386.0        16\n",
       "323.0        15\n",
       "343.0        15\n",
       "511.0        15\n",
       "          ...  \n",
       "970.0         1\n",
       "1010.0        1\n",
       "1020.0        1\n",
       "999.0         1\n",
       "997.0         1\n",
       "790.0         1\n",
       "900.0         1\n",
       "800.0         1\n",
       "985.0         1\n",
       "479.0         1\n",
       "746.0         1\n",
       "1051.0        1\n",
       "814.0         1\n",
       "1057.0        1\n",
       "1063.0        1\n",
       "611.0         1\n",
       "1066.0        1\n",
       "834.0         1\n",
       "840.0         1\n",
       "848.0         1\n",
       "937.0         1\n",
       "856.0         1\n",
       "934.0         1\n",
       "587.0         1\n",
       "863.0         1\n",
       "1088.0        1\n",
       "927.0         1\n",
       "597.0         1\n",
       "876.0         1\n",
       "836.0         1\n",
       "Name: Days to Recidivism, Length: 1077, dtype: int64"
      ]
     },
     "execution_count": 44,
     "metadata": {},
     "output_type": "execute_result"
    }
   ],
   "source": [
    "recidivism_data['Days to Recidivism'].value_counts(dropna=False)"
   ]
  },
  {
   "cell_type": "markdown",
   "metadata": {},
   "source": [
    "**New Conviction Offense Classification**"
   ]
  },
  {
   "cell_type": "code",
   "execution_count": 45,
   "metadata": {},
   "outputs": [
    {
     "data": {
      "text/plain": [
       "NaN                                         16582\n",
       "D Felony                                     1900\n",
       "Aggravated Misdemeanor                       1282\n",
       "C Felony                                      869\n",
       "Felony - Enhancement to Original Penalty      517\n",
       "Serious Misdemeanor                           227\n",
       "B Felony                                      222\n",
       "Public Order                                   13\n",
       "A Felony                                       10\n",
       "Simple Misdemeanor                              9\n",
       "Special Sentence 2005                           6\n",
       "Violent                                         4\n",
       "Drug                                            2\n",
       "Other Misdemeanor                               2\n",
       "Felony - Mandatory Minimum                      1\n",
       "Name: New Conviction Offense Classification, dtype: int64"
      ]
     },
     "execution_count": 45,
     "metadata": {},
     "output_type": "execute_result"
    }
   ],
   "source": [
    "recidivism_data['New Conviction Offense Classification'].value_counts(dropna=False)"
   ]
  },
  {
   "cell_type": "markdown",
   "metadata": {},
   "source": [
    "There are 16,582 'NaN' values for the attribute 'New Conviction Offense Classification'. This includes instances where there was no recidivism. Convert 'NaN' to 'No New Conviction' for those instances."
   ]
  },
  {
   "cell_type": "code",
   "execution_count": 46,
   "metadata": {
    "collapsed": true
   },
   "outputs": [],
   "source": [
    "recidivism_data[recidivism_data[\"Days to Recidivism\"]=='0'] = recidivism_data.where(recidivism_data[\"Days to Recidivism\"]=='0').replace({\"New Conviction Offense Classification\":[np.nan]},{\"New Conviction Offense Classification\":'No New Conviction'})"
   ]
  },
  {
   "cell_type": "code",
   "execution_count": 47,
   "metadata": {},
   "outputs": [
    {
     "data": {
      "text/plain": [
       "No New Conviction                           14619\n",
       "NaN                                          1963\n",
       "D Felony                                     1900\n",
       "Aggravated Misdemeanor                       1282\n",
       "C Felony                                      869\n",
       "Felony - Enhancement to Original Penalty      517\n",
       "Serious Misdemeanor                           227\n",
       "B Felony                                      222\n",
       "Public Order                                   13\n",
       "A Felony                                       10\n",
       "Simple Misdemeanor                              9\n",
       "Special Sentence 2005                           6\n",
       "Violent                                         4\n",
       "Drug                                            2\n",
       "Other Misdemeanor                               2\n",
       "Felony - Mandatory Minimum                      1\n",
       "Name: New Conviction Offense Classification, dtype: int64"
      ]
     },
     "execution_count": 47,
     "metadata": {},
     "output_type": "execute_result"
    }
   ],
   "source": [
    "recidivism_data['New Conviction Offense Classification'].value_counts(dropna=False)"
   ]
  },
  {
   "cell_type": "markdown",
   "metadata": {},
   "source": [
    "Convert the remaining 'NaN' to 'Unknown'"
   ]
  },
  {
   "cell_type": "code",
   "execution_count": 48,
   "metadata": {
    "collapsed": true
   },
   "outputs": [],
   "source": [
    "recidivism_data = recidivism_data.replace({\"New Conviction Offense Classification\":[np.nan]},{\"New Conviction Offense Classification\":'Unknown'})"
   ]
  },
  {
   "cell_type": "code",
   "execution_count": 49,
   "metadata": {},
   "outputs": [
    {
     "data": {
      "text/plain": [
       "No New Conviction                           14619\n",
       "Unknown                                      1963\n",
       "D Felony                                     1900\n",
       "Aggravated Misdemeanor                       1282\n",
       "C Felony                                      869\n",
       "Felony - Enhancement to Original Penalty      517\n",
       "Serious Misdemeanor                           227\n",
       "B Felony                                      222\n",
       "Public Order                                   13\n",
       "A Felony                                       10\n",
       "Simple Misdemeanor                              9\n",
       "Special Sentence 2005                           6\n",
       "Violent                                         4\n",
       "Drug                                            2\n",
       "Other Misdemeanor                               2\n",
       "Felony - Mandatory Minimum                      1\n",
       "Name: New Conviction Offense Classification, dtype: int64"
      ]
     },
     "execution_count": 49,
     "metadata": {},
     "output_type": "execute_result"
    }
   ],
   "source": [
    "recidivism_data['New Conviction Offense Classification'].value_counts(dropna=False)"
   ]
  },
  {
   "cell_type": "markdown",
   "metadata": {},
   "source": [
    "**New Conviction Offense Type**"
   ]
  },
  {
   "cell_type": "code",
   "execution_count": 50,
   "metadata": {},
   "outputs": [
    {
     "data": {
      "text/plain": [
       "NaN                16582\n",
       "Drug                1474\n",
       "Property            1393\n",
       "Public Order         987\n",
       "Violent              806\n",
       "Other                385\n",
       "Flight/Escape         12\n",
       "Assault                3\n",
       "Drug Possession        2\n",
       "Traffic                1\n",
       "Sex                    1\n",
       "Name: New Conviction Offense Type, dtype: int64"
      ]
     },
     "execution_count": 50,
     "metadata": {},
     "output_type": "execute_result"
    }
   ],
   "source": [
    "recidivism_data['New Conviction Offense Type'].value_counts(dropna=False)"
   ]
  },
  {
   "cell_type": "markdown",
   "metadata": {},
   "source": [
    "There are 16,582 'NaN' values for the attribute 'New Conviction Offense Type'. This includes instances where there was no recidivism. Convert 'NaN' to 'No New Conviction' for those instances."
   ]
  },
  {
   "cell_type": "code",
   "execution_count": 51,
   "metadata": {
    "collapsed": true
   },
   "outputs": [],
   "source": [
    "recidivism_data[recidivism_data[\"Days to Recidivism\"]=='0'] = recidivism_data.where(recidivism_data[\"Days to Recidivism\"]=='0').replace({\"New Conviction Offense Type\":[np.nan]},{\"New Conviction Offense Type\":'No New Conviction'})"
   ]
  },
  {
   "cell_type": "code",
   "execution_count": 52,
   "metadata": {},
   "outputs": [
    {
     "data": {
      "text/plain": [
       "No New Conviction    14619\n",
       "NaN                   1963\n",
       "Drug                  1474\n",
       "Property              1393\n",
       "Public Order           987\n",
       "Violent                806\n",
       "Other                  385\n",
       "Flight/Escape           12\n",
       "Assault                  3\n",
       "Drug Possession          2\n",
       "Traffic                  1\n",
       "Sex                      1\n",
       "Name: New Conviction Offense Type, dtype: int64"
      ]
     },
     "execution_count": 52,
     "metadata": {},
     "output_type": "execute_result"
    }
   ],
   "source": [
    "recidivism_data['New Conviction Offense Type'].value_counts(dropna=False)"
   ]
  },
  {
   "cell_type": "markdown",
   "metadata": {},
   "source": [
    "Convert the remaining 'NaN' to 'Unknown'"
   ]
  },
  {
   "cell_type": "code",
   "execution_count": 53,
   "metadata": {
    "collapsed": true
   },
   "outputs": [],
   "source": [
    "recidivism_data = recidivism_data.replace({\"New Conviction Offense Type\":[np.nan]},{\"New Conviction Offense Type\":'Unknown'})"
   ]
  },
  {
   "cell_type": "code",
   "execution_count": 54,
   "metadata": {},
   "outputs": [
    {
     "data": {
      "text/plain": [
       "No New Conviction    14619\n",
       "Unknown               1963\n",
       "Drug                  1474\n",
       "Property              1393\n",
       "Public Order           987\n",
       "Violent                806\n",
       "Other                  385\n",
       "Flight/Escape           12\n",
       "Assault                  3\n",
       "Drug Possession          2\n",
       "Traffic                  1\n",
       "Sex                      1\n",
       "Name: New Conviction Offense Type, dtype: int64"
      ]
     },
     "execution_count": 54,
     "metadata": {},
     "output_type": "execute_result"
    }
   ],
   "source": [
    "recidivism_data['New Conviction Offense Type'].value_counts(dropna=False)"
   ]
  },
  {
   "cell_type": "markdown",
   "metadata": {},
   "source": [
    "**New Conviction Offense Sub Type**"
   ]
  },
  {
   "cell_type": "code",
   "execution_count": 55,
   "metadata": {},
   "outputs": [
    {
     "data": {
      "text/plain": [
       "NaN                     16601\n",
       "Trafficking              1005\n",
       "Assault                   603\n",
       "Theft                     595\n",
       "Burglary                  469\n",
       "Drug Possession           431\n",
       "Other Criminal            376\n",
       "OWI                       298\n",
       "Forgery/Fraud             247\n",
       "Traffic                   182\n",
       "Other Public Order        164\n",
       "Alcohol                   128\n",
       "Flight/Escape             126\n",
       "Weapons                    82\n",
       "Other Violent              68\n",
       "Vandalism                  55\n",
       "Robbery                    52\n",
       "Sex                        44\n",
       "Other Drug                 38\n",
       "Murder/Manslaughter        30\n",
       "Arson                      25\n",
       "Kidnap                     16\n",
       "Prostitution/Pimping        7\n",
       "Animals                     2\n",
       "Stolen Property             1\n",
       "Other Property              1\n",
       "Name: New Conviction Offense Sub Type, dtype: int64"
      ]
     },
     "execution_count": 55,
     "metadata": {},
     "output_type": "execute_result"
    }
   ],
   "source": [
    "recidivism_data['New Conviction Offense Sub Type'].value_counts(dropna=False)"
   ]
  },
  {
   "cell_type": "markdown",
   "metadata": {},
   "source": [
    "There are 16,601 'NaN' values for the attribute 'New Conviction Offense Sub Type'. This includes instances where there was no recidivism. Convert 'NaN' to 'No New Conviction' for those instances."
   ]
  },
  {
   "cell_type": "code",
   "execution_count": 56,
   "metadata": {
    "collapsed": true
   },
   "outputs": [],
   "source": [
    "recidivism_data[recidivism_data[\"Days to Recidivism\"]=='0'] = recidivism_data.where(recidivism_data[\"Days to Recidivism\"]=='0').replace({\"New Conviction Offense Sub Type\":[np.nan]},{\"New Conviction Offense Sub Type\":'No New Conviction'})"
   ]
  },
  {
   "cell_type": "code",
   "execution_count": 57,
   "metadata": {},
   "outputs": [
    {
     "data": {
      "text/plain": [
       "No New Conviction       14619\n",
       "NaN                      1982\n",
       "Trafficking              1005\n",
       "Assault                   603\n",
       "Theft                     595\n",
       "Burglary                  469\n",
       "Drug Possession           431\n",
       "Other Criminal            376\n",
       "OWI                       298\n",
       "Forgery/Fraud             247\n",
       "Traffic                   182\n",
       "Other Public Order        164\n",
       "Alcohol                   128\n",
       "Flight/Escape             126\n",
       "Weapons                    82\n",
       "Other Violent              68\n",
       "Vandalism                  55\n",
       "Robbery                    52\n",
       "Sex                        44\n",
       "Other Drug                 38\n",
       "Murder/Manslaughter        30\n",
       "Arson                      25\n",
       "Kidnap                     16\n",
       "Prostitution/Pimping        7\n",
       "Animals                     2\n",
       "Other Property              1\n",
       "Stolen Property             1\n",
       "Name: New Conviction Offense Sub Type, dtype: int64"
      ]
     },
     "execution_count": 57,
     "metadata": {},
     "output_type": "execute_result"
    }
   ],
   "source": [
    "recidivism_data['New Conviction Offense Sub Type'].value_counts(dropna=False)"
   ]
  },
  {
   "cell_type": "markdown",
   "metadata": {},
   "source": [
    "Convert the remaining 'NaN' to 'Unknown'"
   ]
  },
  {
   "cell_type": "code",
   "execution_count": 58,
   "metadata": {
    "collapsed": true
   },
   "outputs": [],
   "source": [
    "recidivism_data = recidivism_data.replace({\"New Conviction Offense Sub Type\":[np.nan]},{\"New Conviction Offense Sub Type\":'Unknown'})"
   ]
  },
  {
   "cell_type": "code",
   "execution_count": 59,
   "metadata": {},
   "outputs": [
    {
     "data": {
      "text/plain": [
       "No New Conviction       14619\n",
       "Unknown                  1982\n",
       "Trafficking              1005\n",
       "Assault                   603\n",
       "Theft                     595\n",
       "Burglary                  469\n",
       "Drug Possession           431\n",
       "Other Criminal            376\n",
       "OWI                       298\n",
       "Forgery/Fraud             247\n",
       "Traffic                   182\n",
       "Other Public Order        164\n",
       "Alcohol                   128\n",
       "Flight/Escape             126\n",
       "Weapons                    82\n",
       "Other Violent              68\n",
       "Vandalism                  55\n",
       "Robbery                    52\n",
       "Sex                        44\n",
       "Other Drug                 38\n",
       "Murder/Manslaughter        30\n",
       "Arson                      25\n",
       "Kidnap                     16\n",
       "Prostitution/Pimping        7\n",
       "Animals                     2\n",
       "Other Property              1\n",
       "Stolen Property             1\n",
       "Name: New Conviction Offense Sub Type, dtype: int64"
      ]
     },
     "execution_count": 59,
     "metadata": {},
     "output_type": "execute_result"
    }
   ],
   "source": [
    "recidivism_data['New Conviction Offense Sub Type'].value_counts(dropna=False)"
   ]
  },
  {
   "cell_type": "markdown",
   "metadata": {},
   "source": [
    "**Part of Target Population**"
   ]
  },
  {
   "cell_type": "code",
   "execution_count": 60,
   "metadata": {},
   "outputs": [
    {
     "data": {
      "text/plain": [
       "Yes    11468\n",
       "No     10178\n",
       "Name: Part of Target Population, dtype: int64"
      ]
     },
     "execution_count": 60,
     "metadata": {},
     "output_type": "execute_result"
    }
   ],
   "source": [
    "recidivism_data['Part of Target Population'].value_counts(dropna=False)"
   ]
  },
  {
   "cell_type": "markdown",
   "metadata": {},
   "source": [
    "**Target Population:** Prisoners associated with specific strategies to reduce recidivism rates for offenders supervised as High Normal or Intensive"
   ]
  },
  {
   "cell_type": "code",
   "execution_count": 61,
   "metadata": {},
   "outputs": [
    {
     "data": {
      "text/plain": [
       "(21646, 17)"
      ]
     },
     "execution_count": 61,
     "metadata": {},
     "output_type": "execute_result"
    }
   ],
   "source": [
    "recidivism_data.shape"
   ]
  },
  {
   "cell_type": "code",
   "execution_count": 62,
   "metadata": {
    "collapsed": true
   },
   "outputs": [],
   "source": [
    "recidivism_data = recidivism_data.dropna()"
   ]
  },
  {
   "cell_type": "code",
   "execution_count": 63,
   "metadata": {},
   "outputs": [
    {
     "data": {
      "text/plain": [
       "(21611, 17)"
      ]
     },
     "execution_count": 63,
     "metadata": {},
     "output_type": "execute_result"
    }
   ],
   "source": [
    "recidivism_data.shape"
   ]
  },
  {
   "cell_type": "code",
   "execution_count": 64,
   "metadata": {
    "collapsed": true
   },
   "outputs": [],
   "source": [
    "recidivism_data.to_pickle('RecidivismData_forAnalysis')"
   ]
  },
  {
   "cell_type": "code",
   "execution_count": 65,
   "metadata": {},
   "outputs": [
    {
     "data": {
      "text/plain": [
       "0"
      ]
     },
     "execution_count": 65,
     "metadata": {},
     "output_type": "execute_result"
    }
   ],
   "source": [
    "recidivism_data['Race - Ethnicity'].isnull().sum()"
   ]
  },
  {
   "cell_type": "markdown",
   "metadata": {},
   "source": [
    "**Recidivism Type:**<br/>\n",
    "New = Admission to prison with a new conviction for an offense occuring after being released from prison <br/>\n",
    "Tech = Admission to prison for violation of prison requirenments"
   ]
  },
  {
   "cell_type": "code",
   "execution_count": 66,
   "metadata": {},
   "outputs": [
    {
     "data": {
      "image/png": "[encoded data removed]",
      "text/plain": [
       "<matplotlib.figure.Figure at 0x119c665f8>"
      ]
     },
     "metadata": {},
     "output_type": "display_data"
    }
   ],
   "source": [
    "matplotlib.rcParams['axes.titlepad'] = 20 \n",
    "matplotlib.rcParams['font.size'] = 16\n",
    "#labels = 'New', 'Technical','No'\n",
    "labels = 'Recidivism','No Recidivism'\n",
    "#sizes = [4554, 2473, 14619]\n",
    "sizes = [7027, 14619]\n",
    "colors = ['red','green']\n",
    "plt.pie(sizes, labels=labels, colors=colors,\n",
    "        autopct='%1.1f%%', shadow=True, startangle=140)\n",
    "plt.title('3-Year Recidivism (Iowa)') \n",
    "plt.axis('equal')\n",
    "plt.savefig('recidivism_ratio.eps',format = 'eps',dpi = 1300)\n",
    "plt.show()"
   ]
  },
  {
   "cell_type": "code",
   "execution_count": 67,
   "metadata": {
    "collapsed": true
   },
   "outputs": [],
   "source": [
    "##recidivism_yes = recidivism_data[recidivism_data['Recidivism - Return to Prison'] == 'Yes']"
   ]
  },
  {
   "cell_type": "code",
   "execution_count": 68,
   "metadata": {
    "collapsed": true
   },
   "outputs": [],
   "source": [
    "#recidivism_yes['Days to Recidivism'].value_counts(dropna=False)"
   ]
  },
  {
   "cell_type": "code",
   "execution_count": null,
   "metadata": {
    "collapsed": true
   },
   "outputs": [],
   "source": []
  }
 ],
 "metadata": {
  "kernelspec": {
   "display_name": "Python 3",
   "language": "python",
   "name": "python3"
  },
  "language_info": {
   "codemirror_mode": {
    "name": "ipython",
    "version": 3
   },
   "file_extension": ".py",
   "mimetype": "text/x-python",
   "name": "python",
   "nbconvert_exporter": "python",
   "pygments_lexer": "ipython3",
   "version": "3.6.2"
  }
 },
 "nbformat": 4,
 "nbformat_minor": 2
}
